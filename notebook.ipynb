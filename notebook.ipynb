{
 "cells": [
  {
   "attachments": {},
   "cell_type": "markdown",
   "metadata": {
    "id": "H9wADwK78DCz"
   },
   "source": [
    "# Proyek Analisis Data: [E-Commerce Public Dataset]\n",
    "- **Nama:** Muhammad Tsaqiif Ash-Shiddiq\n",
    "- **Email:** Muhammadtsaqiif.ash@gmail.com\n",
    "- **ID Dicoding:** Muhammad Tsaqiif A\n",
    "- **Cohort ID:** MC299D5Y1770"
   ]
  },
  {
   "cell_type": "markdown",
   "metadata": {
    "id": "eE0raob58DC0"
   },
   "source": [
    "## Menentukan Pertanyaan Bisnis"
   ]
  },
  {
   "attachments": {},
   "cell_type": "markdown",
   "metadata": {
    "id": "GmQeQ5YF8DC0"
   },
   "source": [
    "- Kota mana yang memiliki akumulasi final revenue paling banyak dan paling sedikit?\n",
    "- Di daerah pelanggan mana saja pengiriman mengalami keterlambatan paling banyak?"
   ]
  },
  {
   "cell_type": "markdown",
   "metadata": {
    "id": "H-z4QGlO8DC1"
   },
   "source": [
    "## Import Semua Packages/Library yang Digunakan"
   ]
  },
  {
   "cell_type": "code",
   "execution_count": 1,
   "metadata": {},
   "outputs": [
    {
     "data": {
      "text/plain": [
       "'c:\\\\Users\\\\Asus\\\\.virtualenvs\\\\DBS-Jcyqc6C0\\\\Scripts\\\\python.exe'"
      ]
     },
     "execution_count": 1,
     "metadata": {},
     "output_type": "execute_result"
    }
   ],
   "source": [
    "import sys\n",
    "sys.executable"
   ]
  },
  {
   "cell_type": "code",
   "execution_count": 96,
   "metadata": {
    "id": "FVYwaObI8DC1"
   },
   "outputs": [],
   "source": [
    "import pandas as pd\n",
    "import matplotlib.pyplot as plt\n",
    "import matplotlib.ticker as ticker\n",
    "import seaborn as sns\n",
    "import unicodedata\n",
    "import folium\n",
    "from branca.colormap import linear"
   ]
  },
  {
   "cell_type": "markdown",
   "metadata": {
    "id": "h_Sh51Xy8DC1"
   },
   "source": [
    "## Data Wrangling"
   ]
  },
  {
   "cell_type": "markdown",
   "metadata": {
    "id": "sXU2GBYu8DC1"
   },
   "source": [
    "### Gathering Data"
   ]
  },
  {
   "cell_type": "code",
   "execution_count": 3,
   "metadata": {
    "id": "zjCBk1BI8DC1"
   },
   "outputs": [
    {
     "data": {
      "text/html": [
       "<div>\n",
       "<style scoped>\n",
       "    .dataframe tbody tr th:only-of-type {\n",
       "        vertical-align: middle;\n",
       "    }\n",
       "\n",
       "    .dataframe tbody tr th {\n",
       "        vertical-align: top;\n",
       "    }\n",
       "\n",
       "    .dataframe thead th {\n",
       "        text-align: right;\n",
       "    }\n",
       "</style>\n",
       "<table border=\"1\" class=\"dataframe\">\n",
       "  <thead>\n",
       "    <tr style=\"text-align: right;\">\n",
       "      <th></th>\n",
       "      <th>customer_id</th>\n",
       "      <th>customer_unique_id</th>\n",
       "      <th>customer_zip_code_prefix</th>\n",
       "      <th>customer_city</th>\n",
       "      <th>customer_state</th>\n",
       "    </tr>\n",
       "  </thead>\n",
       "  <tbody>\n",
       "    <tr>\n",
       "      <th>0</th>\n",
       "      <td>06b8999e2fba1a1fbc88172c00ba8bc7</td>\n",
       "      <td>861eff4711a542e4b93843c6dd7febb0</td>\n",
       "      <td>14409</td>\n",
       "      <td>franca</td>\n",
       "      <td>SP</td>\n",
       "    </tr>\n",
       "    <tr>\n",
       "      <th>1</th>\n",
       "      <td>18955e83d337fd6b2def6b18a428ac77</td>\n",
       "      <td>290c77bc529b7ac935b93aa66c333dc3</td>\n",
       "      <td>9790</td>\n",
       "      <td>sao bernardo do campo</td>\n",
       "      <td>SP</td>\n",
       "    </tr>\n",
       "    <tr>\n",
       "      <th>2</th>\n",
       "      <td>4e7b3e00288586ebd08712fdd0374a03</td>\n",
       "      <td>060e732b5b29e8181a18229c7b0b2b5e</td>\n",
       "      <td>1151</td>\n",
       "      <td>sao paulo</td>\n",
       "      <td>SP</td>\n",
       "    </tr>\n",
       "    <tr>\n",
       "      <th>3</th>\n",
       "      <td>b2b6027bc5c5109e529d4dc6358b12c3</td>\n",
       "      <td>259dac757896d24d7702b9acbbff3f3c</td>\n",
       "      <td>8775</td>\n",
       "      <td>mogi das cruzes</td>\n",
       "      <td>SP</td>\n",
       "    </tr>\n",
       "    <tr>\n",
       "      <th>4</th>\n",
       "      <td>4f2d8ab171c80ec8364f7c12e35b23ad</td>\n",
       "      <td>345ecd01c38d18a9036ed96c73b8d066</td>\n",
       "      <td>13056</td>\n",
       "      <td>campinas</td>\n",
       "      <td>SP</td>\n",
       "    </tr>\n",
       "  </tbody>\n",
       "</table>\n",
       "</div>"
      ],
      "text/plain": [
       "                        customer_id                customer_unique_id  \\\n",
       "0  06b8999e2fba1a1fbc88172c00ba8bc7  861eff4711a542e4b93843c6dd7febb0   \n",
       "1  18955e83d337fd6b2def6b18a428ac77  290c77bc529b7ac935b93aa66c333dc3   \n",
       "2  4e7b3e00288586ebd08712fdd0374a03  060e732b5b29e8181a18229c7b0b2b5e   \n",
       "3  b2b6027bc5c5109e529d4dc6358b12c3  259dac757896d24d7702b9acbbff3f3c   \n",
       "4  4f2d8ab171c80ec8364f7c12e35b23ad  345ecd01c38d18a9036ed96c73b8d066   \n",
       "\n",
       "   customer_zip_code_prefix          customer_city customer_state  \n",
       "0                     14409                 franca             SP  \n",
       "1                      9790  sao bernardo do campo             SP  \n",
       "2                      1151              sao paulo             SP  \n",
       "3                      8775        mogi das cruzes             SP  \n",
       "4                     13056               campinas             SP  "
      ]
     },
     "execution_count": 3,
     "metadata": {},
     "output_type": "execute_result"
    }
   ],
   "source": [
    "customers_df = pd.read_csv(\"data\\\\customers_dataset.csv\")\n",
    "customers_df.head()"
   ]
  },
  {
   "attachments": {},
   "cell_type": "markdown",
   "metadata": {
    "id": "MMi6xGaDkbCi"
   },
   "source": [
    "**Insight:**\n",
    "- Customer city sepertinya berasal dari negara Brazil\n",
    "- Customer memiliki 2(dua) id yaitu customer_id dan customer_unique_id\n",
    "- 1(satu) customer_unique_id bisa memiliki **lebih dari** 1(satu) customer_id"
   ]
  },
  {
   "cell_type": "code",
   "execution_count": 4,
   "metadata": {},
   "outputs": [
    {
     "data": {
      "text/html": [
       "<div>\n",
       "<style scoped>\n",
       "    .dataframe tbody tr th:only-of-type {\n",
       "        vertical-align: middle;\n",
       "    }\n",
       "\n",
       "    .dataframe tbody tr th {\n",
       "        vertical-align: top;\n",
       "    }\n",
       "\n",
       "    .dataframe thead th {\n",
       "        text-align: right;\n",
       "    }\n",
       "</style>\n",
       "<table border=\"1\" class=\"dataframe\">\n",
       "  <thead>\n",
       "    <tr style=\"text-align: right;\">\n",
       "      <th></th>\n",
       "      <th>geolocation_zip_code_prefix</th>\n",
       "      <th>geolocation_lat</th>\n",
       "      <th>geolocation_lng</th>\n",
       "      <th>geolocation_city</th>\n",
       "      <th>geolocation_state</th>\n",
       "    </tr>\n",
       "  </thead>\n",
       "  <tbody>\n",
       "    <tr>\n",
       "      <th>0</th>\n",
       "      <td>1037</td>\n",
       "      <td>-23.545621</td>\n",
       "      <td>-46.639292</td>\n",
       "      <td>sao paulo</td>\n",
       "      <td>SP</td>\n",
       "    </tr>\n",
       "    <tr>\n",
       "      <th>1</th>\n",
       "      <td>1046</td>\n",
       "      <td>-23.546081</td>\n",
       "      <td>-46.644820</td>\n",
       "      <td>sao paulo</td>\n",
       "      <td>SP</td>\n",
       "    </tr>\n",
       "    <tr>\n",
       "      <th>2</th>\n",
       "      <td>1046</td>\n",
       "      <td>-23.546129</td>\n",
       "      <td>-46.642951</td>\n",
       "      <td>sao paulo</td>\n",
       "      <td>SP</td>\n",
       "    </tr>\n",
       "    <tr>\n",
       "      <th>3</th>\n",
       "      <td>1041</td>\n",
       "      <td>-23.544392</td>\n",
       "      <td>-46.639499</td>\n",
       "      <td>sao paulo</td>\n",
       "      <td>SP</td>\n",
       "    </tr>\n",
       "    <tr>\n",
       "      <th>4</th>\n",
       "      <td>1035</td>\n",
       "      <td>-23.541578</td>\n",
       "      <td>-46.641607</td>\n",
       "      <td>sao paulo</td>\n",
       "      <td>SP</td>\n",
       "    </tr>\n",
       "  </tbody>\n",
       "</table>\n",
       "</div>"
      ],
      "text/plain": [
       "   geolocation_zip_code_prefix  geolocation_lat  geolocation_lng  \\\n",
       "0                         1037       -23.545621       -46.639292   \n",
       "1                         1046       -23.546081       -46.644820   \n",
       "2                         1046       -23.546129       -46.642951   \n",
       "3                         1041       -23.544392       -46.639499   \n",
       "4                         1035       -23.541578       -46.641607   \n",
       "\n",
       "  geolocation_city geolocation_state  \n",
       "0        sao paulo                SP  \n",
       "1        sao paulo                SP  \n",
       "2        sao paulo                SP  \n",
       "3        sao paulo                SP  \n",
       "4        sao paulo                SP  "
      ]
     },
     "execution_count": 4,
     "metadata": {},
     "output_type": "execute_result"
    }
   ],
   "source": [
    "geolocation_df = pd.read_csv(\"data\\\\geolocation_dataset.csv\")\n",
    "geolocation_df.head()"
   ]
  },
  {
   "attachments": {},
   "cell_type": "markdown",
   "metadata": {
    "id": "MMi6xGaDkbCi"
   },
   "source": [
    "**Insight:**\n",
    "- Dataset ini berisi geolocation berdasarkan **zip_code_prefix**\n",
    "- State pada geolocation menggunakan kode state"
   ]
  },
  {
   "cell_type": "code",
   "execution_count": 5,
   "metadata": {},
   "outputs": [
    {
     "data": {
      "text/html": [
       "<div>\n",
       "<style scoped>\n",
       "    .dataframe tbody tr th:only-of-type {\n",
       "        vertical-align: middle;\n",
       "    }\n",
       "\n",
       "    .dataframe tbody tr th {\n",
       "        vertical-align: top;\n",
       "    }\n",
       "\n",
       "    .dataframe thead th {\n",
       "        text-align: right;\n",
       "    }\n",
       "</style>\n",
       "<table border=\"1\" class=\"dataframe\">\n",
       "  <thead>\n",
       "    <tr style=\"text-align: right;\">\n",
       "      <th></th>\n",
       "      <th>order_id</th>\n",
       "      <th>customer_id</th>\n",
       "      <th>order_status</th>\n",
       "      <th>order_purchase_timestamp</th>\n",
       "      <th>order_approved_at</th>\n",
       "      <th>order_delivered_carrier_date</th>\n",
       "      <th>order_delivered_customer_date</th>\n",
       "      <th>order_estimated_delivery_date</th>\n",
       "    </tr>\n",
       "  </thead>\n",
       "  <tbody>\n",
       "    <tr>\n",
       "      <th>0</th>\n",
       "      <td>e481f51cbdc54678b7cc49136f2d6af7</td>\n",
       "      <td>9ef432eb6251297304e76186b10a928d</td>\n",
       "      <td>delivered</td>\n",
       "      <td>2017-10-02 10:56:33</td>\n",
       "      <td>2017-10-02 11:07:15</td>\n",
       "      <td>2017-10-04 19:55:00</td>\n",
       "      <td>2017-10-10 21:25:13</td>\n",
       "      <td>2017-10-18 00:00:00</td>\n",
       "    </tr>\n",
       "    <tr>\n",
       "      <th>1</th>\n",
       "      <td>53cdb2fc8bc7dce0b6741e2150273451</td>\n",
       "      <td>b0830fb4747a6c6d20dea0b8c802d7ef</td>\n",
       "      <td>delivered</td>\n",
       "      <td>2018-07-24 20:41:37</td>\n",
       "      <td>2018-07-26 03:24:27</td>\n",
       "      <td>2018-07-26 14:31:00</td>\n",
       "      <td>2018-08-07 15:27:45</td>\n",
       "      <td>2018-08-13 00:00:00</td>\n",
       "    </tr>\n",
       "    <tr>\n",
       "      <th>2</th>\n",
       "      <td>47770eb9100c2d0c44946d9cf07ec65d</td>\n",
       "      <td>41ce2a54c0b03bf3443c3d931a367089</td>\n",
       "      <td>delivered</td>\n",
       "      <td>2018-08-08 08:38:49</td>\n",
       "      <td>2018-08-08 08:55:23</td>\n",
       "      <td>2018-08-08 13:50:00</td>\n",
       "      <td>2018-08-17 18:06:29</td>\n",
       "      <td>2018-09-04 00:00:00</td>\n",
       "    </tr>\n",
       "    <tr>\n",
       "      <th>3</th>\n",
       "      <td>949d5b44dbf5de918fe9c16f97b45f8a</td>\n",
       "      <td>f88197465ea7920adcdbec7375364d82</td>\n",
       "      <td>delivered</td>\n",
       "      <td>2017-11-18 19:28:06</td>\n",
       "      <td>2017-11-18 19:45:59</td>\n",
       "      <td>2017-11-22 13:39:59</td>\n",
       "      <td>2017-12-02 00:28:42</td>\n",
       "      <td>2017-12-15 00:00:00</td>\n",
       "    </tr>\n",
       "    <tr>\n",
       "      <th>4</th>\n",
       "      <td>ad21c59c0840e6cb83a9ceb5573f8159</td>\n",
       "      <td>8ab97904e6daea8866dbdbc4fb7aad2c</td>\n",
       "      <td>delivered</td>\n",
       "      <td>2018-02-13 21:18:39</td>\n",
       "      <td>2018-02-13 22:20:29</td>\n",
       "      <td>2018-02-14 19:46:34</td>\n",
       "      <td>2018-02-16 18:17:02</td>\n",
       "      <td>2018-02-26 00:00:00</td>\n",
       "    </tr>\n",
       "  </tbody>\n",
       "</table>\n",
       "</div>"
      ],
      "text/plain": [
       "                           order_id                       customer_id  \\\n",
       "0  e481f51cbdc54678b7cc49136f2d6af7  9ef432eb6251297304e76186b10a928d   \n",
       "1  53cdb2fc8bc7dce0b6741e2150273451  b0830fb4747a6c6d20dea0b8c802d7ef   \n",
       "2  47770eb9100c2d0c44946d9cf07ec65d  41ce2a54c0b03bf3443c3d931a367089   \n",
       "3  949d5b44dbf5de918fe9c16f97b45f8a  f88197465ea7920adcdbec7375364d82   \n",
       "4  ad21c59c0840e6cb83a9ceb5573f8159  8ab97904e6daea8866dbdbc4fb7aad2c   \n",
       "\n",
       "  order_status order_purchase_timestamp    order_approved_at  \\\n",
       "0    delivered      2017-10-02 10:56:33  2017-10-02 11:07:15   \n",
       "1    delivered      2018-07-24 20:41:37  2018-07-26 03:24:27   \n",
       "2    delivered      2018-08-08 08:38:49  2018-08-08 08:55:23   \n",
       "3    delivered      2017-11-18 19:28:06  2017-11-18 19:45:59   \n",
       "4    delivered      2018-02-13 21:18:39  2018-02-13 22:20:29   \n",
       "\n",
       "  order_delivered_carrier_date order_delivered_customer_date  \\\n",
       "0          2017-10-04 19:55:00           2017-10-10 21:25:13   \n",
       "1          2018-07-26 14:31:00           2018-08-07 15:27:45   \n",
       "2          2018-08-08 13:50:00           2018-08-17 18:06:29   \n",
       "3          2017-11-22 13:39:59           2017-12-02 00:28:42   \n",
       "4          2018-02-14 19:46:34           2018-02-16 18:17:02   \n",
       "\n",
       "  order_estimated_delivery_date  \n",
       "0           2017-10-18 00:00:00  \n",
       "1           2018-08-13 00:00:00  \n",
       "2           2018-09-04 00:00:00  \n",
       "3           2017-12-15 00:00:00  \n",
       "4           2018-02-26 00:00:00  "
      ]
     },
     "execution_count": 5,
     "metadata": {},
     "output_type": "execute_result"
    }
   ],
   "source": [
    "orders_df = pd.read_csv(\"data\\\\orders_dataset.csv\")\n",
    "orders_df.head()"
   ]
  },
  {
   "attachments": {},
   "cell_type": "markdown",
   "metadata": {},
   "source": [
    "**Insight:**\n",
    "- Dataset orders mengambil foreign key DF customer melalui customer_id bukan customer_unique_id\n",
    "- Terdapat beberapa datetime yang digunakan yaitu tgl pembelian, tgl pesanan disetujui, tgl pesanan dikirim oleh kurir, tgl pesanan diterima pelanggan, tgl estimasi pengiriman pesanan"
   ]
  },
  {
   "cell_type": "code",
   "execution_count": 6,
   "metadata": {},
   "outputs": [
    {
     "data": {
      "text/html": [
       "<div>\n",
       "<style scoped>\n",
       "    .dataframe tbody tr th:only-of-type {\n",
       "        vertical-align: middle;\n",
       "    }\n",
       "\n",
       "    .dataframe tbody tr th {\n",
       "        vertical-align: top;\n",
       "    }\n",
       "\n",
       "    .dataframe thead th {\n",
       "        text-align: right;\n",
       "    }\n",
       "</style>\n",
       "<table border=\"1\" class=\"dataframe\">\n",
       "  <thead>\n",
       "    <tr style=\"text-align: right;\">\n",
       "      <th></th>\n",
       "      <th>order_id</th>\n",
       "      <th>order_item_id</th>\n",
       "      <th>product_id</th>\n",
       "      <th>seller_id</th>\n",
       "      <th>shipping_limit_date</th>\n",
       "      <th>price</th>\n",
       "      <th>freight_value</th>\n",
       "    </tr>\n",
       "  </thead>\n",
       "  <tbody>\n",
       "    <tr>\n",
       "      <th>0</th>\n",
       "      <td>00010242fe8c5a6d1ba2dd792cb16214</td>\n",
       "      <td>1</td>\n",
       "      <td>4244733e06e7ecb4970a6e2683c13e61</td>\n",
       "      <td>48436dade18ac8b2bce089ec2a041202</td>\n",
       "      <td>2017-09-19 09:45:35</td>\n",
       "      <td>58.90</td>\n",
       "      <td>13.29</td>\n",
       "    </tr>\n",
       "    <tr>\n",
       "      <th>1</th>\n",
       "      <td>00018f77f2f0320c557190d7a144bdd3</td>\n",
       "      <td>1</td>\n",
       "      <td>e5f2d52b802189ee658865ca93d83a8f</td>\n",
       "      <td>dd7ddc04e1b6c2c614352b383efe2d36</td>\n",
       "      <td>2017-05-03 11:05:13</td>\n",
       "      <td>239.90</td>\n",
       "      <td>19.93</td>\n",
       "    </tr>\n",
       "    <tr>\n",
       "      <th>2</th>\n",
       "      <td>000229ec398224ef6ca0657da4fc703e</td>\n",
       "      <td>1</td>\n",
       "      <td>c777355d18b72b67abbeef9df44fd0fd</td>\n",
       "      <td>5b51032eddd242adc84c38acab88f23d</td>\n",
       "      <td>2018-01-18 14:48:30</td>\n",
       "      <td>199.00</td>\n",
       "      <td>17.87</td>\n",
       "    </tr>\n",
       "    <tr>\n",
       "      <th>3</th>\n",
       "      <td>00024acbcdf0a6daa1e931b038114c75</td>\n",
       "      <td>1</td>\n",
       "      <td>7634da152a4610f1595efa32f14722fc</td>\n",
       "      <td>9d7a1d34a5052409006425275ba1c2b4</td>\n",
       "      <td>2018-08-15 10:10:18</td>\n",
       "      <td>12.99</td>\n",
       "      <td>12.79</td>\n",
       "    </tr>\n",
       "    <tr>\n",
       "      <th>4</th>\n",
       "      <td>00042b26cf59d7ce69dfabb4e55b4fd9</td>\n",
       "      <td>1</td>\n",
       "      <td>ac6c3623068f30de03045865e4e10089</td>\n",
       "      <td>df560393f3a51e74553ab94004ba5c87</td>\n",
       "      <td>2017-02-13 13:57:51</td>\n",
       "      <td>199.90</td>\n",
       "      <td>18.14</td>\n",
       "    </tr>\n",
       "    <tr>\n",
       "      <th>5</th>\n",
       "      <td>00048cc3ae777c65dbb7d2a0634bc1ea</td>\n",
       "      <td>1</td>\n",
       "      <td>ef92defde845ab8450f9d70c526ef70f</td>\n",
       "      <td>6426d21aca402a131fc0a5d0960a3c90</td>\n",
       "      <td>2017-05-23 03:55:27</td>\n",
       "      <td>21.90</td>\n",
       "      <td>12.69</td>\n",
       "    </tr>\n",
       "    <tr>\n",
       "      <th>6</th>\n",
       "      <td>00054e8431b9d7675808bcb819fb4a32</td>\n",
       "      <td>1</td>\n",
       "      <td>8d4f2bb7e93e6710a28f34fa83ee7d28</td>\n",
       "      <td>7040e82f899a04d1b434b795a43b4617</td>\n",
       "      <td>2017-12-14 12:10:31</td>\n",
       "      <td>19.90</td>\n",
       "      <td>11.85</td>\n",
       "    </tr>\n",
       "    <tr>\n",
       "      <th>7</th>\n",
       "      <td>000576fe39319847cbb9d288c5617fa6</td>\n",
       "      <td>1</td>\n",
       "      <td>557d850972a7d6f792fd18ae1400d9b6</td>\n",
       "      <td>5996cddab893a4652a15592fb58ab8db</td>\n",
       "      <td>2018-07-10 12:30:45</td>\n",
       "      <td>810.00</td>\n",
       "      <td>70.75</td>\n",
       "    </tr>\n",
       "    <tr>\n",
       "      <th>8</th>\n",
       "      <td>0005a1a1728c9d785b8e2b08b904576c</td>\n",
       "      <td>1</td>\n",
       "      <td>310ae3c140ff94b03219ad0adc3c778f</td>\n",
       "      <td>a416b6a846a11724393025641d4edd5e</td>\n",
       "      <td>2018-03-26 18:31:29</td>\n",
       "      <td>145.95</td>\n",
       "      <td>11.65</td>\n",
       "    </tr>\n",
       "    <tr>\n",
       "      <th>9</th>\n",
       "      <td>0005f50442cb953dcd1d21e1fb923495</td>\n",
       "      <td>1</td>\n",
       "      <td>4535b0e1091c278dfd193e5a1d63b39f</td>\n",
       "      <td>ba143b05f0110f0dc71ad71b4466ce92</td>\n",
       "      <td>2018-07-06 14:10:56</td>\n",
       "      <td>53.99</td>\n",
       "      <td>11.40</td>\n",
       "    </tr>\n",
       "  </tbody>\n",
       "</table>\n",
       "</div>"
      ],
      "text/plain": [
       "                           order_id  order_item_id  \\\n",
       "0  00010242fe8c5a6d1ba2dd792cb16214              1   \n",
       "1  00018f77f2f0320c557190d7a144bdd3              1   \n",
       "2  000229ec398224ef6ca0657da4fc703e              1   \n",
       "3  00024acbcdf0a6daa1e931b038114c75              1   \n",
       "4  00042b26cf59d7ce69dfabb4e55b4fd9              1   \n",
       "5  00048cc3ae777c65dbb7d2a0634bc1ea              1   \n",
       "6  00054e8431b9d7675808bcb819fb4a32              1   \n",
       "7  000576fe39319847cbb9d288c5617fa6              1   \n",
       "8  0005a1a1728c9d785b8e2b08b904576c              1   \n",
       "9  0005f50442cb953dcd1d21e1fb923495              1   \n",
       "\n",
       "                         product_id                         seller_id  \\\n",
       "0  4244733e06e7ecb4970a6e2683c13e61  48436dade18ac8b2bce089ec2a041202   \n",
       "1  e5f2d52b802189ee658865ca93d83a8f  dd7ddc04e1b6c2c614352b383efe2d36   \n",
       "2  c777355d18b72b67abbeef9df44fd0fd  5b51032eddd242adc84c38acab88f23d   \n",
       "3  7634da152a4610f1595efa32f14722fc  9d7a1d34a5052409006425275ba1c2b4   \n",
       "4  ac6c3623068f30de03045865e4e10089  df560393f3a51e74553ab94004ba5c87   \n",
       "5  ef92defde845ab8450f9d70c526ef70f  6426d21aca402a131fc0a5d0960a3c90   \n",
       "6  8d4f2bb7e93e6710a28f34fa83ee7d28  7040e82f899a04d1b434b795a43b4617   \n",
       "7  557d850972a7d6f792fd18ae1400d9b6  5996cddab893a4652a15592fb58ab8db   \n",
       "8  310ae3c140ff94b03219ad0adc3c778f  a416b6a846a11724393025641d4edd5e   \n",
       "9  4535b0e1091c278dfd193e5a1d63b39f  ba143b05f0110f0dc71ad71b4466ce92   \n",
       "\n",
       "   shipping_limit_date   price  freight_value  \n",
       "0  2017-09-19 09:45:35   58.90          13.29  \n",
       "1  2017-05-03 11:05:13  239.90          19.93  \n",
       "2  2018-01-18 14:48:30  199.00          17.87  \n",
       "3  2018-08-15 10:10:18   12.99          12.79  \n",
       "4  2017-02-13 13:57:51  199.90          18.14  \n",
       "5  2017-05-23 03:55:27   21.90          12.69  \n",
       "6  2017-12-14 12:10:31   19.90          11.85  \n",
       "7  2018-07-10 12:30:45  810.00          70.75  \n",
       "8  2018-03-26 18:31:29  145.95          11.65  \n",
       "9  2018-07-06 14:10:56   53.99          11.40  "
      ]
     },
     "execution_count": 6,
     "metadata": {},
     "output_type": "execute_result"
    }
   ],
   "source": [
    "order_items_df = pd.read_csv(\"data\\\\order_items_dataset.csv\")\n",
    "order_items_df.head(10)"
   ]
  },
  {
   "attachments": {},
   "cell_type": "markdown",
   "metadata": {},
   "source": [
    "**Insight:**\n",
    "- DF order_items mengambil foreign key order_id dan memiliki primary key di product_id\n",
    "- Setiap product_id memiliki seller_id, Bisa saja seller_id memiliki **lebih dari** 1(satu) product_id"
   ]
  },
  {
   "cell_type": "code",
   "execution_count": 7,
   "metadata": {},
   "outputs": [
    {
     "data": {
      "text/html": [
       "<div>\n",
       "<style scoped>\n",
       "    .dataframe tbody tr th:only-of-type {\n",
       "        vertical-align: middle;\n",
       "    }\n",
       "\n",
       "    .dataframe tbody tr th {\n",
       "        vertical-align: top;\n",
       "    }\n",
       "\n",
       "    .dataframe thead th {\n",
       "        text-align: right;\n",
       "    }\n",
       "</style>\n",
       "<table border=\"1\" class=\"dataframe\">\n",
       "  <thead>\n",
       "    <tr style=\"text-align: right;\">\n",
       "      <th></th>\n",
       "      <th>order_id</th>\n",
       "      <th>payment_sequential</th>\n",
       "      <th>payment_type</th>\n",
       "      <th>payment_installments</th>\n",
       "      <th>payment_value</th>\n",
       "    </tr>\n",
       "  </thead>\n",
       "  <tbody>\n",
       "    <tr>\n",
       "      <th>0</th>\n",
       "      <td>b81ef226f3fe1789b1e8b2acac839d17</td>\n",
       "      <td>1</td>\n",
       "      <td>credit_card</td>\n",
       "      <td>8</td>\n",
       "      <td>99.33</td>\n",
       "    </tr>\n",
       "    <tr>\n",
       "      <th>1</th>\n",
       "      <td>a9810da82917af2d9aefd1278f1dcfa0</td>\n",
       "      <td>1</td>\n",
       "      <td>credit_card</td>\n",
       "      <td>1</td>\n",
       "      <td>24.39</td>\n",
       "    </tr>\n",
       "    <tr>\n",
       "      <th>2</th>\n",
       "      <td>25e8ea4e93396b6fa0d3dd708e76c1bd</td>\n",
       "      <td>1</td>\n",
       "      <td>credit_card</td>\n",
       "      <td>1</td>\n",
       "      <td>65.71</td>\n",
       "    </tr>\n",
       "    <tr>\n",
       "      <th>3</th>\n",
       "      <td>ba78997921bbcdc1373bb41e913ab953</td>\n",
       "      <td>1</td>\n",
       "      <td>credit_card</td>\n",
       "      <td>8</td>\n",
       "      <td>107.78</td>\n",
       "    </tr>\n",
       "    <tr>\n",
       "      <th>4</th>\n",
       "      <td>42fdf880ba16b47b59251dd489d4441a</td>\n",
       "      <td>1</td>\n",
       "      <td>credit_card</td>\n",
       "      <td>2</td>\n",
       "      <td>128.45</td>\n",
       "    </tr>\n",
       "  </tbody>\n",
       "</table>\n",
       "</div>"
      ],
      "text/plain": [
       "                           order_id  payment_sequential payment_type  \\\n",
       "0  b81ef226f3fe1789b1e8b2acac839d17                   1  credit_card   \n",
       "1  a9810da82917af2d9aefd1278f1dcfa0                   1  credit_card   \n",
       "2  25e8ea4e93396b6fa0d3dd708e76c1bd                   1  credit_card   \n",
       "3  ba78997921bbcdc1373bb41e913ab953                   1  credit_card   \n",
       "4  42fdf880ba16b47b59251dd489d4441a                   1  credit_card   \n",
       "\n",
       "   payment_installments  payment_value  \n",
       "0                     8          99.33  \n",
       "1                     1          24.39  \n",
       "2                     1          65.71  \n",
       "3                     8         107.78  \n",
       "4                     2         128.45  "
      ]
     },
     "execution_count": 7,
     "metadata": {},
     "output_type": "execute_result"
    }
   ],
   "source": [
    "order_payments_df = pd.read_csv(\"data\\\\order_payments_dataset.csv\")\n",
    "order_payments_df.head()"
   ]
  },
  {
   "attachments": {},
   "cell_type": "markdown",
   "metadata": {},
   "source": [
    "**Insight:**\n",
    "- Payment mengambil foreign key order_id\n",
    "- Payment type yang disediakan yaitu credit_card, boleto, voucher, debit_card, not_defined\n",
    "- Payment installment paling banyak di 24 bulan"
   ]
  },
  {
   "cell_type": "code",
   "execution_count": 8,
   "metadata": {},
   "outputs": [
    {
     "data": {
      "text/html": [
       "<div>\n",
       "<style scoped>\n",
       "    .dataframe tbody tr th:only-of-type {\n",
       "        vertical-align: middle;\n",
       "    }\n",
       "\n",
       "    .dataframe tbody tr th {\n",
       "        vertical-align: top;\n",
       "    }\n",
       "\n",
       "    .dataframe thead th {\n",
       "        text-align: right;\n",
       "    }\n",
       "</style>\n",
       "<table border=\"1\" class=\"dataframe\">\n",
       "  <thead>\n",
       "    <tr style=\"text-align: right;\">\n",
       "      <th></th>\n",
       "      <th>review_id</th>\n",
       "      <th>order_id</th>\n",
       "      <th>review_score</th>\n",
       "      <th>review_comment_title</th>\n",
       "      <th>review_comment_message</th>\n",
       "      <th>review_creation_date</th>\n",
       "      <th>review_answer_timestamp</th>\n",
       "    </tr>\n",
       "  </thead>\n",
       "  <tbody>\n",
       "    <tr>\n",
       "      <th>0</th>\n",
       "      <td>7bc2406110b926393aa56f80a40eba40</td>\n",
       "      <td>73fc7af87114b39712e6da79b0a377eb</td>\n",
       "      <td>4</td>\n",
       "      <td>NaN</td>\n",
       "      <td>NaN</td>\n",
       "      <td>2018-01-18 00:00:00</td>\n",
       "      <td>2018-01-18 21:46:59</td>\n",
       "    </tr>\n",
       "    <tr>\n",
       "      <th>1</th>\n",
       "      <td>80e641a11e56f04c1ad469d5645fdfde</td>\n",
       "      <td>a548910a1c6147796b98fdf73dbeba33</td>\n",
       "      <td>5</td>\n",
       "      <td>NaN</td>\n",
       "      <td>NaN</td>\n",
       "      <td>2018-03-10 00:00:00</td>\n",
       "      <td>2018-03-11 03:05:13</td>\n",
       "    </tr>\n",
       "    <tr>\n",
       "      <th>2</th>\n",
       "      <td>228ce5500dc1d8e020d8d1322874b6f0</td>\n",
       "      <td>f9e4b658b201a9f2ecdecbb34bed034b</td>\n",
       "      <td>5</td>\n",
       "      <td>NaN</td>\n",
       "      <td>NaN</td>\n",
       "      <td>2018-02-17 00:00:00</td>\n",
       "      <td>2018-02-18 14:36:24</td>\n",
       "    </tr>\n",
       "    <tr>\n",
       "      <th>3</th>\n",
       "      <td>e64fb393e7b32834bb789ff8bb30750e</td>\n",
       "      <td>658677c97b385a9be170737859d3511b</td>\n",
       "      <td>5</td>\n",
       "      <td>NaN</td>\n",
       "      <td>Recebi bem antes do prazo estipulado.</td>\n",
       "      <td>2017-04-21 00:00:00</td>\n",
       "      <td>2017-04-21 22:02:06</td>\n",
       "    </tr>\n",
       "    <tr>\n",
       "      <th>4</th>\n",
       "      <td>f7c4243c7fe1938f181bec41a392bdeb</td>\n",
       "      <td>8e6bfb81e283fa7e4f11123a3fb894f1</td>\n",
       "      <td>5</td>\n",
       "      <td>NaN</td>\n",
       "      <td>Parabéns lojas lannister adorei comprar pela I...</td>\n",
       "      <td>2018-03-01 00:00:00</td>\n",
       "      <td>2018-03-02 10:26:53</td>\n",
       "    </tr>\n",
       "  </tbody>\n",
       "</table>\n",
       "</div>"
      ],
      "text/plain": [
       "                          review_id                          order_id  \\\n",
       "0  7bc2406110b926393aa56f80a40eba40  73fc7af87114b39712e6da79b0a377eb   \n",
       "1  80e641a11e56f04c1ad469d5645fdfde  a548910a1c6147796b98fdf73dbeba33   \n",
       "2  228ce5500dc1d8e020d8d1322874b6f0  f9e4b658b201a9f2ecdecbb34bed034b   \n",
       "3  e64fb393e7b32834bb789ff8bb30750e  658677c97b385a9be170737859d3511b   \n",
       "4  f7c4243c7fe1938f181bec41a392bdeb  8e6bfb81e283fa7e4f11123a3fb894f1   \n",
       "\n",
       "   review_score review_comment_title  \\\n",
       "0             4                  NaN   \n",
       "1             5                  NaN   \n",
       "2             5                  NaN   \n",
       "3             5                  NaN   \n",
       "4             5                  NaN   \n",
       "\n",
       "                              review_comment_message review_creation_date  \\\n",
       "0                                                NaN  2018-01-18 00:00:00   \n",
       "1                                                NaN  2018-03-10 00:00:00   \n",
       "2                                                NaN  2018-02-17 00:00:00   \n",
       "3              Recebi bem antes do prazo estipulado.  2017-04-21 00:00:00   \n",
       "4  Parabéns lojas lannister adorei comprar pela I...  2018-03-01 00:00:00   \n",
       "\n",
       "  review_answer_timestamp  \n",
       "0     2018-01-18 21:46:59  \n",
       "1     2018-03-11 03:05:13  \n",
       "2     2018-02-18 14:36:24  \n",
       "3     2017-04-21 22:02:06  \n",
       "4     2018-03-02 10:26:53  "
      ]
     },
     "execution_count": 8,
     "metadata": {},
     "output_type": "execute_result"
    }
   ],
   "source": [
    "order_reviews_df = pd.read_csv(\"data\\\\order_reviews_dataset.csv\")\n",
    "order_reviews_df.head()"
   ]
  },
  {
   "attachments": {},
   "cell_type": "markdown",
   "metadata": {},
   "source": [
    "**Insight:**\n",
    "- Memiliki review_id sebagai primary dan mengambil order_id sebagai foreign key\n",
    "- Isi review terdapat score, comment title, comment message\n",
    "- Tgl yang dicantumkan ada Tanggal ulasan dibuat oleh pelanggan, dan Tanggal ulasan dibalas oleh sistem atau penjual"
   ]
  },
  {
   "cell_type": "code",
   "execution_count": 9,
   "metadata": {},
   "outputs": [
    {
     "data": {
      "text/html": [
       "<div>\n",
       "<style scoped>\n",
       "    .dataframe tbody tr th:only-of-type {\n",
       "        vertical-align: middle;\n",
       "    }\n",
       "\n",
       "    .dataframe tbody tr th {\n",
       "        vertical-align: top;\n",
       "    }\n",
       "\n",
       "    .dataframe thead th {\n",
       "        text-align: right;\n",
       "    }\n",
       "</style>\n",
       "<table border=\"1\" class=\"dataframe\">\n",
       "  <thead>\n",
       "    <tr style=\"text-align: right;\">\n",
       "      <th></th>\n",
       "      <th>product_id</th>\n",
       "      <th>product_category_name</th>\n",
       "      <th>product_name_lenght</th>\n",
       "      <th>product_description_lenght</th>\n",
       "      <th>product_photos_qty</th>\n",
       "      <th>product_weight_g</th>\n",
       "      <th>product_length_cm</th>\n",
       "      <th>product_height_cm</th>\n",
       "      <th>product_width_cm</th>\n",
       "    </tr>\n",
       "  </thead>\n",
       "  <tbody>\n",
       "    <tr>\n",
       "      <th>0</th>\n",
       "      <td>1e9e8ef04dbcff4541ed26657ea517e5</td>\n",
       "      <td>perfumaria</td>\n",
       "      <td>40.0</td>\n",
       "      <td>287.0</td>\n",
       "      <td>1.0</td>\n",
       "      <td>225.0</td>\n",
       "      <td>16.0</td>\n",
       "      <td>10.0</td>\n",
       "      <td>14.0</td>\n",
       "    </tr>\n",
       "    <tr>\n",
       "      <th>1</th>\n",
       "      <td>3aa071139cb16b67ca9e5dea641aaa2f</td>\n",
       "      <td>artes</td>\n",
       "      <td>44.0</td>\n",
       "      <td>276.0</td>\n",
       "      <td>1.0</td>\n",
       "      <td>1000.0</td>\n",
       "      <td>30.0</td>\n",
       "      <td>18.0</td>\n",
       "      <td>20.0</td>\n",
       "    </tr>\n",
       "    <tr>\n",
       "      <th>2</th>\n",
       "      <td>96bd76ec8810374ed1b65e291975717f</td>\n",
       "      <td>esporte_lazer</td>\n",
       "      <td>46.0</td>\n",
       "      <td>250.0</td>\n",
       "      <td>1.0</td>\n",
       "      <td>154.0</td>\n",
       "      <td>18.0</td>\n",
       "      <td>9.0</td>\n",
       "      <td>15.0</td>\n",
       "    </tr>\n",
       "    <tr>\n",
       "      <th>3</th>\n",
       "      <td>cef67bcfe19066a932b7673e239eb23d</td>\n",
       "      <td>bebes</td>\n",
       "      <td>27.0</td>\n",
       "      <td>261.0</td>\n",
       "      <td>1.0</td>\n",
       "      <td>371.0</td>\n",
       "      <td>26.0</td>\n",
       "      <td>4.0</td>\n",
       "      <td>26.0</td>\n",
       "    </tr>\n",
       "    <tr>\n",
       "      <th>4</th>\n",
       "      <td>9dc1a7de274444849c219cff195d0b71</td>\n",
       "      <td>utilidades_domesticas</td>\n",
       "      <td>37.0</td>\n",
       "      <td>402.0</td>\n",
       "      <td>4.0</td>\n",
       "      <td>625.0</td>\n",
       "      <td>20.0</td>\n",
       "      <td>17.0</td>\n",
       "      <td>13.0</td>\n",
       "    </tr>\n",
       "  </tbody>\n",
       "</table>\n",
       "</div>"
      ],
      "text/plain": [
       "                         product_id  product_category_name  \\\n",
       "0  1e9e8ef04dbcff4541ed26657ea517e5             perfumaria   \n",
       "1  3aa071139cb16b67ca9e5dea641aaa2f                  artes   \n",
       "2  96bd76ec8810374ed1b65e291975717f          esporte_lazer   \n",
       "3  cef67bcfe19066a932b7673e239eb23d                  bebes   \n",
       "4  9dc1a7de274444849c219cff195d0b71  utilidades_domesticas   \n",
       "\n",
       "   product_name_lenght  product_description_lenght  product_photos_qty  \\\n",
       "0                 40.0                       287.0                 1.0   \n",
       "1                 44.0                       276.0                 1.0   \n",
       "2                 46.0                       250.0                 1.0   \n",
       "3                 27.0                       261.0                 1.0   \n",
       "4                 37.0                       402.0                 4.0   \n",
       "\n",
       "   product_weight_g  product_length_cm  product_height_cm  product_width_cm  \n",
       "0             225.0               16.0               10.0              14.0  \n",
       "1            1000.0               30.0               18.0              20.0  \n",
       "2             154.0               18.0                9.0              15.0  \n",
       "3             371.0               26.0                4.0              26.0  \n",
       "4             625.0               20.0               17.0              13.0  "
      ]
     },
     "execution_count": 9,
     "metadata": {},
     "output_type": "execute_result"
    }
   ],
   "source": [
    "products_df = pd.read_csv(\"data\\\\products_dataset.csv\")\n",
    "products_df.head()"
   ]
  },
  {
   "attachments": {},
   "cell_type": "markdown",
   "metadata": {},
   "source": [
    "**Insight:**\n",
    "- Dataset products memiliki informasi produk kategori, panjang nama, panjang deskripsi, jumlah photo produk, berat produk, panjang, tinggi, dan lebar produk\n",
    "- product_id ini digunakan pada Data Frame order_items\n",
    "- Nama kategori produk menggunakan bahasa portugis"
   ]
  },
  {
   "cell_type": "code",
   "execution_count": 10,
   "metadata": {},
   "outputs": [
    {
     "data": {
      "text/html": [
       "<div>\n",
       "<style scoped>\n",
       "    .dataframe tbody tr th:only-of-type {\n",
       "        vertical-align: middle;\n",
       "    }\n",
       "\n",
       "    .dataframe tbody tr th {\n",
       "        vertical-align: top;\n",
       "    }\n",
       "\n",
       "    .dataframe thead th {\n",
       "        text-align: right;\n",
       "    }\n",
       "</style>\n",
       "<table border=\"1\" class=\"dataframe\">\n",
       "  <thead>\n",
       "    <tr style=\"text-align: right;\">\n",
       "      <th></th>\n",
       "      <th>product_category_name</th>\n",
       "      <th>product_category_name_english</th>\n",
       "    </tr>\n",
       "  </thead>\n",
       "  <tbody>\n",
       "    <tr>\n",
       "      <th>0</th>\n",
       "      <td>beleza_saude</td>\n",
       "      <td>health_beauty</td>\n",
       "    </tr>\n",
       "    <tr>\n",
       "      <th>1</th>\n",
       "      <td>informatica_acessorios</td>\n",
       "      <td>computers_accessories</td>\n",
       "    </tr>\n",
       "    <tr>\n",
       "      <th>2</th>\n",
       "      <td>automotivo</td>\n",
       "      <td>auto</td>\n",
       "    </tr>\n",
       "    <tr>\n",
       "      <th>3</th>\n",
       "      <td>cama_mesa_banho</td>\n",
       "      <td>bed_bath_table</td>\n",
       "    </tr>\n",
       "    <tr>\n",
       "      <th>4</th>\n",
       "      <td>moveis_decoracao</td>\n",
       "      <td>furniture_decor</td>\n",
       "    </tr>\n",
       "  </tbody>\n",
       "</table>\n",
       "</div>"
      ],
      "text/plain": [
       "    product_category_name product_category_name_english\n",
       "0            beleza_saude                 health_beauty\n",
       "1  informatica_acessorios         computers_accessories\n",
       "2              automotivo                          auto\n",
       "3         cama_mesa_banho                bed_bath_table\n",
       "4        moveis_decoracao               furniture_decor"
      ]
     },
     "execution_count": 10,
     "metadata": {},
     "output_type": "execute_result"
    }
   ],
   "source": [
    "product_category_name_translation_df = pd.read_csv(\"data\\\\product_category_name_translation.csv\")\n",
    "product_category_name_translation_df.head()"
   ]
  },
  {
   "attachments": {},
   "cell_type": "markdown",
   "metadata": {},
   "source": [
    "**Insight:**\n",
    "- Dataset ini berisi terjemahan dari bahasa portugis ke bahasa Inggirs"
   ]
  },
  {
   "cell_type": "code",
   "execution_count": 11,
   "metadata": {},
   "outputs": [
    {
     "data": {
      "text/html": [
       "<div>\n",
       "<style scoped>\n",
       "    .dataframe tbody tr th:only-of-type {\n",
       "        vertical-align: middle;\n",
       "    }\n",
       "\n",
       "    .dataframe tbody tr th {\n",
       "        vertical-align: top;\n",
       "    }\n",
       "\n",
       "    .dataframe thead th {\n",
       "        text-align: right;\n",
       "    }\n",
       "</style>\n",
       "<table border=\"1\" class=\"dataframe\">\n",
       "  <thead>\n",
       "    <tr style=\"text-align: right;\">\n",
       "      <th></th>\n",
       "      <th>seller_id</th>\n",
       "      <th>seller_zip_code_prefix</th>\n",
       "      <th>seller_city</th>\n",
       "      <th>seller_state</th>\n",
       "    </tr>\n",
       "  </thead>\n",
       "  <tbody>\n",
       "    <tr>\n",
       "      <th>0</th>\n",
       "      <td>3442f8959a84dea7ee197c632cb2df15</td>\n",
       "      <td>13023</td>\n",
       "      <td>campinas</td>\n",
       "      <td>SP</td>\n",
       "    </tr>\n",
       "    <tr>\n",
       "      <th>1</th>\n",
       "      <td>d1b65fc7debc3361ea86b5f14c68d2e2</td>\n",
       "      <td>13844</td>\n",
       "      <td>mogi guacu</td>\n",
       "      <td>SP</td>\n",
       "    </tr>\n",
       "    <tr>\n",
       "      <th>2</th>\n",
       "      <td>ce3ad9de960102d0677a81f5d0bb7b2d</td>\n",
       "      <td>20031</td>\n",
       "      <td>rio de janeiro</td>\n",
       "      <td>RJ</td>\n",
       "    </tr>\n",
       "    <tr>\n",
       "      <th>3</th>\n",
       "      <td>c0f3eea2e14555b6faeea3dd58c1b1c3</td>\n",
       "      <td>4195</td>\n",
       "      <td>sao paulo</td>\n",
       "      <td>SP</td>\n",
       "    </tr>\n",
       "    <tr>\n",
       "      <th>4</th>\n",
       "      <td>51a04a8a6bdcb23deccc82b0b80742cf</td>\n",
       "      <td>12914</td>\n",
       "      <td>braganca paulista</td>\n",
       "      <td>SP</td>\n",
       "    </tr>\n",
       "  </tbody>\n",
       "</table>\n",
       "</div>"
      ],
      "text/plain": [
       "                          seller_id  seller_zip_code_prefix  \\\n",
       "0  3442f8959a84dea7ee197c632cb2df15                   13023   \n",
       "1  d1b65fc7debc3361ea86b5f14c68d2e2                   13844   \n",
       "2  ce3ad9de960102d0677a81f5d0bb7b2d                   20031   \n",
       "3  c0f3eea2e14555b6faeea3dd58c1b1c3                    4195   \n",
       "4  51a04a8a6bdcb23deccc82b0b80742cf                   12914   \n",
       "\n",
       "         seller_city seller_state  \n",
       "0           campinas           SP  \n",
       "1         mogi guacu           SP  \n",
       "2     rio de janeiro           RJ  \n",
       "3          sao paulo           SP  \n",
       "4  braganca paulista           SP  "
      ]
     },
     "execution_count": 11,
     "metadata": {},
     "output_type": "execute_result"
    }
   ],
   "source": [
    "sellers_df = pd.read_csv(\"data\\\\sellers_dataset.csv\")\n",
    "sellers_df.head()"
   ]
  },
  {
   "attachments": {},
   "cell_type": "markdown",
   "metadata": {},
   "source": [
    "**Insight:**\n",
    "- Dataset ini berisi data penjual dari zip_code_prefix nya, kota penjual, dan state asal penjual"
   ]
  },
  {
   "cell_type": "markdown",
   "metadata": {
    "id": "FHSiqaZp8DC1"
   },
   "source": [
    "### Assessing Data"
   ]
  },
  {
   "attachments": {},
   "cell_type": "markdown",
   "metadata": {},
   "source": [
    "#### Assess Data Frame Customers"
   ]
  },
  {
   "cell_type": "code",
   "execution_count": 12,
   "metadata": {
    "id": "ax-3tEjc9Cj1"
   },
   "outputs": [
    {
     "name": "stdout",
     "output_type": "stream",
     "text": [
      "<class 'pandas.core.frame.DataFrame'>\n",
      "RangeIndex: 99441 entries, 0 to 99440\n",
      "Data columns (total 5 columns):\n",
      " #   Column                    Non-Null Count  Dtype \n",
      "---  ------                    --------------  ----- \n",
      " 0   customer_id               99441 non-null  object\n",
      " 1   customer_unique_id        99441 non-null  object\n",
      " 2   customer_zip_code_prefix  99441 non-null  int64 \n",
      " 3   customer_city             99441 non-null  object\n",
      " 4   customer_state            99441 non-null  object\n",
      "dtypes: int64(1), object(4)\n",
      "memory usage: 3.8+ MB\n"
     ]
    }
   ],
   "source": [
    "customers_df.info()"
   ]
  },
  {
   "cell_type": "code",
   "execution_count": 13,
   "metadata": {},
   "outputs": [
    {
     "data": {
      "text/plain": [
       "customer_id                 0\n",
       "customer_unique_id          0\n",
       "customer_zip_code_prefix    0\n",
       "customer_city               0\n",
       "customer_state              0\n",
       "dtype: int64"
      ]
     },
     "execution_count": 13,
     "metadata": {},
     "output_type": "execute_result"
    }
   ],
   "source": [
    "customers_df.isna().sum()"
   ]
  },
  {
   "cell_type": "code",
   "execution_count": 14,
   "metadata": {},
   "outputs": [
    {
     "name": "stdout",
     "output_type": "stream",
     "text": [
      "Jumlah duplikasi:  0\n"
     ]
    }
   ],
   "source": [
    "print(\"Jumlah duplikasi: \", customers_df.duplicated().sum())"
   ]
  },
  {
   "attachments": {},
   "cell_type": "markdown",
   "metadata": {},
   "source": [
    "**Insight:**\n",
    "- Tidak ada duplikasi data\n",
    "- Tidak ada anomali pada tipe data\n",
    "- Tidak ada dataset empty"
   ]
  },
  {
   "attachments": {},
   "cell_type": "markdown",
   "metadata": {},
   "source": [
    "#### Assess Data Frame Geolocation"
   ]
  },
  {
   "cell_type": "code",
   "execution_count": 15,
   "metadata": {},
   "outputs": [
    {
     "name": "stdout",
     "output_type": "stream",
     "text": [
      "<class 'pandas.core.frame.DataFrame'>\n",
      "RangeIndex: 1000163 entries, 0 to 1000162\n",
      "Data columns (total 5 columns):\n",
      " #   Column                       Non-Null Count    Dtype  \n",
      "---  ------                       --------------    -----  \n",
      " 0   geolocation_zip_code_prefix  1000163 non-null  int64  \n",
      " 1   geolocation_lat              1000163 non-null  float64\n",
      " 2   geolocation_lng              1000163 non-null  float64\n",
      " 3   geolocation_city             1000163 non-null  object \n",
      " 4   geolocation_state            1000163 non-null  object \n",
      "dtypes: float64(2), int64(1), object(2)\n",
      "memory usage: 38.2+ MB\n"
     ]
    }
   ],
   "source": [
    "geolocation_df.info()"
   ]
  },
  {
   "cell_type": "code",
   "execution_count": 16,
   "metadata": {},
   "outputs": [
    {
     "data": {
      "text/plain": [
       "geolocation_zip_code_prefix    0\n",
       "geolocation_lat                0\n",
       "geolocation_lng                0\n",
       "geolocation_city               0\n",
       "geolocation_state              0\n",
       "dtype: int64"
      ]
     },
     "execution_count": 16,
     "metadata": {},
     "output_type": "execute_result"
    }
   ],
   "source": [
    "geolocation_df.isna().sum()"
   ]
  },
  {
   "cell_type": "code",
   "execution_count": 17,
   "metadata": {},
   "outputs": [
    {
     "name": "stdout",
     "output_type": "stream",
     "text": [
      "Jumlah duplikasi:  261831\n"
     ]
    }
   ],
   "source": [
    "print(\"Jumlah duplikasi: \", geolocation_df.duplicated().sum())"
   ]
  },
  {
   "attachments": {},
   "cell_type": "markdown",
   "metadata": {},
   "source": [
    "**Insight:**\n",
    "- Tidak ada duplikasi data\n",
    "- Tidak ada anomali pada tipe data\n",
    "- Ada 261831 duplikasi data"
   ]
  },
  {
   "attachments": {},
   "cell_type": "markdown",
   "metadata": {},
   "source": [
    "#### Assess Data Frame Orders"
   ]
  },
  {
   "cell_type": "code",
   "execution_count": 18,
   "metadata": {},
   "outputs": [
    {
     "name": "stdout",
     "output_type": "stream",
     "text": [
      "<class 'pandas.core.frame.DataFrame'>\n",
      "RangeIndex: 99441 entries, 0 to 99440\n",
      "Data columns (total 8 columns):\n",
      " #   Column                         Non-Null Count  Dtype \n",
      "---  ------                         --------------  ----- \n",
      " 0   order_id                       99441 non-null  object\n",
      " 1   customer_id                    99441 non-null  object\n",
      " 2   order_status                   99441 non-null  object\n",
      " 3   order_purchase_timestamp       99441 non-null  object\n",
      " 4   order_approved_at              99281 non-null  object\n",
      " 5   order_delivered_carrier_date   97658 non-null  object\n",
      " 6   order_delivered_customer_date  96476 non-null  object\n",
      " 7   order_estimated_delivery_date  99441 non-null  object\n",
      "dtypes: object(8)\n",
      "memory usage: 6.1+ MB\n"
     ]
    }
   ],
   "source": [
    "orders_df.info()"
   ]
  },
  {
   "cell_type": "code",
   "execution_count": 19,
   "metadata": {},
   "outputs": [
    {
     "data": {
      "text/plain": [
       "order_id                            0\n",
       "customer_id                         0\n",
       "order_status                        0\n",
       "order_purchase_timestamp            0\n",
       "order_approved_at                 160\n",
       "order_delivered_carrier_date     1783\n",
       "order_delivered_customer_date    2965\n",
       "order_estimated_delivery_date       0\n",
       "dtype: int64"
      ]
     },
     "execution_count": 19,
     "metadata": {},
     "output_type": "execute_result"
    }
   ],
   "source": [
    "orders_df.isna().sum()"
   ]
  },
  {
   "cell_type": "code",
   "execution_count": 20,
   "metadata": {},
   "outputs": [
    {
     "name": "stdout",
     "output_type": "stream",
     "text": [
      "order_id                         0.000000\n",
      "customer_id                      0.000000\n",
      "order_status                     0.000000\n",
      "order_purchase_timestamp         0.000000\n",
      "order_approved_at                0.160899\n",
      "order_delivered_carrier_date     1.793023\n",
      "order_delivered_customer_date    2.981668\n",
      "order_estimated_delivery_date    0.000000\n",
      "dtype: float64\n"
     ]
    }
   ],
   "source": [
    "missing_percentage = (orders_df.isnull().sum() / len(orders_df)) * 100\n",
    "print(missing_percentage)"
   ]
  },
  {
   "cell_type": "code",
   "execution_count": 21,
   "metadata": {},
   "outputs": [
    {
     "data": {
      "text/plain": [
       "count                           96476\n",
       "mean     -12 days +19:42:04.042383598\n",
       "std        10 days 04:28:00.181984555\n",
       "min               -147 days +23:36:47\n",
       "25%         -17 days +18:08:05.250000\n",
       "50%         -12 days +01:13:31.500000\n",
       "75%                 -7 days +14:38:24\n",
       "max                 188 days 23:24:07\n",
       "dtype: object"
      ]
     },
     "execution_count": 21,
     "metadata": {},
     "output_type": "execute_result"
    }
   ],
   "source": [
    "# orders_df[orders_df['order_delivered_customer_date'].isna()]['order_status'].value_counts()\n",
    "orders_df['order_delivered_customer_date'] = pd.to_datetime(orders_df['order_delivered_customer_date'])\n",
    "orders_df['order_estimated_delivery_date'] = pd.to_datetime(orders_df['order_estimated_delivery_date'])\n",
    "(orders_df['order_delivered_customer_date'] - orders_df['order_estimated_delivery_date']).describe()"
   ]
  },
  {
   "cell_type": "code",
   "execution_count": 22,
   "metadata": {},
   "outputs": [
    {
     "name": "stdout",
     "output_type": "stream",
     "text": [
      "Jumlah duplikasi:  0\n"
     ]
    }
   ],
   "source": [
    "print(\"Jumlah duplikasi: \", orders_df.duplicated().sum())"
   ]
  },
  {
   "attachments": {},
   "cell_type": "markdown",
   "metadata": {},
   "source": [
    "**Insight:**\n",
    "- Tidak ada duplikasi data\n",
    "- Tipe Data seharusnya **datetime** pada order_purchase_timestamp, order_approved_at, order_delivered_carrier_date, order_delivered_customer_date, order_estimated_delivery_date\n",
    "- Ada data yang tidak memiliki nilai/value"
   ]
  },
  {
   "attachments": {},
   "cell_type": "markdown",
   "metadata": {},
   "source": [
    "#### Assess Data Frame order_items"
   ]
  },
  {
   "cell_type": "code",
   "execution_count": 23,
   "metadata": {},
   "outputs": [
    {
     "name": "stdout",
     "output_type": "stream",
     "text": [
      "<class 'pandas.core.frame.DataFrame'>\n",
      "RangeIndex: 112650 entries, 0 to 112649\n",
      "Data columns (total 7 columns):\n",
      " #   Column               Non-Null Count   Dtype  \n",
      "---  ------               --------------   -----  \n",
      " 0   order_id             112650 non-null  object \n",
      " 1   order_item_id        112650 non-null  int64  \n",
      " 2   product_id           112650 non-null  object \n",
      " 3   seller_id            112650 non-null  object \n",
      " 4   shipping_limit_date  112650 non-null  object \n",
      " 5   price                112650 non-null  float64\n",
      " 6   freight_value        112650 non-null  float64\n",
      "dtypes: float64(2), int64(1), object(4)\n",
      "memory usage: 6.0+ MB\n"
     ]
    }
   ],
   "source": [
    "order_items_df.info()"
   ]
  },
  {
   "cell_type": "code",
   "execution_count": 24,
   "metadata": {},
   "outputs": [
    {
     "data": {
      "text/plain": [
       "order_id               0\n",
       "order_item_id          0\n",
       "product_id             0\n",
       "seller_id              0\n",
       "shipping_limit_date    0\n",
       "price                  0\n",
       "freight_value          0\n",
       "dtype: int64"
      ]
     },
     "execution_count": 24,
     "metadata": {},
     "output_type": "execute_result"
    }
   ],
   "source": [
    "order_items_df.isna().sum()"
   ]
  },
  {
   "cell_type": "code",
   "execution_count": 25,
   "metadata": {},
   "outputs": [
    {
     "name": "stdout",
     "output_type": "stream",
     "text": [
      "Jumlah duplikasi:  0\n"
     ]
    }
   ],
   "source": [
    "print(\"Jumlah duplikasi: \", order_items_df.duplicated().sum())"
   ]
  },
  {
   "cell_type": "code",
   "execution_count": 26,
   "metadata": {},
   "outputs": [
    {
     "data": {
      "text/html": [
       "<div>\n",
       "<style scoped>\n",
       "    .dataframe tbody tr th:only-of-type {\n",
       "        vertical-align: middle;\n",
       "    }\n",
       "\n",
       "    .dataframe tbody tr th {\n",
       "        vertical-align: top;\n",
       "    }\n",
       "\n",
       "    .dataframe thead th {\n",
       "        text-align: right;\n",
       "    }\n",
       "</style>\n",
       "<table border=\"1\" class=\"dataframe\">\n",
       "  <thead>\n",
       "    <tr style=\"text-align: right;\">\n",
       "      <th></th>\n",
       "      <th>order_id</th>\n",
       "      <th>order_item_id</th>\n",
       "      <th>product_id</th>\n",
       "      <th>seller_id</th>\n",
       "      <th>shipping_limit_date</th>\n",
       "      <th>price</th>\n",
       "      <th>freight_value</th>\n",
       "    </tr>\n",
       "  </thead>\n",
       "  <tbody>\n",
       "    <tr>\n",
       "      <th>count</th>\n",
       "      <td>112650</td>\n",
       "      <td>112650.000000</td>\n",
       "      <td>112650</td>\n",
       "      <td>112650</td>\n",
       "      <td>112650</td>\n",
       "      <td>112650.000000</td>\n",
       "      <td>112650.000000</td>\n",
       "    </tr>\n",
       "    <tr>\n",
       "      <th>unique</th>\n",
       "      <td>98666</td>\n",
       "      <td>NaN</td>\n",
       "      <td>32951</td>\n",
       "      <td>3095</td>\n",
       "      <td>93318</td>\n",
       "      <td>NaN</td>\n",
       "      <td>NaN</td>\n",
       "    </tr>\n",
       "    <tr>\n",
       "      <th>top</th>\n",
       "      <td>8272b63d03f5f79c56e9e4120aec44ef</td>\n",
       "      <td>NaN</td>\n",
       "      <td>aca2eb7d00ea1a7b8ebd4e68314663af</td>\n",
       "      <td>6560211a19b47992c3666cc44a7e94c0</td>\n",
       "      <td>2018-03-01 02:50:48</td>\n",
       "      <td>NaN</td>\n",
       "      <td>NaN</td>\n",
       "    </tr>\n",
       "    <tr>\n",
       "      <th>freq</th>\n",
       "      <td>21</td>\n",
       "      <td>NaN</td>\n",
       "      <td>527</td>\n",
       "      <td>2033</td>\n",
       "      <td>21</td>\n",
       "      <td>NaN</td>\n",
       "      <td>NaN</td>\n",
       "    </tr>\n",
       "    <tr>\n",
       "      <th>mean</th>\n",
       "      <td>NaN</td>\n",
       "      <td>1.197834</td>\n",
       "      <td>NaN</td>\n",
       "      <td>NaN</td>\n",
       "      <td>NaN</td>\n",
       "      <td>120.653739</td>\n",
       "      <td>19.990320</td>\n",
       "    </tr>\n",
       "    <tr>\n",
       "      <th>std</th>\n",
       "      <td>NaN</td>\n",
       "      <td>0.705124</td>\n",
       "      <td>NaN</td>\n",
       "      <td>NaN</td>\n",
       "      <td>NaN</td>\n",
       "      <td>183.633928</td>\n",
       "      <td>15.806405</td>\n",
       "    </tr>\n",
       "    <tr>\n",
       "      <th>min</th>\n",
       "      <td>NaN</td>\n",
       "      <td>1.000000</td>\n",
       "      <td>NaN</td>\n",
       "      <td>NaN</td>\n",
       "      <td>NaN</td>\n",
       "      <td>0.850000</td>\n",
       "      <td>0.000000</td>\n",
       "    </tr>\n",
       "    <tr>\n",
       "      <th>25%</th>\n",
       "      <td>NaN</td>\n",
       "      <td>1.000000</td>\n",
       "      <td>NaN</td>\n",
       "      <td>NaN</td>\n",
       "      <td>NaN</td>\n",
       "      <td>39.900000</td>\n",
       "      <td>13.080000</td>\n",
       "    </tr>\n",
       "    <tr>\n",
       "      <th>50%</th>\n",
       "      <td>NaN</td>\n",
       "      <td>1.000000</td>\n",
       "      <td>NaN</td>\n",
       "      <td>NaN</td>\n",
       "      <td>NaN</td>\n",
       "      <td>74.990000</td>\n",
       "      <td>16.260000</td>\n",
       "    </tr>\n",
       "    <tr>\n",
       "      <th>75%</th>\n",
       "      <td>NaN</td>\n",
       "      <td>1.000000</td>\n",
       "      <td>NaN</td>\n",
       "      <td>NaN</td>\n",
       "      <td>NaN</td>\n",
       "      <td>134.900000</td>\n",
       "      <td>21.150000</td>\n",
       "    </tr>\n",
       "    <tr>\n",
       "      <th>max</th>\n",
       "      <td>NaN</td>\n",
       "      <td>21.000000</td>\n",
       "      <td>NaN</td>\n",
       "      <td>NaN</td>\n",
       "      <td>NaN</td>\n",
       "      <td>6735.000000</td>\n",
       "      <td>409.680000</td>\n",
       "    </tr>\n",
       "  </tbody>\n",
       "</table>\n",
       "</div>"
      ],
      "text/plain": [
       "                                order_id  order_item_id  \\\n",
       "count                             112650  112650.000000   \n",
       "unique                             98666            NaN   \n",
       "top     8272b63d03f5f79c56e9e4120aec44ef            NaN   \n",
       "freq                                  21            NaN   \n",
       "mean                                 NaN       1.197834   \n",
       "std                                  NaN       0.705124   \n",
       "min                                  NaN       1.000000   \n",
       "25%                                  NaN       1.000000   \n",
       "50%                                  NaN       1.000000   \n",
       "75%                                  NaN       1.000000   \n",
       "max                                  NaN      21.000000   \n",
       "\n",
       "                              product_id                         seller_id  \\\n",
       "count                             112650                            112650   \n",
       "unique                             32951                              3095   \n",
       "top     aca2eb7d00ea1a7b8ebd4e68314663af  6560211a19b47992c3666cc44a7e94c0   \n",
       "freq                                 527                              2033   \n",
       "mean                                 NaN                               NaN   \n",
       "std                                  NaN                               NaN   \n",
       "min                                  NaN                               NaN   \n",
       "25%                                  NaN                               NaN   \n",
       "50%                                  NaN                               NaN   \n",
       "75%                                  NaN                               NaN   \n",
       "max                                  NaN                               NaN   \n",
       "\n",
       "        shipping_limit_date          price  freight_value  \n",
       "count                112650  112650.000000  112650.000000  \n",
       "unique                93318            NaN            NaN  \n",
       "top     2018-03-01 02:50:48            NaN            NaN  \n",
       "freq                     21            NaN            NaN  \n",
       "mean                    NaN     120.653739      19.990320  \n",
       "std                     NaN     183.633928      15.806405  \n",
       "min                     NaN       0.850000       0.000000  \n",
       "25%                     NaN      39.900000      13.080000  \n",
       "50%                     NaN      74.990000      16.260000  \n",
       "75%                     NaN     134.900000      21.150000  \n",
       "max                     NaN    6735.000000     409.680000  "
      ]
     },
     "execution_count": 26,
     "metadata": {},
     "output_type": "execute_result"
    }
   ],
   "source": [
    "order_items_df.describe(include=\"all\")"
   ]
  },
  {
   "attachments": {},
   "cell_type": "markdown",
   "metadata": {},
   "source": [
    "**Insight:**\n",
    "- Tidak ada duplikasi data\n",
    "- Perlu perbaikan tipe data pada kolom shipping_limit_date\n",
    "- Tidak ada data yang NaN"
   ]
  },
  {
   "attachments": {},
   "cell_type": "markdown",
   "metadata": {},
   "source": [
    "#### Assess Data Frame order_payments"
   ]
  },
  {
   "cell_type": "code",
   "execution_count": 27,
   "metadata": {},
   "outputs": [
    {
     "name": "stdout",
     "output_type": "stream",
     "text": [
      "<class 'pandas.core.frame.DataFrame'>\n",
      "RangeIndex: 103886 entries, 0 to 103885\n",
      "Data columns (total 5 columns):\n",
      " #   Column                Non-Null Count   Dtype  \n",
      "---  ------                --------------   -----  \n",
      " 0   order_id              103886 non-null  object \n",
      " 1   payment_sequential    103886 non-null  int64  \n",
      " 2   payment_type          103886 non-null  object \n",
      " 3   payment_installments  103886 non-null  int64  \n",
      " 4   payment_value         103886 non-null  float64\n",
      "dtypes: float64(1), int64(2), object(2)\n",
      "memory usage: 4.0+ MB\n"
     ]
    }
   ],
   "source": [
    "order_payments_df.info()"
   ]
  },
  {
   "cell_type": "code",
   "execution_count": 28,
   "metadata": {},
   "outputs": [
    {
     "data": {
      "text/plain": [
       "order_id                0\n",
       "payment_sequential      0\n",
       "payment_type            0\n",
       "payment_installments    0\n",
       "payment_value           0\n",
       "dtype: int64"
      ]
     },
     "execution_count": 28,
     "metadata": {},
     "output_type": "execute_result"
    }
   ],
   "source": [
    "order_payments_df.isna().sum()"
   ]
  },
  {
   "cell_type": "code",
   "execution_count": 29,
   "metadata": {},
   "outputs": [
    {
     "name": "stdout",
     "output_type": "stream",
     "text": [
      "Jumlah duplikasi:  0\n"
     ]
    }
   ],
   "source": [
    "print(\"Jumlah duplikasi: \", order_payments_df.duplicated().sum())"
   ]
  },
  {
   "cell_type": "code",
   "execution_count": 30,
   "metadata": {},
   "outputs": [
    {
     "data": {
      "text/html": [
       "<div>\n",
       "<style scoped>\n",
       "    .dataframe tbody tr th:only-of-type {\n",
       "        vertical-align: middle;\n",
       "    }\n",
       "\n",
       "    .dataframe tbody tr th {\n",
       "        vertical-align: top;\n",
       "    }\n",
       "\n",
       "    .dataframe thead th {\n",
       "        text-align: right;\n",
       "    }\n",
       "</style>\n",
       "<table border=\"1\" class=\"dataframe\">\n",
       "  <thead>\n",
       "    <tr style=\"text-align: right;\">\n",
       "      <th></th>\n",
       "      <th>order_id</th>\n",
       "      <th>payment_sequential</th>\n",
       "      <th>payment_type</th>\n",
       "      <th>payment_installments</th>\n",
       "      <th>payment_value</th>\n",
       "    </tr>\n",
       "  </thead>\n",
       "  <tbody>\n",
       "    <tr>\n",
       "      <th>count</th>\n",
       "      <td>103886</td>\n",
       "      <td>103886.000000</td>\n",
       "      <td>103886</td>\n",
       "      <td>103886.000000</td>\n",
       "      <td>103886.000000</td>\n",
       "    </tr>\n",
       "    <tr>\n",
       "      <th>unique</th>\n",
       "      <td>99440</td>\n",
       "      <td>NaN</td>\n",
       "      <td>5</td>\n",
       "      <td>NaN</td>\n",
       "      <td>NaN</td>\n",
       "    </tr>\n",
       "    <tr>\n",
       "      <th>top</th>\n",
       "      <td>fa65dad1b0e818e3ccc5cb0e39231352</td>\n",
       "      <td>NaN</td>\n",
       "      <td>credit_card</td>\n",
       "      <td>NaN</td>\n",
       "      <td>NaN</td>\n",
       "    </tr>\n",
       "    <tr>\n",
       "      <th>freq</th>\n",
       "      <td>29</td>\n",
       "      <td>NaN</td>\n",
       "      <td>76795</td>\n",
       "      <td>NaN</td>\n",
       "      <td>NaN</td>\n",
       "    </tr>\n",
       "    <tr>\n",
       "      <th>mean</th>\n",
       "      <td>NaN</td>\n",
       "      <td>1.092679</td>\n",
       "      <td>NaN</td>\n",
       "      <td>2.853349</td>\n",
       "      <td>154.100380</td>\n",
       "    </tr>\n",
       "    <tr>\n",
       "      <th>std</th>\n",
       "      <td>NaN</td>\n",
       "      <td>0.706584</td>\n",
       "      <td>NaN</td>\n",
       "      <td>2.687051</td>\n",
       "      <td>217.494064</td>\n",
       "    </tr>\n",
       "    <tr>\n",
       "      <th>min</th>\n",
       "      <td>NaN</td>\n",
       "      <td>1.000000</td>\n",
       "      <td>NaN</td>\n",
       "      <td>0.000000</td>\n",
       "      <td>0.000000</td>\n",
       "    </tr>\n",
       "    <tr>\n",
       "      <th>25%</th>\n",
       "      <td>NaN</td>\n",
       "      <td>1.000000</td>\n",
       "      <td>NaN</td>\n",
       "      <td>1.000000</td>\n",
       "      <td>56.790000</td>\n",
       "    </tr>\n",
       "    <tr>\n",
       "      <th>50%</th>\n",
       "      <td>NaN</td>\n",
       "      <td>1.000000</td>\n",
       "      <td>NaN</td>\n",
       "      <td>1.000000</td>\n",
       "      <td>100.000000</td>\n",
       "    </tr>\n",
       "    <tr>\n",
       "      <th>75%</th>\n",
       "      <td>NaN</td>\n",
       "      <td>1.000000</td>\n",
       "      <td>NaN</td>\n",
       "      <td>4.000000</td>\n",
       "      <td>171.837500</td>\n",
       "    </tr>\n",
       "    <tr>\n",
       "      <th>max</th>\n",
       "      <td>NaN</td>\n",
       "      <td>29.000000</td>\n",
       "      <td>NaN</td>\n",
       "      <td>24.000000</td>\n",
       "      <td>13664.080000</td>\n",
       "    </tr>\n",
       "  </tbody>\n",
       "</table>\n",
       "</div>"
      ],
      "text/plain": [
       "                                order_id  payment_sequential payment_type  \\\n",
       "count                             103886       103886.000000       103886   \n",
       "unique                             99440                 NaN            5   \n",
       "top     fa65dad1b0e818e3ccc5cb0e39231352                 NaN  credit_card   \n",
       "freq                                  29                 NaN        76795   \n",
       "mean                                 NaN            1.092679          NaN   \n",
       "std                                  NaN            0.706584          NaN   \n",
       "min                                  NaN            1.000000          NaN   \n",
       "25%                                  NaN            1.000000          NaN   \n",
       "50%                                  NaN            1.000000          NaN   \n",
       "75%                                  NaN            1.000000          NaN   \n",
       "max                                  NaN           29.000000          NaN   \n",
       "\n",
       "        payment_installments  payment_value  \n",
       "count          103886.000000  103886.000000  \n",
       "unique                   NaN            NaN  \n",
       "top                      NaN            NaN  \n",
       "freq                     NaN            NaN  \n",
       "mean                2.853349     154.100380  \n",
       "std                 2.687051     217.494064  \n",
       "min                 0.000000       0.000000  \n",
       "25%                 1.000000      56.790000  \n",
       "50%                 1.000000     100.000000  \n",
       "75%                 4.000000     171.837500  \n",
       "max                24.000000   13664.080000  "
      ]
     },
     "execution_count": 30,
     "metadata": {},
     "output_type": "execute_result"
    }
   ],
   "source": [
    "order_payments_df.describe(include=\"all\")"
   ]
  },
  {
   "attachments": {},
   "cell_type": "markdown",
   "metadata": {},
   "source": [
    "**Insight:**\n",
    "- Tidak ada duplikasi data\n",
    "- Tidak ada anomali pada tipe data\n",
    "- Tidak ada data dengan value kosong"
   ]
  },
  {
   "attachments": {},
   "cell_type": "markdown",
   "metadata": {},
   "source": [
    "#### Assess Data Frame order_reviews"
   ]
  },
  {
   "cell_type": "code",
   "execution_count": 31,
   "metadata": {},
   "outputs": [
    {
     "name": "stdout",
     "output_type": "stream",
     "text": [
      "<class 'pandas.core.frame.DataFrame'>\n",
      "RangeIndex: 99224 entries, 0 to 99223\n",
      "Data columns (total 7 columns):\n",
      " #   Column                   Non-Null Count  Dtype \n",
      "---  ------                   --------------  ----- \n",
      " 0   review_id                99224 non-null  object\n",
      " 1   order_id                 99224 non-null  object\n",
      " 2   review_score             99224 non-null  int64 \n",
      " 3   review_comment_title     11568 non-null  object\n",
      " 4   review_comment_message   40977 non-null  object\n",
      " 5   review_creation_date     99224 non-null  object\n",
      " 6   review_answer_timestamp  99224 non-null  object\n",
      "dtypes: int64(1), object(6)\n",
      "memory usage: 5.3+ MB\n"
     ]
    }
   ],
   "source": [
    "order_reviews_df.info()"
   ]
  },
  {
   "cell_type": "code",
   "execution_count": 32,
   "metadata": {},
   "outputs": [
    {
     "data": {
      "text/plain": [
       "review_id                      0\n",
       "order_id                       0\n",
       "review_score                   0\n",
       "review_comment_title       87656\n",
       "review_comment_message     58247\n",
       "review_creation_date           0\n",
       "review_answer_timestamp        0\n",
       "dtype: int64"
      ]
     },
     "execution_count": 32,
     "metadata": {},
     "output_type": "execute_result"
    }
   ],
   "source": [
    "order_reviews_df.isna().sum()"
   ]
  },
  {
   "cell_type": "code",
   "execution_count": 33,
   "metadata": {},
   "outputs": [
    {
     "name": "stdout",
     "output_type": "stream",
     "text": [
      "Jumlah duplikasi:  0\n"
     ]
    }
   ],
   "source": [
    "print(\"Jumlah duplikasi: \", order_reviews_df.duplicated().sum())"
   ]
  },
  {
   "cell_type": "code",
   "execution_count": 34,
   "metadata": {},
   "outputs": [
    {
     "data": {
      "text/html": [
       "<div>\n",
       "<style scoped>\n",
       "    .dataframe tbody tr th:only-of-type {\n",
       "        vertical-align: middle;\n",
       "    }\n",
       "\n",
       "    .dataframe tbody tr th {\n",
       "        vertical-align: top;\n",
       "    }\n",
       "\n",
       "    .dataframe thead th {\n",
       "        text-align: right;\n",
       "    }\n",
       "</style>\n",
       "<table border=\"1\" class=\"dataframe\">\n",
       "  <thead>\n",
       "    <tr style=\"text-align: right;\">\n",
       "      <th></th>\n",
       "      <th>review_id</th>\n",
       "      <th>order_id</th>\n",
       "      <th>review_score</th>\n",
       "      <th>review_comment_title</th>\n",
       "      <th>review_comment_message</th>\n",
       "      <th>review_creation_date</th>\n",
       "      <th>review_answer_timestamp</th>\n",
       "    </tr>\n",
       "  </thead>\n",
       "  <tbody>\n",
       "    <tr>\n",
       "      <th>count</th>\n",
       "      <td>99224</td>\n",
       "      <td>99224</td>\n",
       "      <td>99224.000000</td>\n",
       "      <td>11568</td>\n",
       "      <td>40977</td>\n",
       "      <td>99224</td>\n",
       "      <td>99224</td>\n",
       "    </tr>\n",
       "    <tr>\n",
       "      <th>unique</th>\n",
       "      <td>98410</td>\n",
       "      <td>98673</td>\n",
       "      <td>NaN</td>\n",
       "      <td>4527</td>\n",
       "      <td>36159</td>\n",
       "      <td>636</td>\n",
       "      <td>98248</td>\n",
       "    </tr>\n",
       "    <tr>\n",
       "      <th>top</th>\n",
       "      <td>08528f70f579f0c830189efc523d2182</td>\n",
       "      <td>df56136b8031ecd28e200bb18e6ddb2e</td>\n",
       "      <td>NaN</td>\n",
       "      <td>Recomendo</td>\n",
       "      <td>Muito bom</td>\n",
       "      <td>2017-12-19 00:00:00</td>\n",
       "      <td>2017-06-15 23:21:05</td>\n",
       "    </tr>\n",
       "    <tr>\n",
       "      <th>freq</th>\n",
       "      <td>3</td>\n",
       "      <td>3</td>\n",
       "      <td>NaN</td>\n",
       "      <td>423</td>\n",
       "      <td>230</td>\n",
       "      <td>463</td>\n",
       "      <td>4</td>\n",
       "    </tr>\n",
       "    <tr>\n",
       "      <th>mean</th>\n",
       "      <td>NaN</td>\n",
       "      <td>NaN</td>\n",
       "      <td>4.086421</td>\n",
       "      <td>NaN</td>\n",
       "      <td>NaN</td>\n",
       "      <td>NaN</td>\n",
       "      <td>NaN</td>\n",
       "    </tr>\n",
       "    <tr>\n",
       "      <th>std</th>\n",
       "      <td>NaN</td>\n",
       "      <td>NaN</td>\n",
       "      <td>1.347579</td>\n",
       "      <td>NaN</td>\n",
       "      <td>NaN</td>\n",
       "      <td>NaN</td>\n",
       "      <td>NaN</td>\n",
       "    </tr>\n",
       "    <tr>\n",
       "      <th>min</th>\n",
       "      <td>NaN</td>\n",
       "      <td>NaN</td>\n",
       "      <td>1.000000</td>\n",
       "      <td>NaN</td>\n",
       "      <td>NaN</td>\n",
       "      <td>NaN</td>\n",
       "      <td>NaN</td>\n",
       "    </tr>\n",
       "    <tr>\n",
       "      <th>25%</th>\n",
       "      <td>NaN</td>\n",
       "      <td>NaN</td>\n",
       "      <td>4.000000</td>\n",
       "      <td>NaN</td>\n",
       "      <td>NaN</td>\n",
       "      <td>NaN</td>\n",
       "      <td>NaN</td>\n",
       "    </tr>\n",
       "    <tr>\n",
       "      <th>50%</th>\n",
       "      <td>NaN</td>\n",
       "      <td>NaN</td>\n",
       "      <td>5.000000</td>\n",
       "      <td>NaN</td>\n",
       "      <td>NaN</td>\n",
       "      <td>NaN</td>\n",
       "      <td>NaN</td>\n",
       "    </tr>\n",
       "    <tr>\n",
       "      <th>75%</th>\n",
       "      <td>NaN</td>\n",
       "      <td>NaN</td>\n",
       "      <td>5.000000</td>\n",
       "      <td>NaN</td>\n",
       "      <td>NaN</td>\n",
       "      <td>NaN</td>\n",
       "      <td>NaN</td>\n",
       "    </tr>\n",
       "    <tr>\n",
       "      <th>max</th>\n",
       "      <td>NaN</td>\n",
       "      <td>NaN</td>\n",
       "      <td>5.000000</td>\n",
       "      <td>NaN</td>\n",
       "      <td>NaN</td>\n",
       "      <td>NaN</td>\n",
       "      <td>NaN</td>\n",
       "    </tr>\n",
       "  </tbody>\n",
       "</table>\n",
       "</div>"
      ],
      "text/plain": [
       "                               review_id                          order_id  \\\n",
       "count                              99224                             99224   \n",
       "unique                             98410                             98673   \n",
       "top     08528f70f579f0c830189efc523d2182  df56136b8031ecd28e200bb18e6ddb2e   \n",
       "freq                                   3                                 3   \n",
       "mean                                 NaN                               NaN   \n",
       "std                                  NaN                               NaN   \n",
       "min                                  NaN                               NaN   \n",
       "25%                                  NaN                               NaN   \n",
       "50%                                  NaN                               NaN   \n",
       "75%                                  NaN                               NaN   \n",
       "max                                  NaN                               NaN   \n",
       "\n",
       "        review_score review_comment_title review_comment_message  \\\n",
       "count   99224.000000                11568                  40977   \n",
       "unique           NaN                 4527                  36159   \n",
       "top              NaN            Recomendo              Muito bom   \n",
       "freq             NaN                  423                    230   \n",
       "mean        4.086421                  NaN                    NaN   \n",
       "std         1.347579                  NaN                    NaN   \n",
       "min         1.000000                  NaN                    NaN   \n",
       "25%         4.000000                  NaN                    NaN   \n",
       "50%         5.000000                  NaN                    NaN   \n",
       "75%         5.000000                  NaN                    NaN   \n",
       "max         5.000000                  NaN                    NaN   \n",
       "\n",
       "       review_creation_date review_answer_timestamp  \n",
       "count                 99224                   99224  \n",
       "unique                  636                   98248  \n",
       "top     2017-12-19 00:00:00     2017-06-15 23:21:05  \n",
       "freq                    463                       4  \n",
       "mean                    NaN                     NaN  \n",
       "std                     NaN                     NaN  \n",
       "min                     NaN                     NaN  \n",
       "25%                     NaN                     NaN  \n",
       "50%                     NaN                     NaN  \n",
       "75%                     NaN                     NaN  \n",
       "max                     NaN                     NaN  "
      ]
     },
     "execution_count": 34,
     "metadata": {},
     "output_type": "execute_result"
    }
   ],
   "source": [
    "order_reviews_df.describe(include=\"all\")"
   ]
  },
  {
   "attachments": {},
   "cell_type": "markdown",
   "metadata": {},
   "source": [
    "**Insight:**\n",
    "- Tidak ada duplikasi data\n",
    "- Perlu perbaikan tipe data ke **datetime** pada review_creation_date, dan review_answer_timestamp\n",
    "- Ada data yang tidak memiliki nilai/value pada kolom review_comment_title, dan review_comment_message"
   ]
  },
  {
   "attachments": {},
   "cell_type": "markdown",
   "metadata": {},
   "source": [
    "#### Assess Data Frame products"
   ]
  },
  {
   "cell_type": "code",
   "execution_count": 35,
   "metadata": {},
   "outputs": [
    {
     "name": "stdout",
     "output_type": "stream",
     "text": [
      "<class 'pandas.core.frame.DataFrame'>\n",
      "RangeIndex: 32951 entries, 0 to 32950\n",
      "Data columns (total 9 columns):\n",
      " #   Column                      Non-Null Count  Dtype  \n",
      "---  ------                      --------------  -----  \n",
      " 0   product_id                  32951 non-null  object \n",
      " 1   product_category_name       32341 non-null  object \n",
      " 2   product_name_lenght         32341 non-null  float64\n",
      " 3   product_description_lenght  32341 non-null  float64\n",
      " 4   product_photos_qty          32341 non-null  float64\n",
      " 5   product_weight_g            32949 non-null  float64\n",
      " 6   product_length_cm           32949 non-null  float64\n",
      " 7   product_height_cm           32949 non-null  float64\n",
      " 8   product_width_cm            32949 non-null  float64\n",
      "dtypes: float64(7), object(2)\n",
      "memory usage: 2.3+ MB\n"
     ]
    }
   ],
   "source": [
    "products_df.info()"
   ]
  },
  {
   "cell_type": "code",
   "execution_count": 36,
   "metadata": {},
   "outputs": [
    {
     "data": {
      "text/plain": [
       "product_id                      0\n",
       "product_category_name         610\n",
       "product_name_lenght           610\n",
       "product_description_lenght    610\n",
       "product_photos_qty            610\n",
       "product_weight_g                2\n",
       "product_length_cm               2\n",
       "product_height_cm               2\n",
       "product_width_cm                2\n",
       "dtype: int64"
      ]
     },
     "execution_count": 36,
     "metadata": {},
     "output_type": "execute_result"
    }
   ],
   "source": [
    "products_df.isna().sum()"
   ]
  },
  {
   "cell_type": "code",
   "execution_count": 37,
   "metadata": {},
   "outputs": [
    {
     "name": "stdout",
     "output_type": "stream",
     "text": [
      "Jumlah duplikasi:  0\n"
     ]
    }
   ],
   "source": [
    "print(\"Jumlah duplikasi: \", products_df.duplicated().sum())"
   ]
  },
  {
   "cell_type": "code",
   "execution_count": 38,
   "metadata": {},
   "outputs": [
    {
     "data": {
      "text/html": [
       "<div>\n",
       "<style scoped>\n",
       "    .dataframe tbody tr th:only-of-type {\n",
       "        vertical-align: middle;\n",
       "    }\n",
       "\n",
       "    .dataframe tbody tr th {\n",
       "        vertical-align: top;\n",
       "    }\n",
       "\n",
       "    .dataframe thead th {\n",
       "        text-align: right;\n",
       "    }\n",
       "</style>\n",
       "<table border=\"1\" class=\"dataframe\">\n",
       "  <thead>\n",
       "    <tr style=\"text-align: right;\">\n",
       "      <th></th>\n",
       "      <th>product_id</th>\n",
       "      <th>product_category_name</th>\n",
       "      <th>product_name_lenght</th>\n",
       "      <th>product_description_lenght</th>\n",
       "      <th>product_photos_qty</th>\n",
       "      <th>product_weight_g</th>\n",
       "      <th>product_length_cm</th>\n",
       "      <th>product_height_cm</th>\n",
       "      <th>product_width_cm</th>\n",
       "    </tr>\n",
       "  </thead>\n",
       "  <tbody>\n",
       "    <tr>\n",
       "      <th>count</th>\n",
       "      <td>32951</td>\n",
       "      <td>32341</td>\n",
       "      <td>32341.000000</td>\n",
       "      <td>32341.000000</td>\n",
       "      <td>32341.000000</td>\n",
       "      <td>32949.000000</td>\n",
       "      <td>32949.000000</td>\n",
       "      <td>32949.000000</td>\n",
       "      <td>32949.000000</td>\n",
       "    </tr>\n",
       "    <tr>\n",
       "      <th>unique</th>\n",
       "      <td>32951</td>\n",
       "      <td>73</td>\n",
       "      <td>NaN</td>\n",
       "      <td>NaN</td>\n",
       "      <td>NaN</td>\n",
       "      <td>NaN</td>\n",
       "      <td>NaN</td>\n",
       "      <td>NaN</td>\n",
       "      <td>NaN</td>\n",
       "    </tr>\n",
       "    <tr>\n",
       "      <th>top</th>\n",
       "      <td>106392145fca363410d287a815be6de4</td>\n",
       "      <td>cama_mesa_banho</td>\n",
       "      <td>NaN</td>\n",
       "      <td>NaN</td>\n",
       "      <td>NaN</td>\n",
       "      <td>NaN</td>\n",
       "      <td>NaN</td>\n",
       "      <td>NaN</td>\n",
       "      <td>NaN</td>\n",
       "    </tr>\n",
       "    <tr>\n",
       "      <th>freq</th>\n",
       "      <td>1</td>\n",
       "      <td>3029</td>\n",
       "      <td>NaN</td>\n",
       "      <td>NaN</td>\n",
       "      <td>NaN</td>\n",
       "      <td>NaN</td>\n",
       "      <td>NaN</td>\n",
       "      <td>NaN</td>\n",
       "      <td>NaN</td>\n",
       "    </tr>\n",
       "    <tr>\n",
       "      <th>mean</th>\n",
       "      <td>NaN</td>\n",
       "      <td>NaN</td>\n",
       "      <td>48.476949</td>\n",
       "      <td>771.495285</td>\n",
       "      <td>2.188986</td>\n",
       "      <td>2276.472488</td>\n",
       "      <td>30.815078</td>\n",
       "      <td>16.937661</td>\n",
       "      <td>23.196728</td>\n",
       "    </tr>\n",
       "    <tr>\n",
       "      <th>std</th>\n",
       "      <td>NaN</td>\n",
       "      <td>NaN</td>\n",
       "      <td>10.245741</td>\n",
       "      <td>635.115225</td>\n",
       "      <td>1.736766</td>\n",
       "      <td>4282.038731</td>\n",
       "      <td>16.914458</td>\n",
       "      <td>13.637554</td>\n",
       "      <td>12.079047</td>\n",
       "    </tr>\n",
       "    <tr>\n",
       "      <th>min</th>\n",
       "      <td>NaN</td>\n",
       "      <td>NaN</td>\n",
       "      <td>5.000000</td>\n",
       "      <td>4.000000</td>\n",
       "      <td>1.000000</td>\n",
       "      <td>0.000000</td>\n",
       "      <td>7.000000</td>\n",
       "      <td>2.000000</td>\n",
       "      <td>6.000000</td>\n",
       "    </tr>\n",
       "    <tr>\n",
       "      <th>25%</th>\n",
       "      <td>NaN</td>\n",
       "      <td>NaN</td>\n",
       "      <td>42.000000</td>\n",
       "      <td>339.000000</td>\n",
       "      <td>1.000000</td>\n",
       "      <td>300.000000</td>\n",
       "      <td>18.000000</td>\n",
       "      <td>8.000000</td>\n",
       "      <td>15.000000</td>\n",
       "    </tr>\n",
       "    <tr>\n",
       "      <th>50%</th>\n",
       "      <td>NaN</td>\n",
       "      <td>NaN</td>\n",
       "      <td>51.000000</td>\n",
       "      <td>595.000000</td>\n",
       "      <td>1.000000</td>\n",
       "      <td>700.000000</td>\n",
       "      <td>25.000000</td>\n",
       "      <td>13.000000</td>\n",
       "      <td>20.000000</td>\n",
       "    </tr>\n",
       "    <tr>\n",
       "      <th>75%</th>\n",
       "      <td>NaN</td>\n",
       "      <td>NaN</td>\n",
       "      <td>57.000000</td>\n",
       "      <td>972.000000</td>\n",
       "      <td>3.000000</td>\n",
       "      <td>1900.000000</td>\n",
       "      <td>38.000000</td>\n",
       "      <td>21.000000</td>\n",
       "      <td>30.000000</td>\n",
       "    </tr>\n",
       "    <tr>\n",
       "      <th>max</th>\n",
       "      <td>NaN</td>\n",
       "      <td>NaN</td>\n",
       "      <td>76.000000</td>\n",
       "      <td>3992.000000</td>\n",
       "      <td>20.000000</td>\n",
       "      <td>40425.000000</td>\n",
       "      <td>105.000000</td>\n",
       "      <td>105.000000</td>\n",
       "      <td>118.000000</td>\n",
       "    </tr>\n",
       "  </tbody>\n",
       "</table>\n",
       "</div>"
      ],
      "text/plain": [
       "                              product_id product_category_name  \\\n",
       "count                              32951                 32341   \n",
       "unique                             32951                    73   \n",
       "top     106392145fca363410d287a815be6de4       cama_mesa_banho   \n",
       "freq                                   1                  3029   \n",
       "mean                                 NaN                   NaN   \n",
       "std                                  NaN                   NaN   \n",
       "min                                  NaN                   NaN   \n",
       "25%                                  NaN                   NaN   \n",
       "50%                                  NaN                   NaN   \n",
       "75%                                  NaN                   NaN   \n",
       "max                                  NaN                   NaN   \n",
       "\n",
       "        product_name_lenght  product_description_lenght  product_photos_qty  \\\n",
       "count          32341.000000                32341.000000        32341.000000   \n",
       "unique                  NaN                         NaN                 NaN   \n",
       "top                     NaN                         NaN                 NaN   \n",
       "freq                    NaN                         NaN                 NaN   \n",
       "mean              48.476949                  771.495285            2.188986   \n",
       "std               10.245741                  635.115225            1.736766   \n",
       "min                5.000000                    4.000000            1.000000   \n",
       "25%               42.000000                  339.000000            1.000000   \n",
       "50%               51.000000                  595.000000            1.000000   \n",
       "75%               57.000000                  972.000000            3.000000   \n",
       "max               76.000000                 3992.000000           20.000000   \n",
       "\n",
       "        product_weight_g  product_length_cm  product_height_cm  \\\n",
       "count       32949.000000       32949.000000       32949.000000   \n",
       "unique               NaN                NaN                NaN   \n",
       "top                  NaN                NaN                NaN   \n",
       "freq                 NaN                NaN                NaN   \n",
       "mean         2276.472488          30.815078          16.937661   \n",
       "std          4282.038731          16.914458          13.637554   \n",
       "min             0.000000           7.000000           2.000000   \n",
       "25%           300.000000          18.000000           8.000000   \n",
       "50%           700.000000          25.000000          13.000000   \n",
       "75%          1900.000000          38.000000          21.000000   \n",
       "max         40425.000000         105.000000         105.000000   \n",
       "\n",
       "        product_width_cm  \n",
       "count       32949.000000  \n",
       "unique               NaN  \n",
       "top                  NaN  \n",
       "freq                 NaN  \n",
       "mean           23.196728  \n",
       "std            12.079047  \n",
       "min             6.000000  \n",
       "25%            15.000000  \n",
       "50%            20.000000  \n",
       "75%            30.000000  \n",
       "max           118.000000  "
      ]
     },
     "execution_count": 38,
     "metadata": {},
     "output_type": "execute_result"
    }
   ],
   "source": [
    "products_df.describe(include=\"all\")"
   ]
  },
  {
   "attachments": {},
   "cell_type": "markdown",
   "metadata": {},
   "source": [
    "**Insight:**\n",
    "- Tidak ada duplikasi data\n",
    "- Tidak ada anomali pada tipe data\n",
    "- Ada bebrapa kolom yang memiliki data dengan value kosong"
   ]
  },
  {
   "attachments": {},
   "cell_type": "markdown",
   "metadata": {},
   "source": [
    "#### Assess Data Frame product_category_name_translation"
   ]
  },
  {
   "cell_type": "code",
   "execution_count": 39,
   "metadata": {},
   "outputs": [
    {
     "name": "stdout",
     "output_type": "stream",
     "text": [
      "<class 'pandas.core.frame.DataFrame'>\n",
      "RangeIndex: 71 entries, 0 to 70\n",
      "Data columns (total 2 columns):\n",
      " #   Column                         Non-Null Count  Dtype \n",
      "---  ------                         --------------  ----- \n",
      " 0   product_category_name          71 non-null     object\n",
      " 1   product_category_name_english  71 non-null     object\n",
      "dtypes: object(2)\n",
      "memory usage: 1.2+ KB\n"
     ]
    }
   ],
   "source": [
    "product_category_name_translation_df.info()"
   ]
  },
  {
   "cell_type": "code",
   "execution_count": 40,
   "metadata": {},
   "outputs": [
    {
     "data": {
      "text/plain": [
       "product_category_name            0\n",
       "product_category_name_english    0\n",
       "dtype: int64"
      ]
     },
     "execution_count": 40,
     "metadata": {},
     "output_type": "execute_result"
    }
   ],
   "source": [
    "product_category_name_translation_df.isna().sum()"
   ]
  },
  {
   "cell_type": "code",
   "execution_count": 41,
   "metadata": {},
   "outputs": [
    {
     "name": "stdout",
     "output_type": "stream",
     "text": [
      "Jumlah duplikasi:  0\n"
     ]
    }
   ],
   "source": [
    "print(\"Jumlah duplikasi: \", product_category_name_translation_df.duplicated().sum())"
   ]
  },
  {
   "attachments": {},
   "cell_type": "markdown",
   "metadata": {},
   "source": [
    "**Insight:**\n",
    "- Tidak ada duplikasi data\n",
    "- Tidak ada anomali pada tipe data\n",
    "- Tidak ada data dengan value kosong"
   ]
  },
  {
   "attachments": {},
   "cell_type": "markdown",
   "metadata": {},
   "source": [
    "#### Assess Data Frame sellers"
   ]
  },
  {
   "cell_type": "code",
   "execution_count": 42,
   "metadata": {},
   "outputs": [
    {
     "name": "stdout",
     "output_type": "stream",
     "text": [
      "<class 'pandas.core.frame.DataFrame'>\n",
      "RangeIndex: 3095 entries, 0 to 3094\n",
      "Data columns (total 4 columns):\n",
      " #   Column                  Non-Null Count  Dtype \n",
      "---  ------                  --------------  ----- \n",
      " 0   seller_id               3095 non-null   object\n",
      " 1   seller_zip_code_prefix  3095 non-null   int64 \n",
      " 2   seller_city             3095 non-null   object\n",
      " 3   seller_state            3095 non-null   object\n",
      "dtypes: int64(1), object(3)\n",
      "memory usage: 96.8+ KB\n"
     ]
    }
   ],
   "source": [
    "sellers_df.info()"
   ]
  },
  {
   "cell_type": "code",
   "execution_count": 43,
   "metadata": {},
   "outputs": [
    {
     "data": {
      "text/plain": [
       "seller_id                 0\n",
       "seller_zip_code_prefix    0\n",
       "seller_city               0\n",
       "seller_state              0\n",
       "dtype: int64"
      ]
     },
     "execution_count": 43,
     "metadata": {},
     "output_type": "execute_result"
    }
   ],
   "source": [
    "sellers_df.isna().sum()"
   ]
  },
  {
   "cell_type": "code",
   "execution_count": 44,
   "metadata": {},
   "outputs": [
    {
     "name": "stdout",
     "output_type": "stream",
     "text": [
      "Jumlah duplikasi:  0\n"
     ]
    }
   ],
   "source": [
    "print(\"Jumlah duplikasi: \", sellers_df.duplicated().sum())"
   ]
  },
  {
   "attachments": {},
   "cell_type": "markdown",
   "metadata": {},
   "source": [
    "**Insight:**\n",
    "- Tidak ada duplikasi data\n",
    "- Tidak ada anomali pada tipe data\n",
    "- Tidak ada data dengan value kosong"
   ]
  },
  {
   "cell_type": "markdown",
   "metadata": {
    "id": "EhN5R4hr8DC1"
   },
   "source": [
    "### Cleaning Data"
   ]
  },
  {
   "attachments": {},
   "cell_type": "markdown",
   "metadata": {},
   "source": [
    "#### Cleaning geolocations"
   ]
  },
  {
   "cell_type": "code",
   "execution_count": 45,
   "metadata": {},
   "outputs": [
    {
     "name": "stdout",
     "output_type": "stream",
     "text": [
      "Jumlah duplikasi:  0\n"
     ]
    }
   ],
   "source": [
    "# Drop duplikasi\n",
    "geolocation_df.drop_duplicates(inplace=True)\n",
    "print(\"Jumlah duplikasi: \", geolocation_df.duplicated().sum())"
   ]
  },
  {
   "cell_type": "code",
   "execution_count": 108,
   "metadata": {},
   "outputs": [],
   "source": [
    "def normalize_city_name(city_name):\n",
    "    # Normalisasi Unicode dan ubah menjadi huruf kecil\n",
    "    normalize = unicodedata.normalize('NFKD', city_name).encode('ASCII', 'ignore').decode('ASCII').lower()\n",
    "    return normalize.title()"
   ]
  },
  {
   "attachments": {},
   "cell_type": "markdown",
   "metadata": {},
   "source": [
    "**Insight:**\n",
    "- Menghapus data yang terdeteksi duplikasi\n",
    "- Mendefinisikan function untuk normalisasi nama kota"
   ]
  },
  {
   "attachments": {},
   "cell_type": "markdown",
   "metadata": {},
   "source": [
    "#### Cleaning orders"
   ]
  },
  {
   "cell_type": "code",
   "execution_count": 46,
   "metadata": {},
   "outputs": [
    {
     "name": "stdout",
     "output_type": "stream",
     "text": [
      "<class 'pandas.core.frame.DataFrame'>\n",
      "RangeIndex: 99441 entries, 0 to 99440\n",
      "Data columns (total 8 columns):\n",
      " #   Column                         Non-Null Count  Dtype         \n",
      "---  ------                         --------------  -----         \n",
      " 0   order_id                       99441 non-null  object        \n",
      " 1   customer_id                    99441 non-null  object        \n",
      " 2   order_status                   99441 non-null  object        \n",
      " 3   order_purchase_timestamp       99441 non-null  datetime64[ns]\n",
      " 4   order_approved_at              99281 non-null  datetime64[ns]\n",
      " 5   order_delivered_carrier_date   97658 non-null  datetime64[ns]\n",
      " 6   order_delivered_customer_date  96476 non-null  datetime64[ns]\n",
      " 7   order_estimated_delivery_date  99441 non-null  datetime64[ns]\n",
      "dtypes: datetime64[ns](5), object(3)\n",
      "memory usage: 6.1+ MB\n"
     ]
    }
   ],
   "source": [
    "# Konversi semua kolom tanggal ke datetime\n",
    "orders_df[\"order_purchase_timestamp\"] = pd.to_datetime(orders_df[\"order_purchase_timestamp\"])\n",
    "orders_df[\"order_approved_at\"] = pd.to_datetime(orders_df[\"order_approved_at\"])\n",
    "orders_df[\"order_delivered_carrier_date\"] = pd.to_datetime(orders_df[\"order_delivered_carrier_date\"])\n",
    "orders_df[\"order_delivered_customer_date\"] = pd.to_datetime(orders_df[\"order_delivered_customer_date\"])\n",
    "orders_df[\"order_estimated_delivery_date\"] = pd.to_datetime(orders_df[\"order_estimated_delivery_date\"])\n",
    "orders_df.info()"
   ]
  },
  {
   "attachments": {},
   "cell_type": "markdown",
   "metadata": {},
   "source": [
    "**Insight:**\n",
    "- Mengubah tipe data dari tanggal menjadi datetime agar bisa diolah"
   ]
  },
  {
   "cell_type": "code",
   "execution_count": 47,
   "metadata": {},
   "outputs": [],
   "source": [
    "orders_df = orders_df.drop(orders_df[orders_df['order_status'].isin(['canceled', 'unavailable'])].index)"
   ]
  },
  {
   "cell_type": "code",
   "execution_count": 48,
   "metadata": {},
   "outputs": [
    {
     "name": "stdout",
     "output_type": "stream",
     "text": [
      "Jumlah data 'delivered' tetapi order_delivered_customer_date NaN: 0\n"
     ]
    }
   ],
   "source": [
    "median_days_difference = (orders_df['order_delivered_customer_date'] - orders_df['order_estimated_delivery_date']).median()\n",
    "orders_df.loc[\n",
    "    (orders_df['order_delivered_customer_date'].isna()) & (orders_df['order_status'] == 'delivered'),\n",
    "    'order_delivered_customer_date'\n",
    "] = orders_df['order_estimated_delivery_date'] + median_days_difference\n",
    "\n",
    "count_nan_delivered = orders_df[(orders_df['order_status'] == 'delivered') & (orders_df['order_delivered_customer_date'].isna())].shape[0]\n",
    "print(f\"Jumlah data 'delivered' tetapi order_delivered_customer_date NaN: {count_nan_delivered}\")"
   ]
  },
  {
   "attachments": {},
   "cell_type": "markdown",
   "metadata": {},
   "source": [
    "**Insight:**\n",
    "- Menghapus data dengan value NaN pada order_delivered_customer_date yang order_statusnya canceled dan unavailable\n",
    "- Mengisi nilai value untuk pesanan delivered dan NaN menjadi tanggal estimasi delivery + Median selisih tgl delivered dengan estimasi untuk yang bukan NaN"
   ]
  },
  {
   "cell_type": "code",
   "execution_count": 49,
   "metadata": {},
   "outputs": [],
   "source": [
    "orders_df['delivery_delay'] = (orders_df['order_delivered_customer_date'] - orders_df['order_estimated_delivery_date']).dt.days"
   ]
  },
  {
   "attachments": {},
   "cell_type": "markdown",
   "metadata": {},
   "source": [
    "**Insight:**\n",
    "- Membuat delivery_delay untuk menghitung keterlambatan"
   ]
  },
  {
   "attachments": {},
   "cell_type": "markdown",
   "metadata": {},
   "source": [
    "#### Cleaning order_items"
   ]
  },
  {
   "cell_type": "code",
   "execution_count": 50,
   "metadata": {},
   "outputs": [
    {
     "name": "stdout",
     "output_type": "stream",
     "text": [
      "<class 'pandas.core.frame.DataFrame'>\n",
      "RangeIndex: 112650 entries, 0 to 112649\n",
      "Data columns (total 7 columns):\n",
      " #   Column               Non-Null Count   Dtype         \n",
      "---  ------               --------------   -----         \n",
      " 0   order_id             112650 non-null  object        \n",
      " 1   order_item_id        112650 non-null  int64         \n",
      " 2   product_id           112650 non-null  object        \n",
      " 3   seller_id            112650 non-null  object        \n",
      " 4   shipping_limit_date  112650 non-null  datetime64[ns]\n",
      " 5   price                112650 non-null  float64       \n",
      " 6   freight_value        112650 non-null  float64       \n",
      "dtypes: datetime64[ns](1), float64(2), int64(1), object(3)\n",
      "memory usage: 6.0+ MB\n"
     ]
    }
   ],
   "source": [
    "order_items_df[\"shipping_limit_date\"] = pd.to_datetime(order_items_df[\"shipping_limit_date\"])\n",
    "order_items_df.info()"
   ]
  },
  {
   "attachments": {},
   "cell_type": "markdown",
   "metadata": {},
   "source": [
    "**Insight:**\n",
    "- Mengubah menjadi tipe data datetime untuk shipping_limit_date"
   ]
  },
  {
   "attachments": {},
   "cell_type": "markdown",
   "metadata": {},
   "source": [
    "#### Cleaning order_reviews"
   ]
  },
  {
   "cell_type": "code",
   "execution_count": 51,
   "metadata": {},
   "outputs": [
    {
     "name": "stdout",
     "output_type": "stream",
     "text": [
      "<class 'pandas.core.frame.DataFrame'>\n",
      "RangeIndex: 99224 entries, 0 to 99223\n",
      "Data columns (total 7 columns):\n",
      " #   Column                   Non-Null Count  Dtype         \n",
      "---  ------                   --------------  -----         \n",
      " 0   review_id                99224 non-null  object        \n",
      " 1   order_id                 99224 non-null  object        \n",
      " 2   review_score             99224 non-null  int64         \n",
      " 3   review_comment_title     11568 non-null  object        \n",
      " 4   review_comment_message   40977 non-null  object        \n",
      " 5   review_creation_date     99224 non-null  datetime64[ns]\n",
      " 6   review_answer_timestamp  99224 non-null  datetime64[ns]\n",
      "dtypes: datetime64[ns](2), int64(1), object(4)\n",
      "memory usage: 5.3+ MB\n"
     ]
    }
   ],
   "source": [
    "order_reviews_df[\"review_creation_date\"] = pd.to_datetime(order_reviews_df[\"review_creation_date\"])\n",
    "order_reviews_df[\"review_answer_timestamp\"] = pd.to_datetime(order_reviews_df[\"review_answer_timestamp\"])\n",
    "order_reviews_df.info()"
   ]
  },
  {
   "attachments": {},
   "cell_type": "markdown",
   "metadata": {},
   "source": [
    "**Insight:**\n",
    "- Mengubah menjadi datetime untuk kedua kolom yang berinformasikan tanggal"
   ]
  },
  {
   "cell_type": "code",
   "execution_count": 52,
   "metadata": {},
   "outputs": [
    {
     "data": {
      "text/plain": [
       "review_id                  0\n",
       "order_id                   0\n",
       "review_score               0\n",
       "review_comment_title       0\n",
       "review_comment_message     0\n",
       "review_creation_date       0\n",
       "review_answer_timestamp    0\n",
       "dtype: int64"
      ]
     },
     "execution_count": 52,
     "metadata": {},
     "output_type": "execute_result"
    }
   ],
   "source": [
    "order_reviews_df = order_reviews_df.assign(\n",
    "    review_comment_title=order_reviews_df[\"review_comment_title\"].fillna(\"No Title\"),\n",
    "    review_comment_message=order_reviews_df[\"review_comment_message\"].fillna(\"No Comment\")\n",
    ")\n",
    "order_reviews_df.isna().sum()"
   ]
  },
  {
   "attachments": {},
   "cell_type": "markdown",
   "metadata": {},
   "source": [
    "#### Cleaning products"
   ]
  },
  {
   "cell_type": "code",
   "execution_count": 53,
   "metadata": {},
   "outputs": [],
   "source": [
    "products_df = products_df.assign(\n",
    "    product_category_name=products_df[\"product_category_name\"].fillna(\"Unknown\"),\n",
    "    product_name_lenght=products_df[\"product_name_lenght\"].fillna(products_df[\"product_name_lenght\"].median()),\n",
    "    product_description_lenght=products_df[\"product_description_lenght\"].fillna(products_df[\"product_description_lenght\"].median()),\n",
    "    product_photos_qty=products_df[\"product_photos_qty\"].fillna(products_df[\"product_photos_qty\"].median()),\n",
    "    product_weight_g=products_df[\"product_weight_g\"].fillna(products_df[\"product_weight_g\"].median()),\n",
    "    product_length_cm=products_df[\"product_length_cm\"].fillna(products_df[\"product_length_cm\"].median()),\n",
    "    product_height_cm=products_df[\"product_height_cm\"].fillna(products_df[\"product_height_cm\"].median()),\n",
    "    product_width_cm=products_df[\"product_width_cm\"].fillna(products_df[\"product_width_cm\"].median()),\n",
    ")"
   ]
  },
  {
   "attachments": {},
   "cell_type": "markdown",
   "metadata": {
    "id": "Q_5ejIqckiSP"
   },
   "source": [
    "**Insight:**\n",
    "- Mengisi NaN value pada kolom nama kategori menjadi Unknown\n",
    "- Mengisi nilai NaN pada yang lain menggunakan median agar menghindari outlier"
   ]
  },
  {
   "cell_type": "code",
   "execution_count": 54,
   "metadata": {},
   "outputs": [
    {
     "name": "stdout",
     "output_type": "stream",
     "text": [
      "                         product_id product_category_name\n",
      "0  1e9e8ef04dbcff4541ed26657ea517e5             perfumery\n",
      "1  3aa071139cb16b67ca9e5dea641aaa2f                   art\n",
      "2  96bd76ec8810374ed1b65e291975717f        sports_leisure\n",
      "3  cef67bcfe19066a932b7673e239eb23d                  baby\n",
      "4  9dc1a7de274444849c219cff195d0b71            housewares\n",
      "5  41d3672d4792049fa1779bb35283ed13   musical_instruments\n",
      "6  732bd381ad09e530fe0a5f457d81becb            cool_stuff\n",
      "7  2548af3e6e77a690cf3eb6368e9ab61e       furniture_decor\n",
      "8  37cc742be07708b53a98702e77a21a02       home_appliances\n",
      "9  8c92109888e8cdf9d66dc7e463025574                  toys\n"
     ]
    }
   ],
   "source": [
    "products_df = products_df.merge(product_category_name_translation_df, \n",
    "                                on='product_category_name', \n",
    "                                how='left')\n",
    "\n",
    "products_df.drop(columns=['product_category_name'], inplace=True)\n",
    "products_df.rename(columns={'product_category_name_english': 'product_category_name'}, inplace=True)\n",
    "print(products_df[['product_id', 'product_category_name']].head(10))"
   ]
  },
  {
   "attachments": {},
   "cell_type": "markdown",
   "metadata": {},
   "source": [
    "**Insight:**\n",
    "- Mengubah product_category_name menjadi terjemahan bahasa inggris"
   ]
  },
  {
   "attachments": {},
   "cell_type": "markdown",
   "metadata": {},
   "source": [
    "#### Create New Data Frame delivered_orders_df"
   ]
  },
  {
   "cell_type": "code",
   "execution_count": 55,
   "metadata": {},
   "outputs": [
    {
     "data": {
      "text/html": [
       "<div>\n",
       "<style scoped>\n",
       "    .dataframe tbody tr th:only-of-type {\n",
       "        vertical-align: middle;\n",
       "    }\n",
       "\n",
       "    .dataframe tbody tr th {\n",
       "        vertical-align: top;\n",
       "    }\n",
       "\n",
       "    .dataframe thead th {\n",
       "        text-align: right;\n",
       "    }\n",
       "</style>\n",
       "<table border=\"1\" class=\"dataframe\">\n",
       "  <thead>\n",
       "    <tr style=\"text-align: right;\">\n",
       "      <th></th>\n",
       "      <th>order_id</th>\n",
       "      <th>customer_id</th>\n",
       "      <th>order_status</th>\n",
       "      <th>order_purchase_timestamp</th>\n",
       "      <th>order_approved_at</th>\n",
       "      <th>order_delivered_carrier_date</th>\n",
       "      <th>order_delivered_customer_date</th>\n",
       "      <th>order_estimated_delivery_date</th>\n",
       "      <th>delivery_delay</th>\n",
       "    </tr>\n",
       "  </thead>\n",
       "  <tbody>\n",
       "    <tr>\n",
       "      <th>0</th>\n",
       "      <td>e481f51cbdc54678b7cc49136f2d6af7</td>\n",
       "      <td>9ef432eb6251297304e76186b10a928d</td>\n",
       "      <td>delivered</td>\n",
       "      <td>2017-10-02 10:56:33</td>\n",
       "      <td>2017-10-02 11:07:15</td>\n",
       "      <td>2017-10-04 19:55:00</td>\n",
       "      <td>2017-10-10 21:25:13</td>\n",
       "      <td>2017-10-18</td>\n",
       "      <td>-8.0</td>\n",
       "    </tr>\n",
       "    <tr>\n",
       "      <th>1</th>\n",
       "      <td>53cdb2fc8bc7dce0b6741e2150273451</td>\n",
       "      <td>b0830fb4747a6c6d20dea0b8c802d7ef</td>\n",
       "      <td>delivered</td>\n",
       "      <td>2018-07-24 20:41:37</td>\n",
       "      <td>2018-07-26 03:24:27</td>\n",
       "      <td>2018-07-26 14:31:00</td>\n",
       "      <td>2018-08-07 15:27:45</td>\n",
       "      <td>2018-08-13</td>\n",
       "      <td>-6.0</td>\n",
       "    </tr>\n",
       "    <tr>\n",
       "      <th>2</th>\n",
       "      <td>47770eb9100c2d0c44946d9cf07ec65d</td>\n",
       "      <td>41ce2a54c0b03bf3443c3d931a367089</td>\n",
       "      <td>delivered</td>\n",
       "      <td>2018-08-08 08:38:49</td>\n",
       "      <td>2018-08-08 08:55:23</td>\n",
       "      <td>2018-08-08 13:50:00</td>\n",
       "      <td>2018-08-17 18:06:29</td>\n",
       "      <td>2018-09-04</td>\n",
       "      <td>-18.0</td>\n",
       "    </tr>\n",
       "    <tr>\n",
       "      <th>3</th>\n",
       "      <td>949d5b44dbf5de918fe9c16f97b45f8a</td>\n",
       "      <td>f88197465ea7920adcdbec7375364d82</td>\n",
       "      <td>delivered</td>\n",
       "      <td>2017-11-18 19:28:06</td>\n",
       "      <td>2017-11-18 19:45:59</td>\n",
       "      <td>2017-11-22 13:39:59</td>\n",
       "      <td>2017-12-02 00:28:42</td>\n",
       "      <td>2017-12-15</td>\n",
       "      <td>-13.0</td>\n",
       "    </tr>\n",
       "    <tr>\n",
       "      <th>4</th>\n",
       "      <td>ad21c59c0840e6cb83a9ceb5573f8159</td>\n",
       "      <td>8ab97904e6daea8866dbdbc4fb7aad2c</td>\n",
       "      <td>delivered</td>\n",
       "      <td>2018-02-13 21:18:39</td>\n",
       "      <td>2018-02-13 22:20:29</td>\n",
       "      <td>2018-02-14 19:46:34</td>\n",
       "      <td>2018-02-16 18:17:02</td>\n",
       "      <td>2018-02-26</td>\n",
       "      <td>-10.0</td>\n",
       "    </tr>\n",
       "  </tbody>\n",
       "</table>\n",
       "</div>"
      ],
      "text/plain": [
       "                           order_id                       customer_id  \\\n",
       "0  e481f51cbdc54678b7cc49136f2d6af7  9ef432eb6251297304e76186b10a928d   \n",
       "1  53cdb2fc8bc7dce0b6741e2150273451  b0830fb4747a6c6d20dea0b8c802d7ef   \n",
       "2  47770eb9100c2d0c44946d9cf07ec65d  41ce2a54c0b03bf3443c3d931a367089   \n",
       "3  949d5b44dbf5de918fe9c16f97b45f8a  f88197465ea7920adcdbec7375364d82   \n",
       "4  ad21c59c0840e6cb83a9ceb5573f8159  8ab97904e6daea8866dbdbc4fb7aad2c   \n",
       "\n",
       "  order_status order_purchase_timestamp   order_approved_at  \\\n",
       "0    delivered      2017-10-02 10:56:33 2017-10-02 11:07:15   \n",
       "1    delivered      2018-07-24 20:41:37 2018-07-26 03:24:27   \n",
       "2    delivered      2018-08-08 08:38:49 2018-08-08 08:55:23   \n",
       "3    delivered      2017-11-18 19:28:06 2017-11-18 19:45:59   \n",
       "4    delivered      2018-02-13 21:18:39 2018-02-13 22:20:29   \n",
       "\n",
       "  order_delivered_carrier_date order_delivered_customer_date  \\\n",
       "0          2017-10-04 19:55:00           2017-10-10 21:25:13   \n",
       "1          2018-07-26 14:31:00           2018-08-07 15:27:45   \n",
       "2          2018-08-08 13:50:00           2018-08-17 18:06:29   \n",
       "3          2017-11-22 13:39:59           2017-12-02 00:28:42   \n",
       "4          2018-02-14 19:46:34           2018-02-16 18:17:02   \n",
       "\n",
       "  order_estimated_delivery_date  delivery_delay  \n",
       "0                    2017-10-18            -8.0  \n",
       "1                    2018-08-13            -6.0  \n",
       "2                    2018-09-04           -18.0  \n",
       "3                    2017-12-15           -13.0  \n",
       "4                    2018-02-26           -10.0  "
      ]
     },
     "execution_count": 55,
     "metadata": {},
     "output_type": "execute_result"
    }
   ],
   "source": [
    "delivered_orders_df = orders_df[orders_df['order_status'] == 'delivered']\n",
    "delivered_orders_df.head()"
   ]
  },
  {
   "cell_type": "code",
   "execution_count": 56,
   "metadata": {},
   "outputs": [],
   "source": [
    "delivered_orders_df.loc[delivered_orders_df['order_approved_at'].isna(), 'order_approved_at'] = delivered_orders_df['order_purchase_timestamp']"
   ]
  },
  {
   "cell_type": "code",
   "execution_count": 57,
   "metadata": {},
   "outputs": [
    {
     "data": {
      "text/plain": [
       "order_id                         0\n",
       "customer_id                      0\n",
       "order_status                     0\n",
       "order_purchase_timestamp         0\n",
       "order_approved_at                0\n",
       "order_delivered_carrier_date     0\n",
       "order_delivered_customer_date    0\n",
       "order_estimated_delivery_date    0\n",
       "delivery_delay                   0\n",
       "dtype: int64"
      ]
     },
     "execution_count": 57,
     "metadata": {},
     "output_type": "execute_result"
    }
   ],
   "source": [
    "median_time_to_carrier = (delivered_orders_df['order_delivered_carrier_date'] - delivered_orders_df['order_approved_at']).median()\n",
    "\n",
    "# Isi NaN dengan estimasi waktu berdasarkan median\n",
    "delivered_orders_df.loc[delivered_orders_df['order_delivered_carrier_date'].isna(), 'order_delivered_carrier_date'] = (\n",
    "    delivered_orders_df['order_approved_at'] + median_time_to_carrier\n",
    ")\n",
    "delivered_orders_df.isna().sum()"
   ]
  },
  {
   "attachments": {},
   "cell_type": "markdown",
   "metadata": {},
   "source": [
    "**Insight:**\n",
    "- Membuat data frame baru yang memuat hanya data orders dengan status delivered\n",
    "- Membersihkan data dari data NaN value"
   ]
  },
  {
   "cell_type": "markdown",
   "metadata": {
    "id": "gp-Y6wU38DC1"
   },
   "source": [
    "## Exploratory Data Analysis (EDA)"
   ]
  },
  {
   "attachments": {},
   "cell_type": "markdown",
   "metadata": {},
   "source": [
    "### Distribusi Final Revenue Per Seller"
   ]
  },
  {
   "cell_type": "code",
   "execution_count": 58,
   "metadata": {},
   "outputs": [],
   "source": [
    "delivered_order_items = order_items_df.merge(delivered_orders_df[['order_id']], on='order_id', how='inner')\n",
    "\n",
    "revenue_per_seller = delivered_order_items.groupby('seller_id')['price'].sum().reset_index()\n",
    "revenue_per_seller = revenue_per_seller.sort_values(by='price', ascending=False)"
   ]
  },
  {
   "attachments": {},
   "cell_type": "markdown",
   "metadata": {},
   "source": [
    "**Insight:**\n",
    "- Revenue yang diambil hanya untuk order yang sudah di deliver mengambil dari delivered_orders_df"
   ]
  },
  {
   "cell_type": "code",
   "execution_count": 59,
   "metadata": {},
   "outputs": [
    {
     "data": {
      "image/png": "[encoded data removed]",
      "text/plain": [
       "<Figure size 1000x500 with 1 Axes>"
      ]
     },
     "metadata": {},
     "output_type": "display_data"
    }
   ],
   "source": [
    "plt.figure(figsize=(10,5))\n",
    "sns.histplot(revenue_per_seller['price'], bins=50, kde=True)\n",
    "plt.title(\"Distribusi Revenue per Seller (Delivered Orders Only)\")\n",
    "plt.xlabel(\"Total Revenue\")\n",
    "plt.ylabel(\"Jumlah Seller\")\n",
    "plt.show()"
   ]
  },
  {
   "attachments": {},
   "cell_type": "markdown",
   "metadata": {},
   "source": [
    "### Mengidentifikasi Lokasi Kota Seller dengan Akumulasi Revenue Terbesar dan Terkecil"
   ]
  },
  {
   "cell_type": "code",
   "execution_count": 112,
   "metadata": {},
   "outputs": [],
   "source": [
    "revenue_sellers = revenue_per_seller.merge(sellers_df, on='seller_id', how='left')\n",
    "revenue_per_city = revenue_sellers.groupby(['seller_city', 'seller_state'])['price'].sum().reset_index()\n",
    "revenue_per_city['seller_city'] = revenue_per_city['seller_city'].apply(normalize_city_name)"
   ]
  },
  {
   "cell_type": "code",
   "execution_count": 113,
   "metadata": {},
   "outputs": [
    {
     "name": "stdout",
     "output_type": "stream",
     "text": [
      "Top 10 Kota dengan Revenue Terbesar:\n",
      "          seller_city seller_state       price\n",
      "527         Sao Paulo           SP  2628634.52\n",
      "230          Ibitinga           SP   614836.09\n",
      "161          Curitiba           PR   455953.73\n",
      "457    Rio De Janeiro           RJ   342054.97\n",
      "223         Guarulhos           SP   318217.59\n",
      "449    Ribeirao Preto           SP   267478.85\n",
      "262   Itaquaquecetuba           SP   228460.34\n",
      "221           Guariba           SP   226987.93\n",
      "492       Santo Andre           SP   223280.71\n",
      "306  Lauro De Freitas           BA   220689.44\n"
     ]
    }
   ],
   "source": [
    "# Seller dengan revenue terbesar\n",
    "revenue_per_city = revenue_per_city.sort_values(by='price', ascending=False)\n",
    "print(\"Top 10 Kota dengan Revenue Terbesar:\")\n",
    "print(revenue_per_city.head(10))"
   ]
  },
  {
   "cell_type": "code",
   "execution_count": 114,
   "metadata": {},
   "outputs": [
    {
     "name": "stdout",
     "output_type": "stream",
     "text": [
      "Top 10 Seller dengan Revenue Terkecil:\n",
      "               seller_city seller_state  price\n",
      "388               Palotina           PR   9.99\n",
      "318               Macatuba           SP  13.00\n",
      "284                 Jarinu           SP  14.63\n",
      "75   Bom Jesus Dos Perdoes           SP  19.90\n",
      "188           Floranopolis           SC  19.98\n",
      "446                Resende           RJ  19.99\n",
      "124              Cascavael           PR  21.99\n",
      "56              Barro Alto           BA  23.90\n",
      "145                 Condor           RS  24.90\n",
      "85                  Brotas           SP  25.00\n"
     ]
    }
   ],
   "source": [
    "# Seller dengan revenue terkecil\n",
    "revenue_per_city = revenue_per_city.sort_values(by='price', ascending=True)\n",
    "print(\"Top 10 Seller dengan Revenue Terkecil:\")\n",
    "print(revenue_per_city.head(10))"
   ]
  },
  {
   "attachments": {},
   "cell_type": "markdown",
   "metadata": {},
   "source": [
    "**Insight:**\n",
    "- Seller terbesar memiliki final revenue sebesar 226987.93 dan terkecil di 6.50"
   ]
  },
  {
   "attachments": {},
   "cell_type": "markdown",
   "metadata": {},
   "source": [
    "### Menganalisis Daerah Keterlambatan Pengiriman"
   ]
  },
  {
   "cell_type": "code",
   "execution_count": 109,
   "metadata": {},
   "outputs": [
    {
     "data": {
      "text/html": [
       "<div>\n",
       "<style scoped>\n",
       "    .dataframe tbody tr th:only-of-type {\n",
       "        vertical-align: middle;\n",
       "    }\n",
       "\n",
       "    .dataframe tbody tr th {\n",
       "        vertical-align: top;\n",
       "    }\n",
       "\n",
       "    .dataframe thead th {\n",
       "        text-align: right;\n",
       "    }\n",
       "</style>\n",
       "<table border=\"1\" class=\"dataframe\">\n",
       "  <thead>\n",
       "    <tr style=\"text-align: right;\">\n",
       "      <th></th>\n",
       "      <th>customer_id</th>\n",
       "      <th>customer_city</th>\n",
       "      <th>customer_state</th>\n",
       "      <th>geolocation_lat</th>\n",
       "      <th>geolocation_lng</th>\n",
       "      <th>delivery_delay</th>\n",
       "    </tr>\n",
       "  </thead>\n",
       "  <tbody>\n",
       "    <tr>\n",
       "      <th>0</th>\n",
       "      <td>9ef432eb6251297304e76186b10a928d</td>\n",
       "      <td>Sao Paulo</td>\n",
       "      <td>SP</td>\n",
       "      <td>-23.574809</td>\n",
       "      <td>-46.587471</td>\n",
       "      <td>-8.0</td>\n",
       "    </tr>\n",
       "    <tr>\n",
       "      <th>1</th>\n",
       "      <td>9ef432eb6251297304e76186b10a928d</td>\n",
       "      <td>Sao Paulo</td>\n",
       "      <td>SP</td>\n",
       "      <td>-23.578333</td>\n",
       "      <td>-46.587123</td>\n",
       "      <td>-8.0</td>\n",
       "    </tr>\n",
       "    <tr>\n",
       "      <th>2</th>\n",
       "      <td>9ef432eb6251297304e76186b10a928d</td>\n",
       "      <td>Sao Paulo</td>\n",
       "      <td>SP</td>\n",
       "      <td>-23.575033</td>\n",
       "      <td>-46.587451</td>\n",
       "      <td>-8.0</td>\n",
       "    </tr>\n",
       "    <tr>\n",
       "      <th>3</th>\n",
       "      <td>9ef432eb6251297304e76186b10a928d</td>\n",
       "      <td>Sao Paulo</td>\n",
       "      <td>SP</td>\n",
       "      <td>-23.580054</td>\n",
       "      <td>-46.586673</td>\n",
       "      <td>-8.0</td>\n",
       "    </tr>\n",
       "    <tr>\n",
       "      <th>4</th>\n",
       "      <td>9ef432eb6251297304e76186b10a928d</td>\n",
       "      <td>Sao Paulo</td>\n",
       "      <td>SP</td>\n",
       "      <td>-23.576281</td>\n",
       "      <td>-46.587276</td>\n",
       "      <td>-8.0</td>\n",
       "    </tr>\n",
       "  </tbody>\n",
       "</table>\n",
       "</div>"
      ],
      "text/plain": [
       "                        customer_id customer_city customer_state  \\\n",
       "0  9ef432eb6251297304e76186b10a928d     Sao Paulo             SP   \n",
       "1  9ef432eb6251297304e76186b10a928d     Sao Paulo             SP   \n",
       "2  9ef432eb6251297304e76186b10a928d     Sao Paulo             SP   \n",
       "3  9ef432eb6251297304e76186b10a928d     Sao Paulo             SP   \n",
       "4  9ef432eb6251297304e76186b10a928d     Sao Paulo             SP   \n",
       "\n",
       "   geolocation_lat  geolocation_lng  delivery_delay  \n",
       "0       -23.574809       -46.587471            -8.0  \n",
       "1       -23.578333       -46.587123            -8.0  \n",
       "2       -23.575033       -46.587451            -8.0  \n",
       "3       -23.580054       -46.586673            -8.0  \n",
       "4       -23.576281       -46.587276            -8.0  "
      ]
     },
     "execution_count": 109,
     "metadata": {},
     "output_type": "execute_result"
    }
   ],
   "source": [
    "# Gabungkan orders_df dengan customers_df\n",
    "orders_customers_geo_df = orders_df.merge(customers_df, on='customer_id', how='left')\n",
    "\n",
    "# Gabungkan dengan geolocation_df menggunakan zip_code\n",
    "orders_customers_geo_df = orders_customers_geo_df.merge(geolocation_df, \n",
    "                                                         left_on='customer_zip_code_prefix', \n",
    "                                                         right_on='geolocation_zip_code_prefix', \n",
    "                                                         how='left')\n",
    "\n",
    "# Normalisasi nama kota\n",
    "orders_customers_geo_df['customer_city'] = orders_customers_geo_df['customer_city'].apply(normalize_city_name)\n",
    "\n",
    "# Cek hasilnya\n",
    "orders_customers_geo_df[['customer_id', 'customer_city', 'customer_state', 'geolocation_lat', 'geolocation_lng', 'delivery_delay']].head()"
   ]
  },
  {
   "attachments": {},
   "cell_type": "markdown",
   "metadata": {},
   "source": [
    "**Menggabungkan geolocation_df dengan orders_df agar orders memiliki informasi latitude dan longtitude**"
   ]
  },
  {
   "cell_type": "code",
   "execution_count": 110,
   "metadata": {},
   "outputs": [
    {
     "data": {
      "text/html": [
       "<div>\n",
       "<style scoped>\n",
       "    .dataframe tbody tr th:only-of-type {\n",
       "        vertical-align: middle;\n",
       "    }\n",
       "\n",
       "    .dataframe tbody tr th {\n",
       "        vertical-align: top;\n",
       "    }\n",
       "\n",
       "    .dataframe thead th {\n",
       "        text-align: right;\n",
       "    }\n",
       "</style>\n",
       "<table border=\"1\" class=\"dataframe\">\n",
       "  <thead>\n",
       "    <tr style=\"text-align: right;\">\n",
       "      <th></th>\n",
       "      <th>customer_city</th>\n",
       "      <th>delivery_delay</th>\n",
       "    </tr>\n",
       "  </thead>\n",
       "  <tbody>\n",
       "    <tr>\n",
       "      <th>2542</th>\n",
       "      <td>Novo Brasil</td>\n",
       "      <td>126.0</td>\n",
       "    </tr>\n",
       "    <tr>\n",
       "      <th>795</th>\n",
       "      <td>Capinzal Do Norte</td>\n",
       "      <td>78.0</td>\n",
       "    </tr>\n",
       "    <tr>\n",
       "      <th>24</th>\n",
       "      <td>Adhemar De Barros</td>\n",
       "      <td>73.0</td>\n",
       "    </tr>\n",
       "    <tr>\n",
       "      <th>231</th>\n",
       "      <td>Arace</td>\n",
       "      <td>53.0</td>\n",
       "    </tr>\n",
       "    <tr>\n",
       "      <th>3689</th>\n",
       "      <td>Serra Dos Dourados</td>\n",
       "      <td>52.0</td>\n",
       "    </tr>\n",
       "    <tr>\n",
       "      <th>2216</th>\n",
       "      <td>Marcelino Vieira</td>\n",
       "      <td>49.0</td>\n",
       "    </tr>\n",
       "    <tr>\n",
       "      <th>247</th>\n",
       "      <td>Aramari</td>\n",
       "      <td>43.0</td>\n",
       "    </tr>\n",
       "    <tr>\n",
       "      <th>1554</th>\n",
       "      <td>Humildes</td>\n",
       "      <td>42.0</td>\n",
       "    </tr>\n",
       "    <tr>\n",
       "      <th>3208</th>\n",
       "      <td>Rubineia</td>\n",
       "      <td>41.0</td>\n",
       "    </tr>\n",
       "    <tr>\n",
       "      <th>1430</th>\n",
       "      <td>Glaura</td>\n",
       "      <td>37.0</td>\n",
       "    </tr>\n",
       "  </tbody>\n",
       "</table>\n",
       "</div>"
      ],
      "text/plain": [
       "           customer_city  delivery_delay\n",
       "2542         Novo Brasil           126.0\n",
       "795    Capinzal Do Norte            78.0\n",
       "24     Adhemar De Barros            73.0\n",
       "231                Arace            53.0\n",
       "3689  Serra Dos Dourados            52.0\n",
       "2216    Marcelino Vieira            49.0\n",
       "247              Aramari            43.0\n",
       "1554            Humildes            42.0\n",
       "3208            Rubineia            41.0\n",
       "1430              Glaura            37.0"
      ]
     },
     "execution_count": 110,
     "metadata": {},
     "output_type": "execute_result"
    }
   ],
   "source": [
    "delay_per_city_avg = orders_customers_geo_df.groupby(\"customer_city\")[\"delivery_delay\"].mean().reset_index()\n",
    "\n",
    "# Urutkan berdasarkan jumlah keterlambatan terbanyak\n",
    "delay_per_city_avg = delay_per_city_avg.sort_values(by=\"delivery_delay\", ascending=False)\n",
    "\n",
    "# Tampilkan 10 kota dengan keterlambatan pengiriman terbanyak\n",
    "delay_per_city_avg.head(10)"
   ]
  },
  {
   "cell_type": "code",
   "execution_count": 111,
   "metadata": {},
   "outputs": [],
   "source": [
    "avg_coords_per_city = orders_customers_geo_df.groupby('customer_city')[['geolocation_lat', 'geolocation_lng']].mean().reset_index()\n",
    "\n",
    "city_coords_with_delay = delay_per_city_avg.merge(\n",
    "    avg_coords_per_city,\n",
    "    on='customer_city',\n",
    "    how='left'\n",
    ")\n",
    "\n",
    "city_coords_with_delay = city_coords_with_delay.dropna(subset=['geolocation_lat', 'geolocation_lng'])\n",
    "# city_coords_with_delay['customer_city'].sort_values().tolist()"
   ]
  },
  {
   "attachments": {},
   "cell_type": "markdown",
   "metadata": {},
   "source": [
    "**Mengelompokan menjadi per kota dan Menambahkan koordinat untuk kota kotanya** "
   ]
  },
  {
   "attachments": {},
   "cell_type": "markdown",
   "metadata": {},
   "source": [
    "#### Menggabungkan semua Data Frame yang diperlukan untuk dashboard"
   ]
  },
  {
   "cell_type": "code",
   "execution_count": 123,
   "metadata": {},
   "outputs": [
    {
     "data": {
      "text/html": [
       "<div>\n",
       "<style scoped>\n",
       "    .dataframe tbody tr th:only-of-type {\n",
       "        vertical-align: middle;\n",
       "    }\n",
       "\n",
       "    .dataframe tbody tr th {\n",
       "        vertical-align: top;\n",
       "    }\n",
       "\n",
       "    .dataframe thead th {\n",
       "        text-align: right;\n",
       "    }\n",
       "</style>\n",
       "<table border=\"1\" class=\"dataframe\">\n",
       "  <thead>\n",
       "    <tr style=\"text-align: right;\">\n",
       "      <th></th>\n",
       "      <th>customer_city</th>\n",
       "      <th>delivery_delay</th>\n",
       "      <th>geolocation_lat</th>\n",
       "      <th>geolocation_lng</th>\n",
       "      <th>seller_city</th>\n",
       "      <th>seller_state</th>\n",
       "      <th>price</th>\n",
       "    </tr>\n",
       "  </thead>\n",
       "  <tbody>\n",
       "    <tr>\n",
       "      <th>2673</th>\n",
       "      <td>Palotina</td>\n",
       "      <td>-12.000000</td>\n",
       "      <td>-24.283851</td>\n",
       "      <td>-53.838069</td>\n",
       "      <td>Palotina</td>\n",
       "      <td>PR</td>\n",
       "      <td>9.99</td>\n",
       "    </tr>\n",
       "    <tr>\n",
       "      <th>2160</th>\n",
       "      <td>Macatuba</td>\n",
       "      <td>-13.833333</td>\n",
       "      <td>-22.514469</td>\n",
       "      <td>-48.717087</td>\n",
       "      <td>Macatuba</td>\n",
       "      <td>SP</td>\n",
       "      <td>13.00</td>\n",
       "    </tr>\n",
       "    <tr>\n",
       "      <th>1960</th>\n",
       "      <td>Jarinu</td>\n",
       "      <td>-13.055556</td>\n",
       "      <td>-23.096674</td>\n",
       "      <td>-46.717403</td>\n",
       "      <td>Jarinu</td>\n",
       "      <td>SP</td>\n",
       "      <td>14.63</td>\n",
       "    </tr>\n",
       "    <tr>\n",
       "      <th>528</th>\n",
       "      <td>Bom Jesus Dos Perdoes</td>\n",
       "      <td>-11.294118</td>\n",
       "      <td>-23.136161</td>\n",
       "      <td>-46.468852</td>\n",
       "      <td>Bom Jesus Dos Perdoes</td>\n",
       "      <td>SP</td>\n",
       "      <td>19.90</td>\n",
       "    </tr>\n",
       "    <tr>\n",
       "      <th>1360</th>\n",
       "      <td>NaN</td>\n",
       "      <td>NaN</td>\n",
       "      <td>NaN</td>\n",
       "      <td>NaN</td>\n",
       "      <td>Floranopolis</td>\n",
       "      <td>SC</td>\n",
       "      <td>19.98</td>\n",
       "    </tr>\n",
       "  </tbody>\n",
       "</table>\n",
       "</div>"
      ],
      "text/plain": [
       "              customer_city  delivery_delay  geolocation_lat  geolocation_lng  \\\n",
       "2673               Palotina      -12.000000       -24.283851       -53.838069   \n",
       "2160               Macatuba      -13.833333       -22.514469       -48.717087   \n",
       "1960                 Jarinu      -13.055556       -23.096674       -46.717403   \n",
       "528   Bom Jesus Dos Perdoes      -11.294118       -23.136161       -46.468852   \n",
       "1360                    NaN             NaN              NaN              NaN   \n",
       "\n",
       "                seller_city seller_state  price  \n",
       "2673               Palotina           PR   9.99  \n",
       "2160               Macatuba           SP  13.00  \n",
       "1960                 Jarinu           SP  14.63  \n",
       "528   Bom Jesus Dos Perdoes           SP  19.90  \n",
       "1360           Floranopolis           SC  19.98  "
      ]
     },
     "execution_count": 123,
     "metadata": {},
     "output_type": "execute_result"
    }
   ],
   "source": [
    "all_df = city_coords_with_delay.merge(\n",
    "    revenue_per_city,\n",
    "    left_on='customer_city',\n",
    "    right_on='seller_city',\n",
    "    how='outer' \n",
    ")\n",
    "\n",
    "all_df = all_df.sort_values(by='price', ascending=True)\n",
    "all_df.head()"
   ]
  },
  {
   "attachments": {},
   "cell_type": "markdown",
   "metadata": {},
   "source": [
    "**Insight:**\n",
    "- Disini data city_coords_with_delay yang digunakan untuk menjawab pertanyaan dua akan di merge dengan revenue_per_city yang digunakan untuk pertanyaan pertama"
   ]
  },
  {
   "cell_type": "code",
   "execution_count": 130,
   "metadata": {},
   "outputs": [],
   "source": [
    "all_df.to_csv(\"all_data.csv\", index=False)"
   ]
  },
  {
   "cell_type": "markdown",
   "metadata": {
    "id": "zsyZjqak8DC2"
   },
   "source": [
    "## Visualization & Explanatory Analysis"
   ]
  },
  {
   "cell_type": "markdown",
   "metadata": {
    "id": "HZxOiQ6n8DC2"
   },
   "source": [
    "### Pertanyaan 1:"
   ]
  },
  {
   "attachments": {},
   "cell_type": "markdown",
   "metadata": {},
   "source": [
    "#### Menggunakan Bar chart Vertikal untuk visualisasi kota dengan seller revenue terbesar dan terkecil"
   ]
  },
  {
   "cell_type": "code",
   "execution_count": 128,
   "metadata": {
    "id": "1swJUdAD8DC2"
   },
   "outputs": [
    {
     "data": {
      "image/png": "[encoded data removed]",
      "text/plain": [
       "<Figure size 1500x600 with 2 Axes>"
      ]
     },
     "metadata": {},
     "output_type": "display_data"
    }
   ],
   "source": [
    "# Ambil 10 kota dengan revenue terbesar\n",
    "top_10_revenue_cities = all_df.nlargest(10, 'price')\n",
    "\n",
    "# Ambil 10 kota dengan revenue terkecil\n",
    "bottom_10_revenue_cities = all_df.nsmallest(10, 'price')\n",
    "\n",
    "# Format angka menjadi jutaan\n",
    "def format_million(x, _):\n",
    "    return f'R${x/1_000_000:.1f}Jt'\n",
    "\n",
    "top_colors = ['#3974FE'] + ['#9AC9FF'] * (len(top_10_revenue_cities) - 1)\n",
    "bottom_colors = ['#E52020'] + ['#FAA8A8'] * (len(bottom_10_revenue_cities) - 1)\n",
    "\n",
    "fig, axes = plt.subplots(1, 2, figsize=(15, 6))\n",
    "\n",
    "# Plot revenue terbesar\n",
    "sns.barplot(\n",
    "    data=top_10_revenue_cities, \n",
    "    x='price', \n",
    "    y='seller_city', \n",
    "    ax=axes[0]\n",
    ")\n",
    "axes[0].set_title('Top 10 Kota dengan Revenue Terbesar (Dalam Jutaan BRL)')\n",
    "axes[0].set_xlabel('Total Revenue (BRL)')\n",
    "axes[0].set_ylabel('Kota')\n",
    "axes[0].xaxis.set_major_formatter(ticker.FuncFormatter(format_million))  # Format ke juta\n",
    "\n",
    "for bar, color in zip(axes[0].patches, top_colors):\n",
    "    bar.set_color(color)\n",
    "\n",
    "# Plot revenue terkecil\n",
    "sns.barplot(\n",
    "    data=bottom_10_revenue_cities, \n",
    "    x='price', \n",
    "    y='seller_city', \n",
    "    ax=axes[1]\n",
    ")\n",
    "axes[1].set_title('Top 10 Kota dengan Revenue Terkecil (BRL)')\n",
    "axes[1].set_xlabel('Total Revenue (BRL)')\n",
    "axes[1].set_ylabel('Kota')\n",
    "axes[1].invert_xaxis()\n",
    "axes[1].yaxis.set_label_position(\"right\") \n",
    "axes[1].yaxis.tick_right() \n",
    "\n",
    "for bar, color in zip(axes[1].patches, bottom_colors):\n",
    "    bar.set_color(color)\n",
    "    \n",
    "fig.suptitle('Analisis Kota dengan Revenue Penjualan Tertinggi dan Terendah di Brasil (BRL)', fontsize=16)\n",
    "plt.tight_layout()\n",
    "plt.show()"
   ]
  },
  {
   "cell_type": "markdown",
   "metadata": {
    "id": "DgHI7CiU8DC2"
   },
   "source": [
    "### Pertanyaan 2:"
   ]
  },
  {
   "attachments": {},
   "cell_type": "markdown",
   "metadata": {},
   "source": [
    "#### Visualisasi Keterlambatan dengan Peta"
   ]
  },
  {
   "cell_type": "code",
   "execution_count": 124,
   "metadata": {
    "id": "Go0lCsvO8DC2"
   },
   "outputs": [
    {
     "data": {
      "text/html": [
       "<div style=\"width:100%;\"><div style=\"position:relative;width:100%;height:0;padding-bottom:60%;\"><span style=\"color:#565656\">Make this Notebook Trusted to load map: File -> Trust Notebook</span><iframe srcdoc=\"&lt;!DOCTYPE html&gt;\n",
       "&lt;html&gt;\n",
       "&lt;head&gt;\n",
       "    \n",
       "    &lt;meta http-equiv=&quot;content-type&quot; content=&quot;text/html; charset=UTF-8&quot; /&gt;\n",
       "    \n",
       "        &lt;script&gt;\n",
       "            L_NO_TOUCH = false;\n",
       "            L_DISABLE_3D = false;\n",
       "        &lt;/script&gt;\n",
       "    \n",
       "    &lt;style&gt;html, body {width: 100%;height: 100%;margin: 0;padding: 0;}&lt;/style&gt;\n",
       "    &lt;style&gt;#map {position:absolute;top:0;bottom:0;right:0;left:0;}&lt;/style&gt;\n",
       "    &lt;script src=&quot;https://cdn.jsdelivr.net/npm/leaflet@1.9.3/dist/leaflet.js&quot;&gt;&lt;/script&gt;\n",
       "    &lt;script src=&quot;https://code.jquery.com/jquery-3.7.1.min.js&quot;&gt;&lt;/script&gt;\n",
       "    &lt;script src=&quot;https://cdn.jsdelivr.net/npm/bootstrap@5.2.2/dist/js/bootstrap.bundle.min.js&quot;&gt;&lt;/script&gt;\n",
       "    &lt;script src=&quot;https://cdnjs.cloudflare.com/ajax/libs/Leaflet.awesome-markers/2.0.2/leaflet.awesome-markers.js&quot;&gt;&lt;/script&gt;\n",
       "    &lt;link rel=&quot;stylesheet&quot; href=&quot;https://cdn.jsdelivr.net/npm/leaflet@1.9.3/dist/leaflet.css&quot;/&gt;\n",
       "    &lt;link rel=&quot;stylesheet&quot; href=&quot;https://cdn.jsdelivr.net/npm/bootstrap@5.2.2/dist/css/bootstrap.min.css&quot;/&gt;\n",
       "    &lt;link rel=&quot;stylesheet&quot; href=&quot;https://netdna.bootstrapcdn.com/bootstrap/3.0.0/css/bootstrap-glyphicons.css&quot;/&gt;\n",
       "    &lt;link rel=&quot;stylesheet&quot; href=&quot;https://cdn.jsdelivr.net/npm/@fortawesome/fontawesome-free@6.2.0/css/all.min.css&quot;/&gt;\n",
       "    &lt;link rel=&quot;stylesheet&quot; href=&quot;https://cdnjs.cloudflare.com/ajax/libs/Leaflet.awesome-markers/2.0.2/leaflet.awesome-markers.css&quot;/&gt;\n",
       "    &lt;link rel=&quot;stylesheet&quot; href=&quot;https://cdn.jsdelivr.net/gh/python-visualization/folium/folium/templates/leaflet.awesome.rotate.min.css&quot;/&gt;\n",
       "    \n",
       "            &lt;meta name=&quot;viewport&quot; content=&quot;width=device-width,\n",
       "                initial-scale=1.0, maximum-scale=1.0, user-scalable=no&quot; /&gt;\n",
       "            &lt;style&gt;\n",
       "                #map_a838227a0f1aca76669ba209e9d78a94 {\n",
       "                    position: relative;\n",
       "                    width: 100.0%;\n",
       "                    height: 100.0%;\n",
       "                    left: 0.0%;\n",
       "                    top: 0.0%;\n",
       "                }\n",
       "                .leaflet-container { font-size: 1rem; }\n",
       "            &lt;/style&gt;\n",
       "        \n",
       "    &lt;script src=&quot;https://cdnjs.cloudflare.com/ajax/libs/d3/3.5.5/d3.min.js&quot;&gt;&lt;/script&gt;\n",
       "&lt;/head&gt;\n",
       "&lt;body&gt;\n",
       "    \n",
       "    \n",
       "            &lt;div class=&quot;folium-map&quot; id=&quot;map_a838227a0f1aca76669ba209e9d78a94&quot; &gt;&lt;/div&gt;\n",
       "        \n",
       "&lt;/body&gt;\n",
       "&lt;script&gt;\n",
       "    \n",
       "    \n",
       "            var map_a838227a0f1aca76669ba209e9d78a94 = L.map(\n",
       "                &quot;map_a838227a0f1aca76669ba209e9d78a94&quot;,\n",
       "                {\n",
       "                    center: [-14.235, -51.9253],\n",
       "                    crs: L.CRS.EPSG3857,\n",
       "                    ...{\n",
       "  &quot;zoom&quot;: 4,\n",
       "  &quot;zoomControl&quot;: true,\n",
       "  &quot;preferCanvas&quot;: false,\n",
       "}\n",
       "\n",
       "                }\n",
       "            );\n",
       "\n",
       "            \n",
       "\n",
       "        \n",
       "    \n",
       "            var tile_layer_f0c50a27e651589fccec6111ffd991a2 = L.tileLayer(\n",
       "                &quot;https://tile.openstreetmap.org/{z}/{x}/{y}.png&quot;,\n",
       "                {\n",
       "  &quot;minZoom&quot;: 0,\n",
       "  &quot;maxZoom&quot;: 19,\n",
       "  &quot;maxNativeZoom&quot;: 19,\n",
       "  &quot;noWrap&quot;: false,\n",
       "  &quot;attribution&quot;: &quot;\\u0026copy; \\u003ca href=\\&quot;https://www.openstreetmap.org/copyright\\&quot;\\u003eOpenStreetMap\\u003c/a\\u003e contributors&quot;,\n",
       "  &quot;subdomains&quot;: &quot;abc&quot;,\n",
       "  &quot;detectRetina&quot;: false,\n",
       "  &quot;tms&quot;: false,\n",
       "  &quot;opacity&quot;: 1,\n",
       "}\n",
       "\n",
       "            );\n",
       "        \n",
       "    \n",
       "            tile_layer_f0c50a27e651589fccec6111ffd991a2.addTo(map_a838227a0f1aca76669ba209e9d78a94);\n",
       "        \n",
       "    \n",
       "            var circle_marker_08239dcdc9ebaf874c253f95ad121da2 = L.circleMarker(\n",
       "                [-19.253832623962595, -40.505693628063305],\n",
       "                {&quot;bubblingMouseEvents&quot;: true, &quot;color&quot;: &quot;#800026ff&quot;, &quot;dashArray&quot;: null, &quot;dashOffset&quot;: null, &quot;fill&quot;: true, &quot;fillColor&quot;: &quot;#800026ff&quot;, &quot;fillOpacity&quot;: 0.6, &quot;fillRule&quot;: &quot;evenodd&quot;, &quot;lineCap&quot;: &quot;round&quot;, &quot;lineJoin&quot;: &quot;round&quot;, &quot;opacity&quot;: 1.0, &quot;radius&quot;: 16, &quot;stroke&quot;: true, &quot;weight&quot;: 3}\n",
       "            ).addTo(map_a838227a0f1aca76669ba209e9d78a94);\n",
       "        \n",
       "    \n",
       "            var circle_marker_49d29e33b74cd17d57376e4758039d00 = L.circleMarker(\n",
       "                [-4.711055273955796, -44.32736161571313],\n",
       "                {&quot;bubblingMouseEvents&quot;: true, &quot;color&quot;: &quot;#fd6f33ff&quot;, &quot;dashArray&quot;: null, &quot;dashOffset&quot;: null, &quot;fill&quot;: true, &quot;fillColor&quot;: &quot;#fd6f33ff&quot;, &quot;fillOpacity&quot;: 0.6, &quot;fillRule&quot;: &quot;evenodd&quot;, &quot;lineCap&quot;: &quot;round&quot;, &quot;lineJoin&quot;: &quot;round&quot;, &quot;opacity&quot;: 1.0, &quot;radius&quot;: 16, &quot;stroke&quot;: true, &quot;weight&quot;: 3}\n",
       "            ).addTo(map_a838227a0f1aca76669ba209e9d78a94);\n",
       "        \n",
       "    \n",
       "            var circle_marker_a21b4e382f8e0291adf5ce906ea05995 = L.circleMarker(\n",
       "                [-22.694008556222283, -52.7197073050395],\n",
       "                {&quot;bubblingMouseEvents&quot;: true, &quot;color&quot;: &quot;#fd863aff&quot;, &quot;dashArray&quot;: null, &quot;dashOffset&quot;: null, &quot;fill&quot;: true, &quot;fillColor&quot;: &quot;#fd863aff&quot;, &quot;fillOpacity&quot;: 0.6, &quot;fillRule&quot;: &quot;evenodd&quot;, &quot;lineCap&quot;: &quot;round&quot;, &quot;lineJoin&quot;: &quot;round&quot;, &quot;opacity&quot;: 1.0, &quot;radius&quot;: 16, &quot;stroke&quot;: true, &quot;weight&quot;: 3}\n",
       "            ).addTo(map_a838227a0f1aca76669ba209e9d78a94);\n",
       "        \n",
       "    \n",
       "            var circle_marker_1dc520b8047afc2086bdb56f3994c8fb = L.circleMarker(\n",
       "                [-20.195948012333556, -40.85497505487956],\n",
       "                {&quot;bubblingMouseEvents&quot;: true, &quot;color&quot;: &quot;#fec05bff&quot;, &quot;dashArray&quot;: null, &quot;dashOffset&quot;: null, &quot;fill&quot;: true, &quot;fillColor&quot;: &quot;#fec05bff&quot;, &quot;fillOpacity&quot;: 0.6, &quot;fillRule&quot;: &quot;evenodd&quot;, &quot;lineCap&quot;: &quot;round&quot;, &quot;lineJoin&quot;: &quot;round&quot;, &quot;opacity&quot;: 1.0, &quot;radius&quot;: 16, &quot;stroke&quot;: true, &quot;weight&quot;: 3}\n",
       "            ).addTo(map_a838227a0f1aca76669ba209e9d78a94);\n",
       "        \n",
       "    \n",
       "            var circle_marker_73996c89778398c44b2644fc7fc03bb8 = L.circleMarker(\n",
       "                [-23.619535425600905, -53.38212068195976],\n",
       "                {&quot;bubblingMouseEvents&quot;: true, &quot;color&quot;: &quot;#fec35eff&quot;, &quot;dashArray&quot;: null, &quot;dashOffset&quot;: null, &quot;fill&quot;: true, &quot;fillColor&quot;: &quot;#fec35eff&quot;, &quot;fillOpacity&quot;: 0.6, &quot;fillRule&quot;: &quot;evenodd&quot;, &quot;lineCap&quot;: &quot;round&quot;, &quot;lineJoin&quot;: &quot;round&quot;, &quot;opacity&quot;: 1.0, &quot;radius&quot;: 16, &quot;stroke&quot;: true, &quot;weight&quot;: 3}\n",
       "            ).addTo(map_a838227a0f1aca76669ba209e9d78a94);\n",
       "        \n",
       "    \n",
       "            var circle_marker_31125c8cd451840be6de0f4c433fd818 = L.circleMarker(\n",
       "                [-6.289885598186517, -38.162924959843465],\n",
       "                {&quot;bubblingMouseEvents&quot;: true, &quot;color&quot;: &quot;#fecc67ff&quot;, &quot;dashArray&quot;: null, &quot;dashOffset&quot;: null, &quot;fill&quot;: true, &quot;fillColor&quot;: &quot;#fecc67ff&quot;, &quot;fillOpacity&quot;: 0.6, &quot;fillRule&quot;: &quot;evenodd&quot;, &quot;lineCap&quot;: &quot;round&quot;, &quot;lineJoin&quot;: &quot;round&quot;, &quot;opacity&quot;: 1.0, &quot;radius&quot;: 16, &quot;stroke&quot;: true, &quot;weight&quot;: 3}\n",
       "            ).addTo(map_a838227a0f1aca76669ba209e9d78a94);\n",
       "        \n",
       "    \n",
       "            var circle_marker_d8bf68ca152376838a75b23fd5292dc9 = L.circleMarker(\n",
       "                [-12.092960636662799, -38.50143320577666],\n",
       "                {&quot;bubblingMouseEvents&quot;: true, &quot;color&quot;: &quot;#ffdb7aff&quot;, &quot;dashArray&quot;: null, &quot;dashOffset&quot;: null, &quot;fill&quot;: true, &quot;fillColor&quot;: &quot;#ffdb7aff&quot;, &quot;fillOpacity&quot;: 0.6, &quot;fillRule&quot;: &quot;evenodd&quot;, &quot;lineCap&quot;: &quot;round&quot;, &quot;lineJoin&quot;: &quot;round&quot;, &quot;opacity&quot;: 1.0, &quot;radius&quot;: 16, &quot;stroke&quot;: true, &quot;weight&quot;: 3}\n",
       "            ).addTo(map_a838227a0f1aca76669ba209e9d78a94);\n",
       "        \n",
       "    \n",
       "            var circle_marker_fd91a71e927277afc4a4db961e3c1c7f = L.circleMarker(\n",
       "                [-20.172710091561513, -51.00106950753346],\n",
       "                {&quot;bubblingMouseEvents&quot;: true, &quot;color&quot;: &quot;#ffde80ff&quot;, &quot;dashArray&quot;: null, &quot;dashOffset&quot;: null, &quot;fill&quot;: true, &quot;fillColor&quot;: &quot;#ffde80ff&quot;, &quot;fillOpacity&quot;: 0.6, &quot;fillRule&quot;: &quot;evenodd&quot;, &quot;lineCap&quot;: &quot;round&quot;, &quot;lineJoin&quot;: &quot;round&quot;, &quot;opacity&quot;: 1.0, &quot;radius&quot;: 16, &quot;stroke&quot;: true, &quot;weight&quot;: 3}\n",
       "            ).addTo(map_a838227a0f1aca76669ba209e9d78a94);\n",
       "        \n",
       "    \n",
       "            var circle_marker_7005986ff2b82480070c733e5b2e7082 = L.circleMarker(\n",
       "                [-27.567860111684137, -51.668006307550215],\n",
       "                {&quot;bubblingMouseEvents&quot;: true, &quot;color&quot;: &quot;#fff0a5ff&quot;, &quot;dashArray&quot;: null, &quot;dashOffset&quot;: null, &quot;fill&quot;: true, &quot;fillColor&quot;: &quot;#fff0a5ff&quot;, &quot;fillOpacity&quot;: 0.6, &quot;fillRule&quot;: &quot;evenodd&quot;, &quot;lineCap&quot;: &quot;round&quot;, &quot;lineJoin&quot;: &quot;round&quot;, &quot;opacity&quot;: 1.0, &quot;radius&quot;: 16, &quot;stroke&quot;: true, &quot;weight&quot;: 3}\n",
       "            ).addTo(map_a838227a0f1aca76669ba209e9d78a94);\n",
       "        \n",
       "    \n",
       "            var circle_marker_fdfc2482eed5c44078f8d35c19cf8854 = L.circleMarker(\n",
       "                [-18.078788221182954, -43.24715728444043],\n",
       "                {&quot;bubblingMouseEvents&quot;: true, &quot;color&quot;: &quot;#fff2acff&quot;, &quot;dashArray&quot;: null, &quot;dashOffset&quot;: null, &quot;fill&quot;: true, &quot;fillColor&quot;: &quot;#fff2acff&quot;, &quot;fillOpacity&quot;: 0.6, &quot;fillRule&quot;: &quot;evenodd&quot;, &quot;lineCap&quot;: &quot;round&quot;, &quot;lineJoin&quot;: &quot;round&quot;, &quot;opacity&quot;: 1.0, &quot;radius&quot;: 16, &quot;stroke&quot;: true, &quot;weight&quot;: 3}\n",
       "            ).addTo(map_a838227a0f1aca76669ba209e9d78a94);\n",
       "        \n",
       "    \n",
       "            var circle_marker_02186f78a2b5d16140f8c9f15d38c25e = L.circleMarker(\n",
       "                [-11.253453060753076, -39.37792045595914],\n",
       "                {&quot;bubblingMouseEvents&quot;: true, &quot;color&quot;: &quot;#fff2acff&quot;, &quot;dashArray&quot;: null, &quot;dashOffset&quot;: null, &quot;fill&quot;: true, &quot;fillColor&quot;: &quot;#fff2acff&quot;, &quot;fillOpacity&quot;: 0.6, &quot;fillRule&quot;: &quot;evenodd&quot;, &quot;lineCap&quot;: &quot;round&quot;, &quot;lineJoin&quot;: &quot;round&quot;, &quot;opacity&quot;: 1.0, &quot;radius&quot;: 16, &quot;stroke&quot;: true, &quot;weight&quot;: 3}\n",
       "            ).addTo(map_a838227a0f1aca76669ba209e9d78a94);\n",
       "        \n",
       "    \n",
       "            var circle_marker_7f650c076069ea294144a150ffd96aa0 = L.circleMarker(\n",
       "                [-24.59211804443721, -52.80376414808603],\n",
       "                {&quot;bubblingMouseEvents&quot;: true, &quot;color&quot;: &quot;#fff5b2ff&quot;, &quot;dashArray&quot;: null, &quot;dashOffset&quot;: null, &quot;fill&quot;: true, &quot;fillColor&quot;: &quot;#fff5b2ff&quot;, &quot;fillOpacity&quot;: 0.6, &quot;fillRule&quot;: &quot;evenodd&quot;, &quot;lineCap&quot;: &quot;round&quot;, &quot;lineJoin&quot;: &quot;round&quot;, &quot;opacity&quot;: 1.0, &quot;radius&quot;: 16, &quot;stroke&quot;: true, &quot;weight&quot;: 3}\n",
       "            ).addTo(map_a838227a0f1aca76669ba209e9d78a94);\n",
       "        \n",
       "    \n",
       "            var circle_marker_87ceca080e4d0cc216f7e3f7ae51ca57 = L.circleMarker(\n",
       "                [-12.4819495675723, -38.994315328859464],\n",
       "                {&quot;bubblingMouseEvents&quot;: true, &quot;color&quot;: &quot;#fff6b4ff&quot;, &quot;dashArray&quot;: null, &quot;dashOffset&quot;: null, &quot;fill&quot;: true, &quot;fillColor&quot;: &quot;#fff6b4ff&quot;, &quot;fillOpacity&quot;: 0.6, &quot;fillRule&quot;: &quot;evenodd&quot;, &quot;lineCap&quot;: &quot;round&quot;, &quot;lineJoin&quot;: &quot;round&quot;, &quot;opacity&quot;: 1.0, &quot;radius&quot;: 16, &quot;stroke&quot;: true, &quot;weight&quot;: 3}\n",
       "            ).addTo(map_a838227a0f1aca76669ba209e9d78a94);\n",
       "        \n",
       "    \n",
       "            var circle_marker_dd4c5b64bba2b0b0dce6a7b9eea12b38 = L.circleMarker(\n",
       "                [-17.30608267043897, -48.50168912522954],\n",
       "                {&quot;bubblingMouseEvents&quot;: true, &quot;color&quot;: &quot;#fffabeff&quot;, &quot;dashArray&quot;: null, &quot;dashOffset&quot;: null, &quot;fill&quot;: true, &quot;fillColor&quot;: &quot;#fffabeff&quot;, &quot;fillOpacity&quot;: 0.6, &quot;fillRule&quot;: &quot;evenodd&quot;, &quot;lineCap&quot;: &quot;round&quot;, &quot;lineJoin&quot;: &quot;round&quot;, &quot;opacity&quot;: 1.0, &quot;radius&quot;: 16, &quot;stroke&quot;: true, &quot;weight&quot;: 3}\n",
       "            ).addTo(map_a838227a0f1aca76669ba209e9d78a94);\n",
       "        \n",
       "    \n",
       "            var circle_marker_03b4953c56f413bdbb123191cd1dfca4 = L.circleMarker(\n",
       "                [-22.053318048067162, -42.518182795858706],\n",
       "                {&quot;bubblingMouseEvents&quot;: true, &quot;color&quot;: &quot;#fffabfff&quot;, &quot;dashArray&quot;: null, &quot;dashOffset&quot;: null, &quot;fill&quot;: true, &quot;fillColor&quot;: &quot;#fffabfff&quot;, &quot;fillOpacity&quot;: 0.6, &quot;fillRule&quot;: &quot;evenodd&quot;, &quot;lineCap&quot;: &quot;round&quot;, &quot;lineJoin&quot;: &quot;round&quot;, &quot;opacity&quot;: 1.0, &quot;radius&quot;: 16, &quot;stroke&quot;: true, &quot;weight&quot;: 3}\n",
       "            ).addTo(map_a838227a0f1aca76669ba209e9d78a94);\n",
       "        \n",
       "    \n",
       "            var circle_marker_17fd184b429edeef2e85030ca4769b02 = L.circleMarker(\n",
       "                [-11.012310874864836, -37.32024797202018],\n",
       "                {&quot;bubblingMouseEvents&quot;: true, &quot;color&quot;: &quot;#fffcc3ff&quot;, &quot;dashArray&quot;: null, &quot;dashOffset&quot;: null, &quot;fill&quot;: true, &quot;fillColor&quot;: &quot;#fffcc3ff&quot;, &quot;fillOpacity&quot;: 0.6, &quot;fillRule&quot;: &quot;evenodd&quot;, &quot;lineCap&quot;: &quot;round&quot;, &quot;lineJoin&quot;: &quot;round&quot;, &quot;opacity&quot;: 1.0, &quot;radius&quot;: 16, &quot;stroke&quot;: true, &quot;weight&quot;: 3}\n",
       "            ).addTo(map_a838227a0f1aca76669ba209e9d78a94);\n",
       "        \n",
       "    \n",
       "            var circle_marker_1471fe058c54b8617acaff775e5fa07f = L.circleMarker(\n",
       "                [-11.429867463098436, -40.59714744180158],\n",
       "                {&quot;bubblingMouseEvents&quot;: true, &quot;color&quot;: &quot;#fffec8ff&quot;, &quot;dashArray&quot;: null, &quot;dashOffset&quot;: null, &quot;fill&quot;: true, &quot;fillColor&quot;: &quot;#fffec8ff&quot;, &quot;fillOpacity&quot;: 0.6, &quot;fillRule&quot;: &quot;evenodd&quot;, &quot;lineCap&quot;: &quot;round&quot;, &quot;lineJoin&quot;: &quot;round&quot;, &quot;opacity&quot;: 1.0, &quot;radius&quot;: 16, &quot;stroke&quot;: true, &quot;weight&quot;: 3}\n",
       "            ).addTo(map_a838227a0f1aca76669ba209e9d78a94);\n",
       "        \n",
       "    \n",
       "            var circle_marker_6e89ee71718268b13de9dfc6026c16aa = L.circleMarker(\n",
       "                [-22.06949377314427, -50.303983055779376],\n",
       "                {&quot;bubblingMouseEvents&quot;: true, &quot;color&quot;: &quot;#fffec9ff&quot;, &quot;dashArray&quot;: null, &quot;dashOffset&quot;: null, &quot;fill&quot;: true, &quot;fillColor&quot;: &quot;#fffec9ff&quot;, &quot;fillOpacity&quot;: 0.6, &quot;fillRule&quot;: &quot;evenodd&quot;, &quot;lineCap&quot;: &quot;round&quot;, &quot;lineJoin&quot;: &quot;round&quot;, &quot;opacity&quot;: 1.0, &quot;radius&quot;: 16, &quot;stroke&quot;: true, &quot;weight&quot;: 3}\n",
       "            ).addTo(map_a838227a0f1aca76669ba209e9d78a94);\n",
       "        \n",
       "    \n",
       "            var circle_marker_82db3eab5b8d788ff1358bcc943d944a = L.circleMarker(\n",
       "                [-7.077091335231696, -36.732248704492505],\n",
       "                {&quot;bubblingMouseEvents&quot;: true, &quot;color&quot;: &quot;#ffffccff&quot;, &quot;dashArray&quot;: null, &quot;dashOffset&quot;: null, &quot;fill&quot;: true, &quot;fillColor&quot;: &quot;#ffffccff&quot;, &quot;fillOpacity&quot;: 0.6, &quot;fillRule&quot;: &quot;evenodd&quot;, &quot;lineCap&quot;: &quot;round&quot;, &quot;lineJoin&quot;: &quot;round&quot;, &quot;opacity&quot;: 1.0, &quot;radius&quot;: 16, &quot;stroke&quot;: true, &quot;weight&quot;: 3}\n",
       "            ).addTo(map_a838227a0f1aca76669ba209e9d78a94);\n",
       "        \n",
       "    \n",
       "            var circle_marker_4945be9eb55b29c1fe6e6a6ac9805394 = L.circleMarker(\n",
       "                [-16.975562820475375, -41.42995619322306],\n",
       "                {&quot;bubblingMouseEvents&quot;: true, &quot;color&quot;: &quot;#ffffccff&quot;, &quot;dashArray&quot;: null, &quot;dashOffset&quot;: null, &quot;fill&quot;: true, &quot;fillColor&quot;: &quot;#ffffccff&quot;, &quot;fillOpacity&quot;: 0.6, &quot;fillRule&quot;: &quot;evenodd&quot;, &quot;lineCap&quot;: &quot;round&quot;, &quot;lineJoin&quot;: &quot;round&quot;, &quot;opacity&quot;: 1.0, &quot;radius&quot;: 16, &quot;stroke&quot;: true, &quot;weight&quot;: 3}\n",
       "            ).addTo(map_a838227a0f1aca76669ba209e9d78a94);\n",
       "        \n",
       "    \n",
       "    var color_map_b7ac81105124bde32c05c7bc47263d52 = {};\n",
       "\n",
       "    \n",
       "    color_map_b7ac81105124bde32c05c7bc47263d52.color = d3.scale.threshold()\n",
       "              .domain([17.0, 17.218436873747496, 17.43687374749499, 17.655310621242485, 17.87374749498998, 18.092184368737474, 18.31062124248497, 18.529058116232466, 18.74749498997996, 18.965931863727455, 19.18436873747495, 19.402805611222444, 19.62124248496994, 19.839679358717433, 20.05811623246493, 20.276553106212425, 20.494989979959918, 20.713426853707414, 20.93186372745491, 21.150300601202403, 21.3687374749499, 21.587174348697395, 21.805611222444888, 22.024048096192384, 22.24248496993988, 22.460921843687373, 22.67935871743487, 22.897795591182366, 23.11623246492986, 23.334669338677354, 23.55310621242485, 23.771543086172343, 23.98997995991984, 24.208416833667336, 24.42685370741483, 24.645290581162325, 24.86372745490982, 25.082164328657313, 25.30060120240481, 25.519038076152306, 25.7374749498998, 25.955911823647295, 26.17434869739479, 26.392785571142284, 26.61122244488978, 26.829659318637276, 27.04809619238477, 27.266533066132265, 27.48496993987976, 27.703406813627254, 27.92184368737475, 28.140280561122246, 28.35871743486974, 28.577154308617235, 28.79559118236473, 29.014028056112224, 29.23246492985972, 29.450901803607216, 29.66933867735471, 29.887775551102205, 30.1062124248497, 30.324649298597194, 30.54308617234469, 30.761523046092186, 30.97995991983968, 31.19839679358717, 31.41683366733467, 31.635270541082164, 31.853707414829657, 32.07214428857716, 32.29058116232465, 32.50901803607214, 32.72745490981964, 32.945891783567134, 33.16432865731463, 33.38276553106212, 33.60120240480962, 33.81963927855712, 34.03807615230461, 34.256513026052104, 34.4749498997996, 34.69338677354709, 34.91182364729459, 35.13026052104209, 35.34869739478958, 35.567134268537075, 35.78557114228457, 36.00400801603206, 36.22244488977956, 36.44088176352706, 36.65931863727455, 36.877755511022045, 37.09619238476954, 37.31462925851703, 37.53306613226453, 37.75150300601202, 37.96993987975952, 38.188376753507015, 38.40681362725451, 38.625250501002, 38.8436873747495, 39.06212424849699, 39.28056112224449, 39.498997995991985, 39.71743486973948, 39.93587174348697, 40.15430861723447, 40.37274549098196, 40.59118236472946, 40.809619238476955, 41.02805611222445, 41.24649298597194, 41.46492985971944, 41.68336673346693, 41.90180360721443, 42.120240480961925, 42.33867735470942, 42.55711422845691, 42.77555110220441, 42.9939879759519, 43.2124248496994, 43.430861723446895, 43.64929859719439, 43.86773547094188, 44.08617234468938, 44.30460921843687, 44.52304609218437, 44.741482965931866, 44.95991983967936, 45.17835671342685, 45.39679358717434, 45.61523046092184, 45.83366733466934, 46.052104208416836, 46.27054108216433, 46.48897795591182, 46.707414829659314, 46.92585170340681, 47.14428857715431, 47.362725450901806, 47.5811623246493, 47.79959919839679, 48.018036072144284, 48.236472945891784, 48.45490981963928, 48.673346693386776, 48.89178356713427, 49.11022044088176, 49.32865731462926, 49.547094188376754, 49.765531062124246, 49.983967935871746, 50.20240480961924, 50.42084168336673, 50.63927855711423, 50.857715430861724, 51.07615230460922, 51.294589178356716, 51.51302605210421, 51.7314629258517, 51.9498997995992, 52.168336673346694, 52.38677354709419, 52.605210420841686, 52.82364729458918, 53.04208416833667, 53.26052104208417, 53.478957915831664, 53.69739478957916, 53.91583166332666, 54.13426853707415, 54.35270541082164, 54.57114228456914, 54.789579158316634, 55.00801603206413, 55.22645290581163, 55.44488977955912, 55.66332665330661, 55.88176352705411, 56.100200400801604, 56.3186372745491, 56.53707414829659, 56.75551102204409, 56.97394789579158, 57.192384769539075, 57.410821643286575, 57.62925851703407, 57.84769539078156, 58.06613226452906, 58.28456913827655, 58.503006012024045, 58.721442885771545, 58.93987975951904, 59.15831663326653, 59.37675350701403, 59.59519038076152, 59.813627254509015, 60.032064128256515, 60.25050100200401, 60.4689378757515, 60.687374749499, 60.90581162324649, 61.124248496993985, 61.342685370741485, 61.56112224448898, 61.77955911823647, 61.99799599198397, 62.21643286573146, 62.434869739478955, 62.653306613226455, 62.87174348697395, 63.09018036072144, 63.30861723446894, 63.52705410821643, 63.745490981963925, 63.963927855711425, 64.18236472945893, 64.40080160320642, 64.61923847695391, 64.8376753507014, 65.0561122244489, 65.27454909819639, 65.49298597194388, 65.71142284569137, 65.92985971943888, 66.14829659318637, 66.36673346693387, 66.58517034068137, 66.80360721442887, 67.02204408817636, 67.24048096192385, 67.45891783567134, 67.67735470941884, 67.89579158316633, 68.11422845691382, 68.33266533066131, 68.55110220440882, 68.76953907815631, 68.9879759519038, 69.20641282565131, 69.4248496993988, 69.6432865731463, 69.86172344689379, 70.08016032064128, 70.29859719438878, 70.51703406813627, 70.73547094188376, 70.95390781563125, 71.17234468937876, 71.39078156312625, 71.60921843687375, 71.82765531062124, 72.04609218436875, 72.26452905811624, 72.48296593186373, 72.70140280561122, 72.91983967935872, 73.13827655310621, 73.3567134268537, 73.5751503006012, 73.79358717434869, 74.0120240480962, 74.23046092184369, 74.44889779559118, 74.66733466933869, 74.88577154308618, 75.10420841683367, 75.32264529058116, 75.54108216432866, 75.75951903807615, 75.97795591182364, 76.19639278557113, 76.41482965931863, 76.63326653306613, 76.85170340681363, 77.07014028056112, 77.28857715430863, 77.50701402805612, 77.72545090180361, 77.9438877755511, 78.1623246492986, 78.38076152304609, 78.59919839679358, 78.81763527054107, 79.03607214428857, 79.25450901803607, 79.47294589178357, 79.69138276553106, 79.90981963927857, 80.12825651302606, 80.34669338677355, 80.56513026052104, 80.78356713426854, 81.00200400801603, 81.22044088176352, 81.43887775551102, 81.65731462925852, 81.87575150300601, 82.09418837675351, 82.312625250501, 82.53106212424849, 82.74949899799599, 82.96793587174349, 83.18637274549098, 83.40480961923848, 83.62324649298597, 83.84168336673346, 84.06012024048096, 84.27855711422846, 84.49699398797596, 84.71543086172345, 84.93386773547094, 85.15230460921843, 85.37074148296593, 85.58917835671343, 85.80761523046093, 86.02605210420842, 86.24448897795591, 86.4629258517034, 86.6813627254509, 86.8997995991984, 87.1182364729459, 87.33667334669339, 87.55511022044088, 87.77354709418837, 87.99198396793587, 88.21042084168337, 88.42885771543087, 88.64729458917836, 88.86573146292585, 89.08416833667334, 89.30260521042084, 89.52104208416834, 89.73947895791584, 89.95791583166333, 90.17635270541082, 90.39478957915831, 90.6132264529058, 90.83166332665331, 91.0501002004008, 91.2685370741483, 91.48697394789579, 91.70541082164328, 91.92384769539078, 92.14228456913828, 92.36072144288578, 92.57915831663327, 92.79759519038076, 93.01603206412825, 93.23446893787575, 93.45290581162325, 93.67134268537075, 93.88977955911824, 94.10821643286573, 94.32665330661322, 94.54509018036072, 94.76352705410822, 94.98196392785572, 95.20040080160321, 95.4188376753507, 95.6372745490982, 95.85571142284569, 96.07414829659318, 96.29258517034069, 96.51102204408818, 96.72945891783567, 96.94789579158316, 97.16633266533066, 97.38476953907815, 97.60320641282566, 97.82164328657315, 98.04008016032064, 98.25851703406813, 98.47695390781563, 98.69539078156312, 98.91382765531063, 99.13226452905812, 99.35070140280561, 99.5691382765531, 99.7875751503006, 100.00601202404809, 100.2244488977956, 100.44288577154309, 100.66132264529058, 100.87975951903807, 101.09819639278557, 101.31663326653306, 101.53507014028057, 101.75350701402806, 101.97194388777555, 102.19038076152304, 102.40881763527054, 102.62725450901803, 102.84569138276554, 103.06412825651303, 103.28256513026052, 103.50100200400801, 103.71943887775551, 103.937875751503, 104.15631262525051, 104.374749498998, 104.59318637274549, 104.81162324649299, 105.03006012024048, 105.24849699398797, 105.46693386773548, 105.68537074148297, 105.90380761523046, 106.12224448897796, 106.34068136272545, 106.55911823647294, 106.77755511022045, 106.99599198396794, 107.21442885771543, 107.43286573146293, 107.65130260521042, 107.86973947895791, 108.08817635270542, 108.30661322645291, 108.5250501002004, 108.7434869739479, 108.96192384769539, 109.18036072144288, 109.39879759519039, 109.61723446893788, 109.83567134268537, 110.05410821643287, 110.27254509018036, 110.49098196392785, 110.70941883767534, 110.92785571142285, 111.14629258517034, 111.36472945891784, 111.58316633266533, 111.80160320641282, 112.02004008016031, 112.23847695390782, 112.45691382765531, 112.6753507014028, 112.8937875751503, 113.11222444889779, 113.33066132264528, 113.54909819639279, 113.76753507014028, 113.98597194388778, 114.20440881763527, 114.42284569138276, 114.64128256513025, 114.85971943887776, 115.07815631262525, 115.29659318637275, 115.51503006012024, 115.73346693386773, 115.95190380761522, 116.17034068136273, 116.38877755511022, 116.60721442885772, 116.82565130260521, 117.0440881763527, 117.2625250501002, 117.4809619238477, 117.6993987975952, 117.91783567134269, 118.13627254509018, 118.35470941883767, 118.57314629258516, 118.79158316633267, 119.01002004008016, 119.22845691382766, 119.44689378757515, 119.66533066132264, 119.88376753507013, 120.10220440881764, 120.32064128256513, 120.53907815631263, 120.75751503006012, 120.97595190380761, 121.1943887775551, 121.41282565130261, 121.6312625250501, 121.8496993987976, 122.06813627254509, 122.28657314629258, 122.50501002004007, 122.72344689378758, 122.94188376753507, 123.16032064128257, 123.37875751503006, 123.59719438877755, 123.81563126252505, 124.03406813627255, 124.25250501002004, 124.47094188376754, 124.68937875751503, 124.90781563126252, 125.12625250501002, 125.34468937875752, 125.56312625250501, 125.78156312625251, 126.0])\n",
       "              .range([&#x27;#ffffccff&#x27;, &#x27;#ffffccff&#x27;, &#x27;#ffffcbff&#x27;, &#x27;#ffffcaff&#x27;, &#x27;#fffec9ff&#x27;, &#x27;#fffec9ff&#x27;, &#x27;#fffec8ff&#x27;, &#x27;#fffdc7ff&#x27;, &#x27;#fffdc7ff&#x27;, &#x27;#fffdc6ff&#x27;, &#x27;#fffdc5ff&#x27;, &#x27;#fffcc5ff&#x27;, &#x27;#fffcc4ff&#x27;, &#x27;#fffcc3ff&#x27;, &#x27;#fffbc2ff&#x27;, &#x27;#fffbc2ff&#x27;, &#x27;#fffbc1ff&#x27;, &#x27;#fffbc0ff&#x27;, &#x27;#fffac0ff&#x27;, &#x27;#fffabfff&#x27;, &#x27;#fffabeff&#x27;, &#x27;#fff9bdff&#x27;, &#x27;#fff9bdff&#x27;, &#x27;#fff9bcff&#x27;, &#x27;#fff9bbff&#x27;, &#x27;#fff8bbff&#x27;, &#x27;#fff8baff&#x27;, &#x27;#fff8b9ff&#x27;, &#x27;#fff7b8ff&#x27;, &#x27;#fff7b8ff&#x27;, &#x27;#fff7b7ff&#x27;, &#x27;#fff7b6ff&#x27;, &#x27;#fff6b6ff&#x27;, &#x27;#fff6b5ff&#x27;, &#x27;#fff6b4ff&#x27;, &#x27;#fff5b4ff&#x27;, &#x27;#fff5b3ff&#x27;, &#x27;#fff5b2ff&#x27;, &#x27;#fff4b1ff&#x27;, &#x27;#fff4b1ff&#x27;, &#x27;#fff4b0ff&#x27;, &#x27;#fff4afff&#x27;, &#x27;#fff3afff&#x27;, &#x27;#fff3aeff&#x27;, &#x27;#fff3adff&#x27;, &#x27;#fff2acff&#x27;, &#x27;#fff2acff&#x27;, &#x27;#fff2abff&#x27;, &#x27;#fff2aaff&#x27;, &#x27;#fff1aaff&#x27;, &#x27;#fff1a9ff&#x27;, &#x27;#fff1a8ff&#x27;, &#x27;#fff0a7ff&#x27;, &#x27;#fff0a7ff&#x27;, &#x27;#fff0a6ff&#x27;, &#x27;#fff0a5ff&#x27;, &#x27;#ffefa5ff&#x27;, &#x27;#ffefa4ff&#x27;, &#x27;#ffefa3ff&#x27;, &#x27;#ffeea3ff&#x27;, &#x27;#ffeea2ff&#x27;, &#x27;#ffeea1ff&#x27;, &#x27;#ffeea0ff&#x27;, &#x27;#ffeda0ff&#x27;, &#x27;#ffed9fff&#x27;, &#x27;#ffed9eff&#x27;, &#x27;#ffec9eff&#x27;, &#x27;#ffec9dff&#x27;, &#x27;#ffec9cff&#x27;, &#x27;#ffeb9cff&#x27;, &#x27;#ffeb9bff&#x27;, &#x27;#ffeb9aff&#x27;, &#x27;#ffea9aff&#x27;, &#x27;#ffea99ff&#x27;, &#x27;#ffea98ff&#x27;, &#x27;#ffe998ff&#x27;, &#x27;#ffe997ff&#x27;, &#x27;#ffe996ff&#x27;, &#x27;#ffe896ff&#x27;, &#x27;#ffe895ff&#x27;, &#x27;#ffe894ff&#x27;, &#x27;#ffe794ff&#x27;, &#x27;#ffe793ff&#x27;, &#x27;#ffe792ff&#x27;, &#x27;#ffe692ff&#x27;, &#x27;#ffe691ff&#x27;, &#x27;#ffe690ff&#x27;, &#x27;#ffe68fff&#x27;, &#x27;#ffe58fff&#x27;, &#x27;#ffe58eff&#x27;, &#x27;#ffe58dff&#x27;, &#x27;#ffe48dff&#x27;, &#x27;#ffe48cff&#x27;, &#x27;#ffe48bff&#x27;, &#x27;#ffe38bff&#x27;, &#x27;#ffe38aff&#x27;, &#x27;#ffe389ff&#x27;, &#x27;#ffe289ff&#x27;, &#x27;#ffe288ff&#x27;, &#x27;#ffe287ff&#x27;, &#x27;#ffe187ff&#x27;, &#x27;#ffe186ff&#x27;, &#x27;#ffe185ff&#x27;, &#x27;#ffe085ff&#x27;, &#x27;#ffe084ff&#x27;, &#x27;#ffe083ff&#x27;, &#x27;#ffdf83ff&#x27;, &#x27;#ffdf82ff&#x27;, &#x27;#ffdf81ff&#x27;, &#x27;#ffde81ff&#x27;, &#x27;#ffde80ff&#x27;, &#x27;#ffde7fff&#x27;, &#x27;#ffdd7fff&#x27;, &#x27;#ffdd7eff&#x27;, &#x27;#ffdd7dff&#x27;, &#x27;#ffdc7dff&#x27;, &#x27;#ffdc7cff&#x27;, &#x27;#ffdc7bff&#x27;, &#x27;#ffdc7bff&#x27;, &#x27;#ffdb7aff&#x27;, &#x27;#ffdb79ff&#x27;, &#x27;#ffdb78ff&#x27;, &#x27;#ffda78ff&#x27;, &#x27;#ffda77ff&#x27;, &#x27;#ffda76ff&#x27;, &#x27;#fed976ff&#x27;, &#x27;#fed975ff&#x27;, &#x27;#fed874ff&#x27;, &#x27;#fed774ff&#x27;, &#x27;#fed773ff&#x27;, &#x27;#fed672ff&#x27;, &#x27;#fed572ff&#x27;, &#x27;#fed571ff&#x27;, &#x27;#fed470ff&#x27;, &#x27;#fed470ff&#x27;, &#x27;#fed36fff&#x27;, &#x27;#fed26eff&#x27;, &#x27;#fed26eff&#x27;, &#x27;#fed16dff&#x27;, &#x27;#fed06cff&#x27;, &#x27;#fed06cff&#x27;, &#x27;#fecf6bff&#x27;, &#x27;#fecf6aff&#x27;, &#x27;#fece6aff&#x27;, &#x27;#fecd69ff&#x27;, &#x27;#fecd68ff&#x27;, &#x27;#fecc68ff&#x27;, &#x27;#fecb67ff&#x27;, &#x27;#fecb66ff&#x27;, &#x27;#feca66ff&#x27;, &#x27;#feca65ff&#x27;, &#x27;#fec964ff&#x27;, &#x27;#fec864ff&#x27;, &#x27;#fec863ff&#x27;, &#x27;#fec762ff&#x27;, &#x27;#fec662ff&#x27;, &#x27;#fec661ff&#x27;, &#x27;#fec560ff&#x27;, &#x27;#fec45fff&#x27;, &#x27;#fec45fff&#x27;, &#x27;#fec35eff&#x27;, &#x27;#fec35dff&#x27;, &#x27;#fec25dff&#x27;, &#x27;#fec15cff&#x27;, &#x27;#fec15bff&#x27;, &#x27;#fec05bff&#x27;, &#x27;#febf5aff&#x27;, &#x27;#febf59ff&#x27;, &#x27;#febe59ff&#x27;, &#x27;#febe58ff&#x27;, &#x27;#febd57ff&#x27;, &#x27;#febc57ff&#x27;, &#x27;#febc56ff&#x27;, &#x27;#febb55ff&#x27;, &#x27;#feba55ff&#x27;, &#x27;#feba54ff&#x27;, &#x27;#feb953ff&#x27;, &#x27;#feb953ff&#x27;, &#x27;#feb852ff&#x27;, &#x27;#feb751ff&#x27;, &#x27;#feb751ff&#x27;, &#x27;#feb650ff&#x27;, &#x27;#feb54fff&#x27;, &#x27;#feb54fff&#x27;, &#x27;#feb44eff&#x27;, &#x27;#feb44dff&#x27;, &#x27;#feb34dff&#x27;, &#x27;#feb24cff&#x27;, &#x27;#feb24cff&#x27;, &#x27;#feb14bff&#x27;, &#x27;#feb04bff&#x27;, &#x27;#feb04bff&#x27;, &#x27;#feaf4bff&#x27;, &#x27;#feaf4aff&#x27;, &#x27;#feae4aff&#x27;, &#x27;#feae4aff&#x27;, &#x27;#fead4aff&#x27;, &#x27;#feac49ff&#x27;, &#x27;#feac49ff&#x27;, &#x27;#feab49ff&#x27;, &#x27;#feab48ff&#x27;, &#x27;#feaa48ff&#x27;, &#x27;#fea948ff&#x27;, &#x27;#fea948ff&#x27;, &#x27;#fea847ff&#x27;, &#x27;#fea847ff&#x27;, &#x27;#fea747ff&#x27;, &#x27;#fea647ff&#x27;, &#x27;#fea646ff&#x27;, &#x27;#fea546ff&#x27;, &#x27;#fea546ff&#x27;, &#x27;#fea446ff&#x27;, &#x27;#fea345ff&#x27;, &#x27;#fea345ff&#x27;, &#x27;#fea245ff&#x27;, &#x27;#fea245ff&#x27;, &#x27;#fea144ff&#x27;, &#x27;#fea044ff&#x27;, &#x27;#fea044ff&#x27;, &#x27;#fe9f44ff&#x27;, &#x27;#fe9f43ff&#x27;, &#x27;#fe9e43ff&#x27;, &#x27;#fe9d43ff&#x27;, &#x27;#fe9d43ff&#x27;, &#x27;#fe9c42ff&#x27;, &#x27;#fe9c42ff&#x27;, &#x27;#fe9b42ff&#x27;, &#x27;#fe9a42ff&#x27;, &#x27;#fe9a41ff&#x27;, &#x27;#fe9941ff&#x27;, &#x27;#fe9941ff&#x27;, &#x27;#fe9840ff&#x27;, &#x27;#fe9740ff&#x27;, &#x27;#fe9740ff&#x27;, &#x27;#fe9640ff&#x27;, &#x27;#fe963fff&#x27;, &#x27;#fe953fff&#x27;, &#x27;#fe943fff&#x27;, &#x27;#fe943fff&#x27;, &#x27;#fe933eff&#x27;, &#x27;#fe933eff&#x27;, &#x27;#fe923eff&#x27;, &#x27;#fe923eff&#x27;, &#x27;#fe913dff&#x27;, &#x27;#fe903dff&#x27;, &#x27;#fe903dff&#x27;, &#x27;#fe8f3dff&#x27;, &#x27;#fe8f3cff&#x27;, &#x27;#fe8e3cff&#x27;, &#x27;#fe8d3cff&#x27;, &#x27;#fd8d3cff&#x27;, &#x27;#fd8c3bff&#x27;, &#x27;#fd8b3bff&#x27;, &#x27;#fd8a3bff&#x27;, &#x27;#fd883aff&#x27;, &#x27;#fd873aff&#x27;, &#x27;#fd863aff&#x27;, &#x27;#fd853aff&#x27;, &#x27;#fd8439ff&#x27;, &#x27;#fd8339ff&#x27;, &#x27;#fd8239ff&#x27;, &#x27;#fd8138ff&#x27;, &#x27;#fd8038ff&#x27;, &#x27;#fd7f38ff&#x27;, &#x27;#fd7e38ff&#x27;, &#x27;#fd7d37ff&#x27;, &#x27;#fd7c37ff&#x27;, &#x27;#fd7b37ff&#x27;, &#x27;#fd7a36ff&#x27;, &#x27;#fd7936ff&#x27;, &#x27;#fd7836ff&#x27;, &#x27;#fd7736ff&#x27;, &#x27;#fd7635ff&#x27;, &#x27;#fd7535ff&#x27;, &#x27;#fd7435ff&#x27;, &#x27;#fd7334ff&#x27;, &#x27;#fd7234ff&#x27;, &#x27;#fd7134ff&#x27;, &#x27;#fd7033ff&#x27;, &#x27;#fd6f33ff&#x27;, &#x27;#fd6e33ff&#x27;, &#x27;#fd6d33ff&#x27;, &#x27;#fd6c32ff&#x27;, &#x27;#fd6b32ff&#x27;, &#x27;#fd6a32ff&#x27;, &#x27;#fd6931ff&#x27;, &#x27;#fd6831ff&#x27;, &#x27;#fd6731ff&#x27;, &#x27;#fd6631ff&#x27;, &#x27;#fd6530ff&#x27;, &#x27;#fd6430ff&#x27;, &#x27;#fd6330ff&#x27;, &#x27;#fd622fff&#x27;, &#x27;#fd612fff&#x27;, &#x27;#fd602fff&#x27;, &#x27;#fd5f2fff&#x27;, &#x27;#fd5e2eff&#x27;, &#x27;#fd5d2eff&#x27;, &#x27;#fd5c2eff&#x27;, &#x27;#fd5b2dff&#x27;, &#x27;#fd5a2dff&#x27;, &#x27;#fd592dff&#x27;, &#x27;#fd582dff&#x27;, &#x27;#fd572cff&#x27;, &#x27;#fd562cff&#x27;, &#x27;#fd552cff&#x27;, &#x27;#fd542bff&#x27;, &#x27;#fd532bff&#x27;, &#x27;#fd522bff&#x27;, &#x27;#fd512aff&#x27;, &#x27;#fd502aff&#x27;, &#x27;#fd4f2aff&#x27;, &#x27;#fc4e2aff&#x27;, &#x27;#fc4d29ff&#x27;, &#x27;#fc4c29ff&#x27;, &#x27;#fb4b29ff&#x27;, &#x27;#fb4a29ff&#x27;, &#x27;#fa4a29ff&#x27;, &#x27;#fa4928ff&#x27;, &#x27;#fa4828ff&#x27;, &#x27;#f94728ff&#x27;, &#x27;#f94628ff&#x27;, &#x27;#f84527ff&#x27;, &#x27;#f84427ff&#x27;, &#x27;#f84427ff&#x27;, &#x27;#f74327ff&#x27;, &#x27;#f74226ff&#x27;, &#x27;#f64126ff&#x27;, &#x27;#f64026ff&#x27;, &#x27;#f63f26ff&#x27;, &#x27;#f53f26ff&#x27;, &#x27;#f53e25ff&#x27;, &#x27;#f43d25ff&#x27;, &#x27;#f43c25ff&#x27;, &#x27;#f43b25ff&#x27;, &#x27;#f33a24ff&#x27;, &#x27;#f33a24ff&#x27;, &#x27;#f23924ff&#x27;, &#x27;#f23824ff&#x27;, &#x27;#f23724ff&#x27;, &#x27;#f13623ff&#x27;, &#x27;#f13523ff&#x27;, &#x27;#f03523ff&#x27;, &#x27;#f03423ff&#x27;, &#x27;#f03322ff&#x27;, &#x27;#ef3222ff&#x27;, &#x27;#ef3122ff&#x27;, &#x27;#ee3022ff&#x27;, &#x27;#ee3022ff&#x27;, &#x27;#ee2f21ff&#x27;, &#x27;#ed2e21ff&#x27;, &#x27;#ed2d21ff&#x27;, &#x27;#ec2c21ff&#x27;, &#x27;#ec2b20ff&#x27;, &#x27;#ec2b20ff&#x27;, &#x27;#eb2a20ff&#x27;, &#x27;#eb2920ff&#x27;, &#x27;#ea281fff&#x27;, &#x27;#ea271fff&#x27;, &#x27;#ea261fff&#x27;, &#x27;#e9261fff&#x27;, &#x27;#e9251fff&#x27;, &#x27;#e8241eff&#x27;, &#x27;#e8231eff&#x27;, &#x27;#e8221eff&#x27;, &#x27;#e7211eff&#x27;, &#x27;#e7211dff&#x27;, &#x27;#e6201dff&#x27;, &#x27;#e61f1dff&#x27;, &#x27;#e61e1dff&#x27;, &#x27;#e51d1dff&#x27;, &#x27;#e51c1cff&#x27;, &#x27;#e41b1cff&#x27;, &#x27;#e41b1cff&#x27;, &#x27;#e31a1cff&#x27;, &#x27;#e3191cff&#x27;, &#x27;#e2191cff&#x27;, &#x27;#e2181cff&#x27;, &#x27;#e1181cff&#x27;, &#x27;#e0181cff&#x27;, &#x27;#e0171dff&#x27;, &#x27;#df171dff&#x27;, &#x27;#df161dff&#x27;, &#x27;#de161dff&#x27;, &#x27;#dd161dff&#x27;, &#x27;#dd151dff&#x27;, &#x27;#dc151eff&#x27;, &#x27;#dc141eff&#x27;, &#x27;#db141eff&#x27;, &#x27;#da131eff&#x27;, &#x27;#da131eff&#x27;, &#x27;#d9131eff&#x27;, &#x27;#d9121eff&#x27;, &#x27;#d8121fff&#x27;, &#x27;#d7111fff&#x27;, &#x27;#d7111fff&#x27;, &#x27;#d6111fff&#x27;, &#x27;#d5101fff&#x27;, &#x27;#d5101fff&#x27;, &#x27;#d40f20ff&#x27;, &#x27;#d40f20ff&#x27;, &#x27;#d30e20ff&#x27;, &#x27;#d20e20ff&#x27;, &#x27;#d20e20ff&#x27;, &#x27;#d10d20ff&#x27;, &#x27;#d10d21ff&#x27;, &#x27;#d00c21ff&#x27;, &#x27;#cf0c21ff&#x27;, &#x27;#cf0b21ff&#x27;, &#x27;#ce0b21ff&#x27;, &#x27;#ce0b21ff&#x27;, &#x27;#cd0a22ff&#x27;, &#x27;#cc0a22ff&#x27;, &#x27;#cc0922ff&#x27;, &#x27;#cb0922ff&#x27;, &#x27;#ca0922ff&#x27;, &#x27;#ca0822ff&#x27;, &#x27;#c90822ff&#x27;, &#x27;#c90723ff&#x27;, &#x27;#c80723ff&#x27;, &#x27;#c70623ff&#x27;, &#x27;#c70623ff&#x27;, &#x27;#c60623ff&#x27;, &#x27;#c60523ff&#x27;, &#x27;#c50524ff&#x27;, &#x27;#c40424ff&#x27;, &#x27;#c40424ff&#x27;, &#x27;#c30424ff&#x27;, &#x27;#c30324ff&#x27;, &#x27;#c20324ff&#x27;, &#x27;#c10225ff&#x27;, &#x27;#c10225ff&#x27;, &#x27;#c00125ff&#x27;, &#x27;#bf0125ff&#x27;, &#x27;#bf0125ff&#x27;, &#x27;#be0025ff&#x27;, &#x27;#be0026ff&#x27;, &#x27;#bd0026ff&#x27;, &#x27;#bc0026ff&#x27;, &#x27;#bb0026ff&#x27;, &#x27;#ba0026ff&#x27;, &#x27;#b90026ff&#x27;, &#x27;#b80026ff&#x27;, &#x27;#b70026ff&#x27;, &#x27;#b60026ff&#x27;, &#x27;#b50026ff&#x27;, &#x27;#b40026ff&#x27;, &#x27;#b30026ff&#x27;, &#x27;#b20026ff&#x27;, &#x27;#b10026ff&#x27;, &#x27;#b00026ff&#x27;, &#x27;#af0026ff&#x27;, &#x27;#ae0026ff&#x27;, &#x27;#ad0026ff&#x27;, &#x27;#ac0026ff&#x27;, &#x27;#ab0026ff&#x27;, &#x27;#aa0026ff&#x27;, &#x27;#a90026ff&#x27;, &#x27;#a80026ff&#x27;, &#x27;#a70026ff&#x27;, &#x27;#a60026ff&#x27;, &#x27;#a50026ff&#x27;, &#x27;#a40026ff&#x27;, &#x27;#a30026ff&#x27;, &#x27;#a20026ff&#x27;, &#x27;#a10026ff&#x27;, &#x27;#a00026ff&#x27;, &#x27;#9f0026ff&#x27;, &#x27;#9e0026ff&#x27;, &#x27;#9d0026ff&#x27;, &#x27;#9c0026ff&#x27;, &#x27;#9b0026ff&#x27;, &#x27;#9b0026ff&#x27;, &#x27;#9a0026ff&#x27;, &#x27;#990026ff&#x27;, &#x27;#980026ff&#x27;, &#x27;#970026ff&#x27;, &#x27;#960026ff&#x27;, &#x27;#950026ff&#x27;, &#x27;#940026ff&#x27;, &#x27;#930026ff&#x27;, &#x27;#920026ff&#x27;, &#x27;#910026ff&#x27;, &#x27;#900026ff&#x27;, &#x27;#8f0026ff&#x27;, &#x27;#8e0026ff&#x27;, &#x27;#8d0026ff&#x27;, &#x27;#8c0026ff&#x27;, &#x27;#8b0026ff&#x27;, &#x27;#8a0026ff&#x27;, &#x27;#890026ff&#x27;, &#x27;#880026ff&#x27;, &#x27;#870026ff&#x27;, &#x27;#860026ff&#x27;, &#x27;#850026ff&#x27;, &#x27;#840026ff&#x27;, &#x27;#830026ff&#x27;, &#x27;#820026ff&#x27;, &#x27;#810026ff&#x27;, &#x27;#800026ff&#x27;]);\n",
       "    \n",
       "\n",
       "    color_map_b7ac81105124bde32c05c7bc47263d52.x = d3.scale.linear()\n",
       "              .domain([17.0, 126.0])\n",
       "              .range([0, 450 - 50]);\n",
       "\n",
       "    color_map_b7ac81105124bde32c05c7bc47263d52.legend = L.control({position: &#x27;topright&#x27;});\n",
       "    color_map_b7ac81105124bde32c05c7bc47263d52.legend.onAdd = function (map) {var div = L.DomUtil.create(&#x27;div&#x27;, &#x27;legend&#x27;); return div};\n",
       "    color_map_b7ac81105124bde32c05c7bc47263d52.legend.addTo(map_a838227a0f1aca76669ba209e9d78a94);\n",
       "\n",
       "    color_map_b7ac81105124bde32c05c7bc47263d52.xAxis = d3.svg.axis()\n",
       "        .scale(color_map_b7ac81105124bde32c05c7bc47263d52.x)\n",
       "        .orient(&quot;top&quot;)\n",
       "        .tickSize(1)\n",
       "        .tickValues([17.0, 30.625, 44.25, 57.875, 71.5, 85.125, 98.75, 112.375, 126.0]);\n",
       "\n",
       "    color_map_b7ac81105124bde32c05c7bc47263d52.svg = d3.select(&quot;.legend.leaflet-control&quot;).append(&quot;svg&quot;)\n",
       "        .attr(&quot;id&quot;, &#x27;legend&#x27;)\n",
       "        .attr(&quot;width&quot;, 450)\n",
       "        .attr(&quot;height&quot;, 40);\n",
       "\n",
       "    color_map_b7ac81105124bde32c05c7bc47263d52.g = color_map_b7ac81105124bde32c05c7bc47263d52.svg.append(&quot;g&quot;)\n",
       "        .attr(&quot;class&quot;, &quot;key&quot;)\n",
       "        .attr(&quot;fill&quot;, &quot;black&quot;)\n",
       "        .attr(&quot;transform&quot;, &quot;translate(25,16)&quot;);\n",
       "\n",
       "    color_map_b7ac81105124bde32c05c7bc47263d52.g.selectAll(&quot;rect&quot;)\n",
       "        .data(color_map_b7ac81105124bde32c05c7bc47263d52.color.range().map(function(d, i) {\n",
       "          return {\n",
       "            x0: i ? color_map_b7ac81105124bde32c05c7bc47263d52.x(color_map_b7ac81105124bde32c05c7bc47263d52.color.domain()[i - 1]) : color_map_b7ac81105124bde32c05c7bc47263d52.x.range()[0],\n",
       "            x1: i &lt; color_map_b7ac81105124bde32c05c7bc47263d52.color.domain().length ? color_map_b7ac81105124bde32c05c7bc47263d52.x(color_map_b7ac81105124bde32c05c7bc47263d52.color.domain()[i]) : color_map_b7ac81105124bde32c05c7bc47263d52.x.range()[1],\n",
       "            z: d\n",
       "          };\n",
       "        }))\n",
       "      .enter().append(&quot;rect&quot;)\n",
       "        .attr(&quot;height&quot;, 40 - 30)\n",
       "        .attr(&quot;x&quot;, function(d) { return d.x0; })\n",
       "        .attr(&quot;width&quot;, function(d) { return d.x1 - d.x0; })\n",
       "        .style(&quot;fill&quot;, function(d) { return d.z; });\n",
       "\n",
       "    color_map_b7ac81105124bde32c05c7bc47263d52.g.call(color_map_b7ac81105124bde32c05c7bc47263d52.xAxis).append(&quot;text&quot;)\n",
       "        .attr(&quot;class&quot;, &quot;caption&quot;)\n",
       "        .attr(&quot;y&quot;, 21)\n",
       "        .attr(&quot;fill&quot;, &quot;black&quot;)\n",
       "        .text(&quot;&quot;);\n",
       "&lt;/script&gt;\n",
       "&lt;/html&gt;\" style=\"position:absolute;width:100%;height:100%;left:0;top:0;border:none !important;\" allowfullscreen webkitallowfullscreen mozallowfullscreen></iframe></div></div>"
      ],
      "text/plain": [
       "<folium.folium.Map at 0x19c55a61a90>"
      ]
     },
     "execution_count": 124,
     "metadata": {},
     "output_type": "execute_result"
    }
   ],
   "source": [
    "top_20_cities = all_df.nlargest(20, 'delivery_delay')\n",
    "\n",
    "# Mewarnai peta dengan warna sesuai dengan keterlambatan\n",
    "colormap = linear.YlOrRd_09.scale(top_20_cities['delivery_delay'].min(), top_20_cities['delivery_delay'].max())\n",
    "\n",
    "# Buat peta Brazil\n",
    "map_brazil = folium.Map(location=[-14.2350, -51.9253], zoom_start=4)\n",
    "\n",
    "# Tambahkan marker untuk 10 kota dengan keterlambatan tertinggi\n",
    "for index, row in top_20_cities.iterrows():\n",
    "    folium.CircleMarker(\n",
    "        location=[row['geolocation_lat'], row['geolocation_lng']],\n",
    "        radius=16, \n",
    "        color=colormap(row['delivery_delay']),\n",
    "        fill=True,\n",
    "        fill_color=colormap(row['delivery_delay']),\n",
    "        fill_opacity=0.6\n",
    "    ).add_to(map_brazil)\n",
    "\n",
    "# Tambahkan colormap ke peta\n",
    "colormap.add_to(map_brazil)\n",
    "\n",
    "# Tampilkan peta\n",
    "map_brazil"
   ]
  },
  {
   "attachments": {},
   "cell_type": "markdown",
   "metadata": {},
   "source": [
    "#### Heatmap sebaran daerah kota yang memiliki rata-rata delay pengiriman"
   ]
  },
  {
   "cell_type": "code",
   "execution_count": 129,
   "metadata": {},
   "outputs": [
    {
     "data": {
      "text/html": [
       "<div style=\"width:100%;\"><div style=\"position:relative;width:100%;height:0;padding-bottom:60%;\"><span style=\"color:#565656\">Make this Notebook Trusted to load map: File -> Trust Notebook</span><iframe srcdoc=\"&lt;!DOCTYPE html&gt;\n",
       "&lt;html&gt;\n",
       "&lt;head&gt;\n",
       "    \n",
       "    &lt;meta http-equiv=&quot;content-type&quot; content=&quot;text/html; charset=UTF-8&quot; /&gt;\n",
       "    \n",
       "        &lt;script&gt;\n",
       "            L_NO_TOUCH = false;\n",
       "            L_DISABLE_3D = false;\n",
       "        &lt;/script&gt;\n",
       "    \n",
       "    &lt;style&gt;html, body {width: 100%;height: 100%;margin: 0;padding: 0;}&lt;/style&gt;\n",
       "    &lt;style&gt;#map {position:absolute;top:0;bottom:0;right:0;left:0;}&lt;/style&gt;\n",
       "    &lt;script src=&quot;https://cdn.jsdelivr.net/npm/leaflet@1.9.3/dist/leaflet.js&quot;&gt;&lt;/script&gt;\n",
       "    &lt;script src=&quot;https://code.jquery.com/jquery-3.7.1.min.js&quot;&gt;&lt;/script&gt;\n",
       "    &lt;script src=&quot;https://cdn.jsdelivr.net/npm/bootstrap@5.2.2/dist/js/bootstrap.bundle.min.js&quot;&gt;&lt;/script&gt;\n",
       "    &lt;script src=&quot;https://cdnjs.cloudflare.com/ajax/libs/Leaflet.awesome-markers/2.0.2/leaflet.awesome-markers.js&quot;&gt;&lt;/script&gt;\n",
       "    &lt;link rel=&quot;stylesheet&quot; href=&quot;https://cdn.jsdelivr.net/npm/leaflet@1.9.3/dist/leaflet.css&quot;/&gt;\n",
       "    &lt;link rel=&quot;stylesheet&quot; href=&quot;https://cdn.jsdelivr.net/npm/bootstrap@5.2.2/dist/css/bootstrap.min.css&quot;/&gt;\n",
       "    &lt;link rel=&quot;stylesheet&quot; href=&quot;https://netdna.bootstrapcdn.com/bootstrap/3.0.0/css/bootstrap-glyphicons.css&quot;/&gt;\n",
       "    &lt;link rel=&quot;stylesheet&quot; href=&quot;https://cdn.jsdelivr.net/npm/@fortawesome/fontawesome-free@6.2.0/css/all.min.css&quot;/&gt;\n",
       "    &lt;link rel=&quot;stylesheet&quot; href=&quot;https://cdnjs.cloudflare.com/ajax/libs/Leaflet.awesome-markers/2.0.2/leaflet.awesome-markers.css&quot;/&gt;\n",
       "    &lt;link rel=&quot;stylesheet&quot; href=&quot;https://cdn.jsdelivr.net/gh/python-visualization/folium/folium/templates/leaflet.awesome.rotate.min.css&quot;/&gt;\n",
       "    \n",
       "            &lt;meta name=&quot;viewport&quot; content=&quot;width=device-width,\n",
       "                initial-scale=1.0, maximum-scale=1.0, user-scalable=no&quot; /&gt;\n",
       "            &lt;style&gt;\n",
       "                #map_2b54ecec0afa0ecc24ef67572d7e1541 {\n",
       "                    position: relative;\n",
       "                    width: 100.0%;\n",
       "                    height: 100.0%;\n",
       "                    left: 0.0%;\n",
       "                    top: 0.0%;\n",
       "                }\n",
       "                .leaflet-container { font-size: 1rem; }\n",
       "            &lt;/style&gt;\n",
       "        \n",
       "    &lt;script src=&quot;https://cdn.jsdelivr.net/gh/python-visualization/folium@main/folium/templates/leaflet_heat.min.js&quot;&gt;&lt;/script&gt;\n",
       "&lt;/head&gt;\n",
       "&lt;body&gt;\n",
       "    \n",
       "    \n",
       "            &lt;div class=&quot;folium-map&quot; id=&quot;map_2b54ecec0afa0ecc24ef67572d7e1541&quot; &gt;&lt;/div&gt;\n",
       "        \n",
       "&lt;/body&gt;\n",
       "&lt;script&gt;\n",
       "    \n",
       "    \n",
       "            var map_2b54ecec0afa0ecc24ef67572d7e1541 = L.map(\n",
       "                &quot;map_2b54ecec0afa0ecc24ef67572d7e1541&quot;,\n",
       "                {\n",
       "                    center: [-14.235, -51.9253],\n",
       "                    crs: L.CRS.EPSG3857,\n",
       "                    ...{\n",
       "  &quot;zoom&quot;: 4,\n",
       "  &quot;zoomControl&quot;: true,\n",
       "  &quot;preferCanvas&quot;: false,\n",
       "}\n",
       "\n",
       "                }\n",
       "            );\n",
       "\n",
       "            \n",
       "\n",
       "        \n",
       "    \n",
       "            var tile_layer_172769183f5a7bec59de72c6c3252b30 = L.tileLayer(\n",
       "                &quot;https://tile.openstreetmap.org/{z}/{x}/{y}.png&quot;,\n",
       "                {\n",
       "  &quot;minZoom&quot;: 0,\n",
       "  &quot;maxZoom&quot;: 19,\n",
       "  &quot;maxNativeZoom&quot;: 19,\n",
       "  &quot;noWrap&quot;: false,\n",
       "  &quot;attribution&quot;: &quot;\\u0026copy; \\u003ca href=\\&quot;https://www.openstreetmap.org/copyright\\&quot;\\u003eOpenStreetMap\\u003c/a\\u003e contributors&quot;,\n",
       "  &quot;subdomains&quot;: &quot;abc&quot;,\n",
       "  &quot;detectRetina&quot;: false,\n",
       "  &quot;tms&quot;: false,\n",
       "  &quot;opacity&quot;: 1,\n",
       "}\n",
       "\n",
       "            );\n",
       "        \n",
       "    \n",
       "            tile_layer_172769183f5a7bec59de72c6c3252b30.addTo(map_2b54ecec0afa0ecc24ef67572d7e1541);\n",
       "        \n",
       "    \n",
       "            var heat_map_d4d2803790f9fe44bec3e6b8f8500f0d = L.heatLayer(\n",
       "                [[-19.253832623962595, -40.505693628063305, 126.0], [-4.711055273955796, -44.32736161571313, 78.0], [-22.694008556222283, -52.7197073050395, 73.0], [-20.195948012333556, -40.85497505487956, 53.0], [-23.619535425600905, -53.38212068195976, 52.0], [-6.289885598186517, -38.162924959843465, 49.0], [-12.092960636662799, -38.50143320577666, 43.0], [-20.172710091561513, -51.00106950753346, 41.0], [-27.567860111684137, -51.668006307550215, 29.0], [-18.078788221182954, -43.24715728444043, 27.0], [-11.253453060753076, -39.37792045595914, 27.0], [-24.59211804443721, -52.80376414808603, 25.0], [-12.4819495675723, -38.994315328859464, 24.5], [-17.30608267043897, -48.50168912522954, 21.5], [-22.053318048067162, -42.518182795858706, 21.0], [-11.012310874864836, -37.32024797202018, 20.0], [-11.429867463098436, -40.59714744180158, 18.2], [-22.06949377314427, -50.303983055779376, 18.0], [-7.077091335231696, -36.732248704492505, 17.0], [-16.975562820475375, -41.42995619322306, 17.0], [-5.155139372520467, -44.29949886716379, 17.0], [-21.84251257848949, -41.25341551332294, 17.0], [-3.8667811164432826, -54.217390775048884, 17.0], [-19.82190436837232, -44.00995343801027, 17.0], [-9.782144527798678, -36.097430364779356, 16.12121212121212], [-9.828240238626524, -36.74064941237264, 16.0], [-7.98191198915337, -35.58176162832357, 15.0], [-11.45534706517941, -41.45792194795551, 14.0], [-13.256750865853416, -39.57196328666318, 14.0], [-11.18551856243676, -36.1483608064418, 13.666666666666666], [-6.221586289602456, -57.75989059534457, 13.0], [-4.981966359529619, -44.69951660843545, 13.0], [-1.5484759472986485, -47.11441508631301, 13.0], [-1.7953781762249652, -46.299441507231606, 12.5], [-13.4688355351923, -39.240259895855324, 12.0], [-11.13679442747616, -42.10633729236847, 12.0], [-17.092067160502854, -42.54183124753738, 11.0], [42.18400274298598, -8.723762147513938, 11.0], [-22.345766968364543, -41.75767926461165, 11.0], [-3.6272852204135684, -44.555883055408415, 10.5], [-3.745510783287011, -45.26184452595952, 10.0], [-17.027409747481066, -40.55576147146938, 10.0], [-24.912358720128363, -53.88915463260667, 10.0], [-14.501526067953598, -42.22304147642708, 9.666666666666666], [-15.834471815713352, -58.51448413653023, 9.5], [-10.47824576489704, -41.012739959968734, 9.333333333333334], [-1.5071695773866027, -45.731360277492165, 9.0], [-5.8123921431106025, -38.313038697789864, 9.0], [-6.466574062489451, -35.94618002002062, 9.0], [-23.63723760717403, -47.826145586646035, 9.0], [-6.2592801900803785, -36.51894640010061, 8.714285714285714], [-9.538875577795833, -36.63139861599875, 8.5], [-23.599153923116557, -48.31747225605046, 8.5], [-18.476713762810867, -41.01877846394589, 8.5], [-10.909367806802333, -37.028573479704285, 8.0], [-25.98401358771999, -49.67910298311365, 8.0], [-21.934313385009407, -46.126336868400706, 8.0], [-20.85631089026891, -50.261263067411825, 8.0], [-3.483578599736566, -42.589402077647705, 8.0], [-29.136498812338843, -49.718056590913534, 8.0], [-0.7805902321160684, -47.18548608757061, 8.0], [-7.546247807895233, -35.70730669344224, 7.0], [-12.906137934124084, -39.192076256892555, 7.0], [-21.40247034075929, -44.92081235917165, 7.0], [-6.5904930396973835, -37.91558188547208, 7.0], [-27.507510860169198, -49.28803373665389, 7.0], [-6.7576486810483125, -36.467601490733436, 7.0], [-29.85199246917771, -50.06690688738297, 7.0], [-24.82693999999998, -53.646109999999965, 7.0], [-20.988488233934397, -42.23727344129296, 7.0], [-5.660532491107885, -37.797524047336026, 6.666666666666667], [-10.714720124763799, -43.634267531036194, 6.5], [-11.816688190640768, -37.61817879401775, 6.5], [-10.915875930865413, -37.67162734041555, 6.2727272727272725], [-6.4405775544740145, -46.18830745383653, 6.0], [-13.77606591614483, -42.713718613422586, 6.0], [-11.522596449776403, -37.50900137028286, 6.0], [-6.522041472264161, -39.524344660950156, 6.0], [-10.665507411686086, -37.541966200027076, 6.0], [-14.490086864717954, -38.324587978612584, 6.0], [-20.757345182143844, -49.88184551275958, 6.0], [-5.2508121024841286, -38.12834548325439, 6.0], [-20.03674408443559, -42.267208285286564, 6.0], [-19.361895231503148, -47.28444658165654, 5.875], [-3.7257330463271967, -40.99162685596346, 5.777777777777778], [-22.411489567314835, -47.57096343796528, 5.0], [-19.04329047203457, -50.48805214021181, 5.0], [-17.69612838188239, -43.33154901160038, 5.0], [-16.091314224349446, -41.75016038774728, 5.0], [-3.5623961798467403, -41.096177389119894, 5.0], [-12.617087154600132, -47.87552658516529, 4.5], [-22.42840401964087, -44.3063806717858, 4.428571428571429], [-18.13083571336526, -40.357554283830645, 4.4], [-7.387134648529149, -37.508443536306565, 4.333333333333333], [-22.86006154349754, -46.032840129941874, 4.333333333333333], [-20.09222728785353, -47.79066785748692, 4.0], [-10.584656388409956, -38.61512816744011, 4.0], [-17.63539557959856, -47.7761984522561, 4.0], [-9.831770898210245, -45.339147759682525, 4.0], [-17.162220653625173, -40.26565998066104, 4.0], [-6.815904085880835, -37.19881332377273, 4.0], [-29.036956342619277, -53.038492981072, 4.0], [-10.421498999999947, -48.92569099999996, 4.0], [-29.550679712281962, -55.12678634025599, 4.0], [-9.313240537224742, -35.567836878247206, 4.0], [-21.31171921911966, -47.563900540571225, 4.0], [-5.788245605807633, -37.965449155369555, 4.0], [-15.396562332932175, -42.30952711107768, 4.0], [-14.957693378406061, -39.303719938844445, 3.0], [-20.39476345719793, -43.27792861411475, 3.0], [-20.706822352054118, -41.01712786426433, 3.0], [-20.458000956865988, -42.65883373196586, 3.0], [-17.275828583692395, -42.014991706917755, 3.0], [-12.606963187638693, -38.96923308583899, 3.0], [-22.217047735465396, -43.315218158916544, 3.0], [-8.972736915689614, -39.8845934420039, 2.6666666666666665], [-7.355970069538574, -39.04326684653225, 2.5], [-14.722349710345776, -49.46892115643486, 2.5], [-25.771004520390672, -49.32500627915659, 2.0], [-28.00030351378292, -49.17546213298624, 2.0], [-17.006316310523424, -46.008412431617955, 2.0], [-6.667291048992321, -41.708301381112406, 2.0], [-23.473273187555122, -54.178413612428464, 2.0], [-6.017941877276997, -37.40706888387473, 2.0], [-3.450959083651506, -52.89059023771312, 2.0], [-7.08689252783847, -35.95922466090243, 2.0], [-9.603077766424372, -37.24771684332587, 2.0], [-20.762729094305136, -41.271606233951005, 2.0], [-6.835157734794304, -40.613447744856344, 2.0], [2.8545299564090527, -70.31520024946744, 2.0], [-20.661042249020994, -41.009737925246036, 2.0], [-2.8905909990421796, -40.10983231993736, 1.875], [-15.328346870390979, -49.57463202562844, 1.7894736842105263], [-12.724844654264318, -38.216389601246426, 1.5], [-20.19929377122579, -44.42692141852904, 1.5], [-26.76088503703848, -48.67964304885746, 1.0], [-20.91932831491706, -41.196078994269946, 1.0], [-6.535978013297, -39.496343801011186, 1.0], [-20.448179580998403, -45.55714376473549, 1.0], [-26.171909231026945, -49.329430285344834, 1.0], [-29.594889398612807, -53.77118646890408, 1.0], [-3.1317886291397716, -58.431686830492836, 1.0], [-12.625402585340966, -38.074460831927205, 1.0], [-26.903483926575923, -52.906270978136945, 1.0], [-11.81937336066137, -46.624890836993316, 1.0], [-20.340183139504454, -40.73167973417412, 1.0], [-18.356798944627723, -41.59665155935605, 1.0], [-22.707410124912013, -46.03526215592884, 1.0], [-20.795663451801367, -43.34544426837758, 1.0], [-3.598104898072363, -39.43614668673904, 1.0], [-8.577220375043272, -36.872889716554226, 1.0], [-24.576361627386664, -53.800517720760986, 1.0], [-18.407156599891984, -41.145491463089485, 1.0], [-22.32924291894599, -44.528515257625656, 1.0], [-16.584493691472197, -39.12915003171748, 0.16666666666666666], [-6.213830960356883, -37.89750341701303, 0.0], [-6.325943690618894, -40.15613983579525, 0.0], [-12.484797099889365, -43.961172580152045, 0.0], [-12.311407125375581, -39.30950897255724, 0.0], [-6.122106000000002, -35.475278930623794, 0.0], [-20.7880292437573, -43.47340340801194, 0.0], [-12.815953342728909, -41.06965898558627, 0.0], [3.843299396311835, -51.833257082124824, 0.0], [-8.14039933473923, -35.390146709540424, 0.0], [-21.53000768662315, -46.12717210216777, 0.0], [-30.19111294483455, -53.286693000336165, 0.0], [-14.279705211738847, -38.99378895863365, -0.2857142857142857], [-6.9666622166253, -35.70293214026564, -0.5], [-6.180537088780195, -47.35066286379947, -0.5], [-10.648277527326503, -36.98751475634349, -0.5], [-12.834529958222602, -38.26449516228337, -0.5], [-8.010542385495333, -35.69929680773797, -0.5], [-24.44958658325568, -54.16961072758329, -0.5], [-9.533985537820469, -48.590989106508296, -0.5], [-21.15217978775603, -42.21203289234189, -0.5], [-25.080903213238354, -49.446336061837975, -0.5636363636363636], [-22.06558499870038, -42.07149865806281, -0.625], [-7.06196902730586, -35.76440866320551, -1.0], [-25.5534229350904, -48.62752422974045, -1.0], [-12.006384427285656, -44.698162626990054, -1.0], [-20.292871465179406, -43.48026179436329, -1.0], [-13.379028009389248, -42.52237355251331, -1.0], [-30.143748672461925, -50.51202692411385, -1.0], [-28.52771334821069, -54.14607488790085, -1.0], [-4.454547476475752, -37.802983746616576, -1.0], [-5.098121551652053, -36.241779931512795, -1.0], [-4.908117299278558, -40.7625212685025, -1.0], [-23.43556505102314, -46.46811239594956, -1.0], [-20.349163428125756, -41.533793169352485, -1.0], [-24.418527499879367, -52.847072516745065, -1.0], [-31.63880715441437, -52.41553423919472, -1.0], [-19.907687899961616, -48.702139482546556, -1.0], [-28.368492657351233, -53.253991950723915, -1.0], [-7.40166930885011, -36.816975847308434, -1.0], [-15.214249489419505, -46.81573874501741, -1.0], [-9.156289284598689, -36.027261011005066, -1.0], [-23.612034548654297, -51.40843287104166, -1.0], [-3.4708221248299345, -44.874122102403916, -1.0], [-20.60016018979335, -46.020108708137286, -1.0454545454545454], [-4.099297206998521, -38.4938953299285, -1.2452830188679245], [-18.05755085116548, -41.13523097260995, -1.5], [-19.24593411404079, -40.091152596757134, -1.5], [-3.7587838453956297, -40.816334345068086, -1.5], [-7.987393662317679, -36.496402368672854, -1.5], [-14.658291616161257, -40.12033032474554, -1.5], [-19.140458188134787, -40.61645177710805, -1.5714285714285714], [-24.113652700272713, -49.464387107906894, -1.6], [-21.868313548258158, -42.698740442406134, -2.0], [-27.078409010542018, -52.45510633727941, -2.0], [-7.2185315166586035, -44.55507182209266, -2.0], [-15.32313365488014, -44.75789116987176, -2.0], [-26.602931196443897, -51.099089272478885, -2.0], [-19.086351279863255, -43.140393050850584, -2.0], [-17.052520290388994, -44.20908628691129, -2.0], [-19.633921848206363, -43.98533035003189, -2.0], [-8.583845869744591, -35.38551945170352, -2.0], [-31.400115264823956, -53.87938857028825, -2.0], [-25.117070009139393, -53.015975802179156, -2.0], [-18.487110988630633, -49.992435313439756, -2.0], [-24.40895635252362, -52.10056846396219, -2.0], [-14.270191771598258, -39.84007985377376, -2.0], [-4.487947696050415, -38.59237493596233, -2.0], [-23.07457562304542, -47.97536816428148, -2.0], [-10.731420744931947, -37.18688734133239, -2.0], [-12.93069079147151, -51.81556596478972, -2.0], [-20.244872155901724, -42.89708268672333, -2.0], [-2.5581064373865994, -35.15902752271931, -2.0], [-22.204999999999927, -42.39805999999993, -2.0], [-9.74366410647554, -41.867826275963075, -2.0], [-15.99526168300148, -41.27334039018543, -2.2], [-4.183832622571463, -38.1225329145122, -2.3333333333333335], [-14.415776980702317, -52.84381447789828, -2.3333333333333335], [-14.706386909949163, -47.52282563447728, -2.3333333333333335], [-11.381358381254667, -37.66089011346862, -2.3333333333333335], [-21.57434606224571, -41.9115263333013, -2.375], [-1.349657293364552, -48.25646592192597, -2.5], [-14.635468320077548, -39.555892824301225, -2.5], [-22.254423915758686, -54.16191206032909, -2.5], [-11.310017158393821, -38.21960476956627, -2.5], [-13.529339631549892, -39.97577754633444, -2.5], [-19.321724888523093, -48.92200810636418, -2.5], [-24.77071227279695, -48.50131051256669, -2.6666666666666665], [-11.78823142132419, -38.35527969155361, -2.857142857142857], [-25.375923341646313, -49.38748957765852, -3.0], [-7.241636248140669, -40.84802329456374, -3.0], [-20.443544706214276, -41.869956999886284, -3.0], [-3.504514941264218, -39.57289793990247, -3.0], [-21.67833949858253, -48.035581394934425, -3.0], [-28.827613789684147, -49.2338083718345, -3.0], [-4.243175377815742, -42.2941294052345, -3.0]],\n",
       "                {\n",
       "  &quot;minOpacity&quot;: 0.5,\n",
       "  &quot;maxZoom&quot;: 18,\n",
       "  &quot;radius&quot;: 15,\n",
       "  &quot;blur&quot;: 15,\n",
       "}\n",
       "            );\n",
       "        \n",
       "    \n",
       "            heat_map_d4d2803790f9fe44bec3e6b8f8500f0d.addTo(map_2b54ecec0afa0ecc24ef67572d7e1541);\n",
       "        \n",
       "&lt;/script&gt;\n",
       "&lt;/html&gt;\" style=\"position:absolute;width:100%;height:100%;left:0;top:0;border:none !important;\" allowfullscreen webkitallowfullscreen mozallowfullscreen></iframe></div></div>"
      ],
      "text/plain": [
       "<folium.folium.Map at 0x19cdc49e6f0>"
      ]
     },
     "execution_count": 129,
     "metadata": {},
     "output_type": "execute_result"
    }
   ],
   "source": [
    "top_250_cities = all_df.nlargest(250, 'delivery_delay')\n",
    "\n",
    "heat_data = top_250_cities[['geolocation_lat', 'geolocation_lng', 'delivery_delay']]\n",
    "\n",
    "# Buat peta Brazil\n",
    "heatmap_brazil = folium.Map(location=[-14.2350, -51.9253], zoom_start=4)\n",
    "\n",
    "# Tambahkan heatmap ke peta\n",
    "HeatMap(data=heat_data[['geolocation_lat', 'geolocation_lng', 'delivery_delay']], radius=15).add_to(heatmap_brazil)\n",
    "\n",
    "# Tampilkan peta\n",
    "heatmap_brazil"
   ]
  },
  {
   "cell_type": "markdown",
   "metadata": {
    "id": "_0-36BDLklRg"
   },
   "source": [
    "**Insight:**\n",
    "- xxx\n",
    "- xxx"
   ]
  },
  {
   "cell_type": "markdown",
   "metadata": {
    "id": "9y4VUsmcYNZ5"
   },
   "source": [
    "## Analisis Lanjutan (Opsional)"
   ]
  },
  {
   "cell_type": "code",
   "execution_count": null,
   "metadata": {
    "id": "iWhnzsJGYUCO"
   },
   "outputs": [],
   "source": []
  },
  {
   "cell_type": "markdown",
   "metadata": {
    "id": "_WeHlCeX8DC2"
   },
   "source": [
    "## Conclusion"
   ]
  },
  {
   "attachments": {},
   "cell_type": "markdown",
   "metadata": {
    "id": "ZTcyR48Y8DC2"
   },
   "source": [
    "- Sao Paulo merupakan kota dengan revenue tertinggi, yang kemungkinan besar disebabkan oleh tingginya jumlah transaksi dan besarnya daya beli pelanggan di kota besar. Sao Paulo memiliki konsentrasi seller dan pelanggan yang lebih besar dibandingkan kota lain.\n",
    "Dengan begitu, memungkinkan untuk menargetkan pemasaran di kota Sao Paulo yang memiliki potensi pasar yang besar.\n",
    "\n",
    "Palotina merupakan kota dengan revenue terendah, yang kemungkinan disebabkan oleh rendahnya jumlah transaksi, daya beli pelanggan yang lebih kecil, atau keterbatasan jumlah seller yang beroperasi di wilayah tersebut.\n",
    "Dengan data ini mungkin diperlukan strategi promosi atau subsidi pengiriman yang dapat menjadi cara untuk meningkatkan transaksi di Palotina dan wilayah lain yang minim transaksi.\n",
    "\n",
    "- Beberapa daerah pelanggan dengan tingkat keterlambatan tertinggi berada di wilayah terpencil atau wilayah yang memiliki akses terbatas dari daerah kota-kota besar. Delay ini dihasilkan dari hitungan estimasi waktu pengiriman. Dan kota dengan rata-rata delay tertinggi ada pada daerah Colatina dan Linhares yang lumayan jauh dari kota besar seperti Sao Paulo.\n",
    "Dari data ini bisa dapat memberikan estimasi waktu pengiriman yang lebih akurat, sehingga meningkatkan kepuasan pelanggan. Dan mungkin dari data ini bisa mendorong untuk meningkatkan efisiensi logistik seperti menambah gudang di lokasi strategis."
   ]
  }
 ],
 "metadata": {
  "colab": {
   "provenance": []
  },
  "kernelspec": {
   "display_name": "DBS-Jcyqc6C0",
   "language": "python",
   "name": "python3"
  },
  "language_info": {
   "codemirror_mode": {
    "name": "ipython",
    "version": 3
   },
   "file_extension": ".py",
   "mimetype": "text/x-python",
   "name": "python",
   "nbconvert_exporter": "python",
   "pygments_lexer": "ipython3",
   "version": "3.12.8"
  },
  "vscode": {
   "interpreter": {
    "hash": "8175dc98394b4a343b201f4344dd4bc4babec532b7309e19dfec176233fdfaca"
   }
  }
 },
 "nbformat": 4,
 "nbformat_minor": 4
}
